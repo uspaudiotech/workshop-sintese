{
 "cells": [
  {
   "cell_type": "code",
   "execution_count": 17,
   "metadata": {},
   "outputs": [],
   "source": [
    "# Instale as dependências\n",
    "\n",
    "import numpy as np\n",
    "import matplotlib.pyplot as plt\n",
    "from IPython.display import Audio\n",
    "from ipywidgets import interactive\n",
    "import ipywidgets as widgets"
   ]
  },
  {
   "cell_type": "markdown",
   "metadata": {},
   "source": [
    "## Som e Sinal\n",
    "\n",
    "Vamos ganhar intuição sobre o que é som e o que é sinal sonoro. Essas definições são importantes para entendermos o que estamos fazendo quando sintetizamos áudio digital.\n",
    "\n",
    "### O que é som?\n",
    "\n",
    "**Som** é um fenômeno físico que ocorre quando moléculas de ar (ou outro meio elástico) se comprimem e rarefazem rapidamente.\n",
    "\n",
    "Alto-falantes, por exemplo, movem-se para frente e para trás rapidamente, comprimindo e rarefazendo o ar, criando som.\n",
    "\n",
    "### O que é sinal sonoro?\n",
    "\n",
    "Vamos tratar um **sinal sonoro** como uma função matemática que descreve a variação de pressão do ar/tensão elétrica ao longo do tempo.\n",
    "\n",
    "Um sinal sonoro é **analógico** quando a função está definida para todos os instantes no tempo. Ou seja, o sinal sonoro é **contínuo**.\n",
    "\n",
    "Um sinal sonoro é **digital** quando a função está definida apenas para uma lista finita de instantes no tempo. Ou seja, o sinal sonoro é **discreto**."
   ]
  },
  {
   "cell_type": "markdown",
   "metadata": {},
   "source": [
    "## Amostragem\n",
    "\n",
    "**Amostragem** é o processo de discretização do sinal no eixo do **tempo**.\n",
    "\n",
    "Definimos a **taxa de amostragem** como o número de amostras por segundo. A unidade de medida é **Hertz** (Hz). É comum vermos taxas de amostragem de 44.1 kHz, 48 kHz, 96 kHz, etc.\n",
    " \n",
    "## Quantização\n",
    "\n",
    "**Quantização** é o processo de discretização do sinal no eixo da **amplitude**.\n",
    "\n",
    "Definimos a **resolução** como o número de níveis de amplitude possíveis. A unidade de medida é **bits**. É comum vermos resoluções de potência de 2, como 8 bits, 16 bits, 24 bits, etc."
   ]
  },
  {
   "cell_type": "code",
   "execution_count": 26,
   "metadata": {},
   "outputs": [
    {
     "data": {
      "application/vnd.jupyter.widget-view+json": {
       "model_id": "9ad48aa8190c42819df647132d4013d8",
       "version_major": 2,
       "version_minor": 0
      },
      "text/plain": [
       "interactive(children=(IntSlider(value=1000, description='samples', max=1000), IntSlider(value=32, description=…"
      ]
     },
     "metadata": {},
     "output_type": "display_data"
    }
   ],
   "source": [
    "# Ambiente interativo para a visualização de um sinal\n",
    "\n",
    "def plot_signal(samples=44100, bits=16, freq=440):\n",
    "    # Sinal contínuo\n",
    "    # t = np.linspace(0, 1, 1000)\n",
    "    # original = np.sin(2 * np.pi * freq * t)\n",
    "    \n",
    "    # Sinal amostrado\n",
    "    t_sampled = np.linspace(0, 1, samples)\n",
    "    sampled = np.sin(2 * np.pi * freq * t_sampled)\n",
    "    \n",
    "    # Quantização\n",
    "    levels = 2**bits\n",
    "    quantized = np.round(sampled * (levels/2)) / (levels/2)\n",
    "    \n",
    "    # Plot\n",
    "    plt.figure(figsize=(18, 6))\n",
    "    # plt.plot(t, original, 'b-', label='Sinal Original', alpha=0.5)\n",
    "    plt.plot(t_sampled, quantized, 'r.', label='Sinal Digital')\n",
    "    plt.grid(True)\n",
    "    plt.xlabel('Tempo (s)')\n",
    "    plt.ylabel('Amplitude')\n",
    "    plt.title(f'Senoide - {freq} Hz, {bits} bits')\n",
    "    plt.legend()\n",
    "    plt.show()\n",
    "\n",
    "# Interface interativa\n",
    "interactive_plot = interactive(\n",
    "    plot_signal,\n",
    "    samples=widgets.IntSlider(min=0, max=1000, step=1, value=44100),\n",
    "    bits=widgets.IntSlider(min=1, max=32, step=1, value=32),\n",
    "    freq=widgets.IntSlider(min=1, max=10, step=1, value=1)\n",
    ")\n",
    "display(interactive_plot)"
   ]
  },
  {
   "cell_type": "markdown",
   "metadata": {},
   "source": [
    "## Sinais elementares\n",
    "\n",
    "### Ruídos\n",
    "\n",
    "### Sinais periódicos\n",
    "\n",
    "Os sinais periódicos elementares são as **ondas senoidais**, **ondas quadradas** e **ondas triangulares**."
   ]
  }
 ],
 "metadata": {
  "kernelspec": {
   "display_name": "venv",
   "language": "python",
   "name": "python3"
  },
  "language_info": {
   "codemirror_mode": {
    "name": "ipython",
    "version": 3
   },
   "file_extension": ".py",
   "mimetype": "text/x-python",
   "name": "python",
   "nbconvert_exporter": "python",
   "pygments_lexer": "ipython3",
   "version": "3.10.12"
  }
 },
 "nbformat": 4,
 "nbformat_minor": 2
}
