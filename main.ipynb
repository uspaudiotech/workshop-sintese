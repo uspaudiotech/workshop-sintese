{
 "cells": [
  {
   "cell_type": "markdown",
   "metadata": {},
   "source": [
    "# Do Zero ao Som: Criando Áudio Digital com Python"
   ]
  },
  {
   "cell_type": "code",
   "execution_count": null,
   "metadata": {},
   "outputs": [],
   "source": [
    "# Instale as dependências\n",
    "\n",
    "import numpy as np\n",
    "import matplotlib.pyplot as plt\n",
    "import IPython"
   ]
  },
  {
   "cell_type": "markdown",
   "metadata": {},
   "source": [
    "## Som e Sinal\n",
    "\n",
    "Vamos ganhar intuição sobre o que é som e o que é sinal sonoro. Essas definições são importantes para entendermos o que estamos fazendo quando sintetizamos áudio digital.\n",
    "\n",
    "### O que é som?\n",
    "\n",
    "**Som** é um fenômeno físico que ocorre quando moléculas de ar (ou outro meio elástico) se comprimem e rarefazem rapidamente.\n",
    "\n",
    "Alto-falantes, por exemplo, movem-se para frente e para trás rapidamente, comprimindo e rarefazendo o ar, criando som.\n",
    "\n",
    "### O que é sinal sonoro?\n",
    "\n",
    "Vamos tratar um **sinal sonoro** como uma função matemática que descreve a variação de pressão do ar/tensão elétrica ao longo do tempo.\n",
    "\n",
    "Um sinal sonoro é **analógico** quando a função está definida para todos os instantes no tempo. Ou seja, o sinal sonoro é **contínuo**.\n",
    "\n",
    "Um sinal sonoro é **digital** quando a função está definida apenas para uma lista finita de instantes no tempo. Ou seja, o sinal sonoro é **discreto**."
   ]
  },
  {
   "cell_type": "code",
   "execution_count": null,
   "metadata": {},
   "outputs": [],
   "source": [
    "# Ambiente interativo para a visualização de um sinal"
   ]
  },
  {
   "cell_type": "markdown",
   "metadata": {},
   "source": [
    "## Amostragem\n",
    "\n",
    "**Amostragem** é o processo de discretização do sinal no eixo do **tempo**.\n",
    "\n",
    "Definimos a **taxa de amostragem** como o número de amostras por segundo. A unidade de medida é **Hertz** (Hz)."
   ]
  },
  {
   "cell_type": "markdown",
   "metadata": {},
   "source": [
    "## Quantização\n",
    "\n",
    "**Quantização** é o processo de discretização do sinal no eixo da **amplitude**."
   ]
  },
  {
   "cell_type": "markdown",
   "metadata": {},
   "source": [
    "## Sinais elementares\n",
    "\n",
    "### Ruídos\n",
    "\n",
    "### Sinais periódicos\n",
    "\n",
    "Os sinais periódicos elementares são as **ondas senoidais**, **ondas quadradas** e **ondas triangulares**."
   ]
  }
 ],
 "metadata": {
  "kernelspec": {
   "display_name": "Python 3",
   "language": "python",
   "name": "python3"
  },
  "language_info": {
   "codemirror_mode": {
    "name": "ipython",
    "version": 3
   },
   "file_extension": ".py",
   "mimetype": "text/x-python",
   "name": "python",
   "nbconvert_exporter": "python",
   "pygments_lexer": "ipython3",
   "version": "3.10.12"
  }
 },
 "nbformat": 4,
 "nbformat_minor": 2
}
