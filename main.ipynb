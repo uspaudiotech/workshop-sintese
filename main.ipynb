{
 "cells": [
  {
   "cell_type": "markdown",
   "metadata": {},
   "source": [
    "# Do Zero ao Som: Criando Áudio Digital com Python"
   ]
  },
  {
   "cell_type": "code",
   "execution_count": 57,
   "metadata": {},
   "outputs": [],
   "source": [
    "# Antes de tudo, instale as dependências\n",
    "\n",
    "import numpy as np\n",
    "import matplotlib.pyplot as plt\n",
    "from IPython.display import Audio, display\n",
    "import ipywidgets as widgets\n",
    "from ipywidgets import interactive\n",
    "from scipy.io import wavfile\n",
    "from scipy import signal\n",
    "from abc import ABC, abstractmethod"
   ]
  },
  {
   "cell_type": "markdown",
   "metadata": {},
   "source": [
    "## Introdução\n",
    "\n",
    "> *Como o computador processa uma música digitalmente?*\n",
    ">\n",
    "> *Como podemos entender uma representação digital de um sinal de áudio?*\n",
    ">\n",
    "> *Como sintetizadores digitais são desenvolvidos?*\n",
    "\n",
    "Neste workshop, vamos entender um pouco sobre o que é um sinal de áudio digital e como podemos criar sons a partir do zero utilizando Python. Tudo isso de maneira interativa e prática.\n",
    "\n",
    "Divirta-se!"
   ]
  },
  {
   "cell_type": "markdown",
   "metadata": {},
   "source": [
    "## Som e Sinal\n",
    "\n",
    "Vamos ganhar uma intuição intuição inicial sobre o que é som e o que é sinal sonoro. Essas definições são importantes para entendermos o que estamos fazendo quando mexemos com áudio digital.\n",
    "\n",
    "### O que é som?\n",
    "\n",
    "**Som** é um fenômeno físico que ocorre quando moléculas de ar (ou outro meio elástico) se comprimem e rarefazem rapidamente.\n",
    "Alto-falantes, por exemplo, movem-se para frente e para trás rapidamente, comprimindo e rarefazendo o ar, criando som.\n",
    "Por sua vez, nossos ouvidos são capazes de captar essas variações de pressão do ar e transformá-las em sinais elétricos que são enviados ao nosso cérebro.\n",
    "\n",
    "Podemos modelar esse movimento do ar com a ajuda de computadores e da matemática.\n",
    "\n",
    "### O que é sinal sonoro?\n",
    "\n",
    "Um **sinal sonoro** pode ser entendido como uma função matemática que descreve a **variação** de pressão do ar ou tensão elétrica ao longo do tempo.\n",
    "Podemos visualizar um sinal sonoro com um gráfico onde o eixo horizontal representa o tempo e o eixo vertical representa a amplitude do som em cada instante de tempo.\n",
    "\n",
    "Caso você nunca tenha visto a onda de uma música antes, observe o sinal dos primeiros 60 segundos da música \"*No Ordinary Love*\" da cantora Sade no software Ableton Live."
   ]
  },
  {
   "cell_type": "markdown",
   "metadata": {},
   "source": [
    "> *This is no ordinary love...*"
   ]
  },
  {
   "cell_type": "markdown",
   "metadata": {},
   "source": [
    "### Sinais analógicos e digitais\n",
    "\n",
    "Consegue perceber que temos vários pontos no gráfico da onda sonora? Cada um desses pontos representa a intensidade do som em um instante de tempo.\n",
    "Por isso, podemos dizer que esse sinal sonoro é **discreto** ou **digital**.\n",
    "\n",
    "Portanto, podemos imaginar um arquivo de áudio como uma grande lista de números."
   ]
  },
  {
   "cell_type": "code",
   "execution_count": 58,
   "metadata": {},
   "outputs": [
    {
     "name": "stdout",
     "output_type": "stream",
     "text": [
      "int16\n",
      "[[-11313 -14304]\n",
      " [-10939 -14153]\n",
      " [-11831 -14842]\n",
      " [-12245 -15099]\n",
      " [-11796 -14719]\n",
      " [-11042 -13983]\n",
      " [-11059 -13645]\n",
      " [-10910 -13119]\n",
      " [ -9690 -11869]\n",
      " [ -9067 -11190]]\n"
     ]
    }
   ],
   "source": [
    "sample_rate, audio_file = wavfile.read('Sade-No_Ordinary_Love-60s.wav')\n",
    "\n",
    "# Mostra o NumPy Dtype\n",
    "print(audio_file.dtype) # int16, de [-32768, +32767]\n",
    "\n",
    "# Imprime uma parte do arquivo de áudio\n",
    "print(audio_file[480000:480000+10])"
   ]
  },
  {
   "cell_type": "markdown",
   "metadata": {},
   "source": [
    "> Dizemos que um sinal sonoro é **analógico** quando a função está definida para todos os instantes no tempo. Ou seja, o sinal sonoro é **contínuo**. Sinais analógicos estão presentes no mundo real, como o som que ouvimos, e também em equipamentos de áudio, como microfones e alto-falantes.\n",
    ">\n",
    "> Dizemos que um sinal sonoro é **digital** quando a função está definida apenas para uma lista finita de instantes no tempo. Ou seja, o sinal sonoro é **discreto**. Sinais digitais são utilizados em computadores e equipamentos digitais."
   ]
  },
  {
   "cell_type": "markdown",
   "metadata": {},
   "source": [
    "## Amostragem e Quantização\n",
    "\n",
    "Agora sabemos que um sinal sonoro digital é discretizado no eixo do tempo e também no eixo da amplitude. Mas como isso é feito? Vamos entender um pouco sobre **amostragem** e **quantização**.\n",
    "\n",
    "> **Amostragem** é o processo de discretização do sinal no eixo do **tempo**.\n",
    "> Definimos a **taxa de amostragem** como o número de amostras por segundo. A unidade de medida é **Hertz** (Hz). É comum vermos taxas de amostragem de 44.1 kHz, 48 kHz, 96 kHz, etc.\n",
    "\n",
    "> **Quantização** é o processo de discretização do sinal no eixo da **amplitude**.\n",
    "> Definimos a **resolução** como o número de níveis de amplitude possíveis. A unidade de medida é **bits**. É comum vermos resoluções de potência de 2, como 8 bits, 16 bits, 24 bits, etc.\n",
    "\n",
    "Abaixo está um ambiente interativo para você experimentar como uma onda senoidal muda com diferentes frequências, taxas de amostragem e resoluções."
   ]
  },
  {
   "cell_type": "code",
   "execution_count": 59,
   "metadata": {},
   "outputs": [
    {
     "data": {
      "application/vnd.jupyter.widget-view+json": {
       "model_id": "06bb1a2a26f54664aac358c6b6198744",
       "version_major": 2,
       "version_minor": 0
      },
      "text/plain": [
       "interactive(children=(IntSlider(value=1000, description='taxa_amostragem', max=1000, min=1, step=100), IntSlid…"
      ]
     },
     "metadata": {},
     "output_type": "display_data"
    }
   ],
   "source": [
    "def visualiza_amostragem_e_quantizacao(taxa_amostragem=1000, bits=16, freq=1, mostrar_continuo=False):\n",
    "    # Parâmetros para visualização\n",
    "    duracao = 1.0\n",
    "    \n",
    "    # Sinal contínuo (com mais pontos para parecer contínuo)\n",
    "    t_continuo = np.linspace(0, duracao, 10000)\n",
    "    sinal_continuo = np.sin(2 * np.pi * freq * t_continuo)\n",
    "    \n",
    "    # Amostragem\n",
    "    t_amostrado = np.linspace(0, duracao, int(taxa_amostragem * duracao))\n",
    "    onda = np.sin(2 * np.pi * freq * t_amostrado)\n",
    "    \n",
    "    # Quantização\n",
    "    resolucao = 2**bits\n",
    "    onda_quantizada = -1 + 2**(-bits) + 2*np.floor((resolucao-1e-8) * (0.5 + 0.5*onda)) / (resolucao)\n",
    "    \n",
    "    # Cria o gráfico\n",
    "    plt.figure(figsize=(18, 6))\n",
    "    \n",
    "    # Mostra o sinal contínuo se o toggle estiver ativado\n",
    "    if mostrar_continuo:\n",
    "        plt.plot(t_continuo, sinal_continuo, 'b-', label='Sinal Contínuo', alpha=0.5)\n",
    "    \n",
    "    plt.plot(t_amostrado, onda_quantizada, 'r.', label='Sinal Digital')\n",
    "    \n",
    "    # Adiciona linhas verticais tracejadas para indicar os pontos de amostragem\n",
    "    if mostrar_continuo and len(t_amostrado) < 100:  # Limita para não sobrecarregar o gráfico\n",
    "        for i in range(len(t_amostrado)):\n",
    "            plt.axvline(x=t_amostrado[i], color='gray', linestyle='--', alpha=0.3)\n",
    "    \n",
    "    plt.grid(True)\n",
    "    plt.xlabel('Tempo (s)')\n",
    "    plt.ylabel('Amplitude')\n",
    "    plt.title(f'Senoide ({freq} Hz) - {taxa_amostragem} Hz de amostragem, {bits} bits de resolução')\n",
    "    plt.legend()\n",
    "    plt.show()\n",
    "    \n",
    "    # Gera sinal completo para reprodução\n",
    "    # t_completo = np.linspace(0, 1, taxa_amostragem)\n",
    "    # onda_completa = np.sin(2 * np.pi * freq * t_completo)\n",
    "    # onda_quantizada_completa = np.round(onda_completa * (resolucao / 2)) / (resolucao / 2)\n",
    "    \n",
    "    # Reproduz o áudio\n",
    "    display(Audio(onda_quantizada, rate=taxa_amostragem))\n",
    "\n",
    "# Cria a interface interativa\n",
    "interactive_plot = interactive(\n",
    "    visualiza_amostragem_e_quantizacao,\n",
    "    taxa_amostragem=widgets.IntSlider(min=1, max=1000, step=100, value=1000),\n",
    "    bits=widgets.IntSlider(min=1, max=16, step=1, value=16),\n",
    "    freq=widgets.IntSlider(min=1, max=440, step=10, value=1),\n",
    "    mostrar_continuo=widgets.Checkbox(value=False, description='Mostrar sinal contínuo')\n",
    ")\n",
    "display(interactive_plot)"
   ]
  },
  {
   "cell_type": "markdown",
   "metadata": {},
   "source": [
    "### Frequência de Nyquist"
   ]
  },
  {
   "cell_type": "markdown",
   "metadata": {},
   "source": [
    "## Sinais elementares\n",
    "\n",
    "Vamos estudar alguns sinais elementares que são importantes para entendermos o som: **ruídos** e **sinais periódicos**."
   ]
  },
  {
   "cell_type": "markdown",
   "metadata": {},
   "source": [
    "### Ruídos\n",
    "\n",
    "Em computação musical, **ruído** não possui uma definição categórica, mas é comum entendermos ele como um sinal sonoro que:\n",
    "\n",
    "* Não possui uma altura musical definida\n",
    "* Não costuma ser periódico\n",
    "\n",
    "Uma caracterização comum de ruídos é por sua **densidade espectral**, ou seja, a distribuição de energia do sinal em função da frequência. Esses ruídos possuem nomes de cores, como **branco**, **vermelho**, **rosa**, etc.\n",
    "\n",
    "Vamos sintetizar e ouvir os ruídos branco e vermelho."
   ]
  },
  {
   "cell_type": "markdown",
   "metadata": {},
   "source": [
    "**ATENÇÃO: ABAIXE (MUITO) O VOLUME DO SEU COMPUTADOR ANTES DE OUVIR OS ÁUDIOS.**"
   ]
  },
  {
   "cell_type": "code",
   "execution_count": 60,
   "metadata": {},
   "outputs": [],
   "source": [
    "# Vamos definir uma variável global para a taxa de amostragem\n",
    "taxa_amostragem = 44100"
   ]
  },
  {
   "cell_type": "code",
   "execution_count": 137,
   "metadata": {},
   "outputs": [],
   "source": [
    "class Ruido(ABC):\n",
    "    def __init__(self, amp=1.0, duracao=1.0, freq=None):\n",
    "        self.amp     = amp\n",
    "        self.duracao = duracao\n",
    "        self.freq    = freq\n",
    "        self.sinal   = self.gera_sinal(amp=self.amp, duracao=self.duracao)\n",
    "    \n",
    "    @abstractmethod\n",
    "    def gera_sinal(self, amp=1.0, duracao=1.0, freq=None):\n",
    "        pass\n",
    "    \n",
    "    def cria_ambiente_interativo(self):\n",
    "        def ruido_wrapper(amp, duracao):\n",
    "            # Gera o sinal\n",
    "            t = np.linspace(0, duracao, int(taxa_amostragem * duracao))\n",
    "            self.sinal = self.gera_sinal(amp=amp, duracao=duracao, freq=None)\n",
    "            \n",
    "            # Gera o gráfico\n",
    "            plt.figure(figsize=(24, 6))\n",
    "            plt.plot(t, self.sinal, 'b-')\n",
    "            plt.grid(True)\n",
    "            plt.xlabel('Tempo (s)')\n",
    "            plt.ylabel('Amplitude')\n",
    "            plt.ylim(-1.1, 1.1)\n",
    "            plt.title('Sinal de Ruído')\n",
    "            plt.show()\n",
    "            \n",
    "            # Reproduz o áudio\n",
    "            display(Audio(self.sinal, rate=taxa_amostragem))\n",
    "        \n",
    "        # Cria o ambiente interativo\n",
    "        interactive_plot = interactive(\n",
    "            ruido_wrapper,\n",
    "            amp=widgets.FloatSlider(min=0.1, max=1.0, step=0.1, value=self.amp),\n",
    "            duracao=widgets.FloatSlider(min=0.1, max=2.0, step=0.1, value=self.duracao)\n",
    "        )\n",
    "        display(interactive_plot) "
   ]
  },
  {
   "cell_type": "markdown",
   "metadata": {},
   "source": [
    "#### Ruído branco\n",
    "\n",
    "O **ruído branco** é um sinal sonoro que possui energia uniformemente distribuída em todas as frequências audíveis.\n",
    "\n",
    "Talvez você já tenha ouvido ruído branco em um rádio fora de sintonia ou em uma televisão sem sinal. Cuidado, pois esse som pode te incomodar muito!\n",
    "\n",
    "Vamos sintetizar um ruído branco e ouvi-lo:"
   ]
  },
  {
   "cell_type": "code",
   "execution_count": 138,
   "metadata": {},
   "outputs": [],
   "source": [
    "class RuidoBranco(Ruido):\n",
    "    def __init__(self, amp=1.0, duracao=1.0, freq=None):\n",
    "        super().__init__(amp=amp, duracao=duracao, freq=None)\n",
    "    \n",
    "    def gera_sinal(self, amp=1.0, duracao=1.0, freq=None):\n",
    "        amostras = int(taxa_amostragem * duracao)\n",
    "        return amp * np.random.uniform(-1, 1, amostras)"
   ]
  },
  {
   "cell_type": "code",
   "execution_count": 139,
   "metadata": {},
   "outputs": [
    {
     "data": {
      "application/vnd.jupyter.widget-view+json": {
       "model_id": "cd084b7b8c524b419352c5a326da78fb",
       "version_major": 2,
       "version_minor": 0
      },
      "text/plain": [
       "interactive(children=(FloatSlider(value=0.5, description='amp', max=1.0, min=0.1), FloatSlider(value=1.0, desc…"
      ]
     },
     "metadata": {},
     "output_type": "display_data"
    }
   ],
   "source": [
    "ruido_branco = RuidoBranco(amp=0.5, duracao=1.0)\n",
    "ruido_branco.cria_ambiente_interativo()"
   ]
  },
  {
   "cell_type": "markdown",
   "metadata": {},
   "source": [
    "#### Ruído vermelho\n",
    "\n",
    "O **ruído vermelho** é um ruído que possui energia inversamente proporcional à frequência. Isso significa que ele possui mais energia em frequências baixas e menos energia em frequências altas.\n",
    "\n",
    "O ruído vermelho é um ruído mais agradável de se ouvir do que o ruído branco.\n",
    "\n",
    "Vamos sintetizar um ruído vermelho e ouvi-lo:"
   ]
  },
  {
   "cell_type": "code",
   "execution_count": 140,
   "metadata": {},
   "outputs": [],
   "source": [
    "class RuidoVermelho(Ruido):\n",
    "    def __init__(self, amp=1.0, duracao=1.0, freq=None):\n",
    "        super().__init__(amp=amp, duracao=duracao, freq=None)\n",
    "        \n",
    "    def gera_sinal(self, amp=1.0, duracao=1.0, freq=None):\n",
    "        amostras = int(taxa_amostragem * duracao)\n",
    "\n",
    "        branco = np.random.uniform(-1, 1, amostras) # O ruído vermelho é derivado do ruído branco\n",
    "\n",
    "        vermelho = np.zeros(1 * amostras)\n",
    "        vermelho[0] = branco[0] # Inicializa a primeira amostra\n",
    "\n",
    "        for i in range(1, amostras):\n",
    "            vermelho[i] = branco[i] + vermelho[i - 1]\n",
    "\n",
    "        vermelho = vermelho / np.max(np.abs(vermelho))\n",
    "        \n",
    "        vermelho = amp * vermelho # ajuste de amplitude\n",
    "\n",
    "        return vermelho"
   ]
  },
  {
   "cell_type": "code",
   "execution_count": 141,
   "metadata": {},
   "outputs": [
    {
     "data": {
      "application/vnd.jupyter.widget-view+json": {
       "model_id": "bbc005660e2d4ff68eda9a2dfb352da9",
       "version_major": 2,
       "version_minor": 0
      },
      "text/plain": [
       "interactive(children=(FloatSlider(value=1.0, description='amp', max=1.0, min=0.1), FloatSlider(value=1.0, desc…"
      ]
     },
     "metadata": {},
     "output_type": "display_data"
    }
   ],
   "source": [
    "ruido_vermelho = RuidoVermelho(amp=1.0, duracao=1.0)\n",
    "ruido_vermelho.cria_ambiente_interativo() "
   ]
  },
  {
   "cell_type": "markdown",
   "metadata": {},
   "source": [
    "#### *Qual a utilidade de ruídos na síntese sonora?*\n",
    "\n",
    "Podemos concordar que esses ruídos por si só não têm um aspecto musical (ou têm?). Entretanto, a partir de um ruído, podemos modificá-lo (com filtros, envelopes, efeitos, etc.) para criar sons mais complexos e também mais musicais. Vamos explorar isso mais adiante quando falarmos sobre envelopes ADSR."
   ]
  },
  {
   "cell_type": "markdown",
   "metadata": {},
   "source": [
    "### Sinais periódicos\n",
    "\n",
    "Os sinais periódicos elementares são as **ondas senoidais**, **ondas quadradas**, **ondas dente-de-serra** e **ondas triangulares** , cada um com suas características tonais."
   ]
  },
  {
   "cell_type": "code",
   "execution_count": 142,
   "metadata": {},
   "outputs": [],
   "source": [
    "class Onda(ABC):\n",
    "    def __init__(self, amp=1.0, duracao=1.0, freq=440):\n",
    "        self.amp     = amp\n",
    "        self.duracao = duracao\n",
    "        self.freq    = freq\n",
    "        self.sinal   = self.gera_sinal(self.amp, self.duracao, self.freq)\n",
    "    \n",
    "    @abstractmethod\n",
    "    def gera_sinal(self, amp=1.0, duracao=1.0, freq=440):\n",
    "        pass\n",
    "    \n",
    "    def cria_ambiente_interativo(self):\n",
    "        # Cria uma função wrapper para ser chamada pelo widget interativo\n",
    "        def periodico_wrapper(amp, duracao, freq):\n",
    "            t = np.linspace(0, duracao, int(taxa_amostragem * duracao))\n",
    "            self.sinal = self.gera_sinal(amp=amp, duracao=duracao, freq=freq)\n",
    "            \n",
    "            # Gera o gráfico\n",
    "            plt.figure(figsize=(24, 6))\n",
    "            plt.plot(t, self.sinal, 'b-', label='Onda')\n",
    "            plt.grid(True)\n",
    "            plt.xlabel('Tempo (s)')\n",
    "            plt.ylabel('Amplitude')\n",
    "            plt.ylim(-1.1, 1.1)\n",
    "            plt.title(f'Onda - {freq} Hz')\n",
    "            plt.legend()\n",
    "            plt.show()\n",
    "\n",
    "            # Reproduz o áudio\n",
    "            display(Audio(self.sinal, rate=taxa_amostragem))\n",
    "        \n",
    "        # Cria o ambiente interativo\n",
    "        interactive_plot = interactive(\n",
    "            periodico_wrapper,\n",
    "            amp=widgets.FloatSlider(min=0.1, max=1.0, step=0.1, value=self.amp),\n",
    "            duracao=widgets.FloatSlider(min=0.1, max=2.0, step=0.1, value=self.duracao),\n",
    "            freq=widgets.IntSlider(min=1, max=440, step=10, value=1)\n",
    "        )\n",
    "        display(interactive_plot)"
   ]
  },
  {
   "cell_type": "markdown",
   "metadata": {},
   "source": [
    "#### Onda senoidal\n",
    "\n",
    "A **onda senoidal** é um sinal sonoro "
   ]
  },
  {
   "cell_type": "code",
   "execution_count": 143,
   "metadata": {},
   "outputs": [],
   "source": [
    "class OndaSenoidal(Onda):\n",
    "    def __init__(self, amp=1.0, duracao=1.0, freq=440):\n",
    "        super().__init__(amp, duracao, freq)\n",
    "    \n",
    "    def gera_sinal(self, amp=1.0, duracao=1.0, freq=440):\n",
    "        amostras = int(taxa_amostragem * duracao)\n",
    "        t = np.linspace(0, duracao, amostras)\n",
    "        return amp * np.sin(2 * np.pi * freq * t)"
   ]
  },
  {
   "cell_type": "code",
   "execution_count": 144,
   "metadata": {},
   "outputs": [
    {
     "data": {
      "application/vnd.jupyter.widget-view+json": {
       "model_id": "9d1072d051254b40b7e447fbb45a9ffc",
       "version_major": 2,
       "version_minor": 0
      },
      "text/plain": [
       "interactive(children=(FloatSlider(value=1.0, description='amp', max=1.0, min=0.1), FloatSlider(value=1.0, desc…"
      ]
     },
     "metadata": {},
     "output_type": "display_data"
    }
   ],
   "source": [
    "onda_senoidal = OndaSenoidal()\n",
    "onda_senoidal.cria_ambiente_interativo()"
   ]
  },
  {
   "cell_type": "markdown",
   "metadata": {},
   "source": [
    "#### Onda quadrada\n",
    "\n",
    "A **onda quadrada** é um sinal sonoro "
   ]
  },
  {
   "cell_type": "code",
   "execution_count": 145,
   "metadata": {},
   "outputs": [],
   "source": [
    "class OndaQuadrada(Onda):\n",
    "    def __init__(self, amp=1.0, duracao=1.0, freq=440):\n",
    "        super().__init__(amp=amp, duracao=duracao, freq=freq)\n",
    "\n",
    "    def gera_sinal(self, amp=1.0, duracao=1.0, freq=1):\n",
    "        amostras = int(taxa_amostragem * duracao)\n",
    "        t = np.linspace(0, duracao, amostras)\n",
    "        return amp * signal.square(2 * np.pi * freq * t)"
   ]
  },
  {
   "cell_type": "code",
   "execution_count": 146,
   "metadata": {},
   "outputs": [
    {
     "data": {
      "application/vnd.jupyter.widget-view+json": {
       "model_id": "ef90262e8c984e9c90de1498eeea87d6",
       "version_major": 2,
       "version_minor": 0
      },
      "text/plain": [
       "interactive(children=(FloatSlider(value=1.0, description='amp', max=1.0, min=0.1), FloatSlider(value=1.0, desc…"
      ]
     },
     "metadata": {},
     "output_type": "display_data"
    }
   ],
   "source": [
    "onda_quadrada = OndaQuadrada()\n",
    "onda_quadrada.cria_ambiente_interativo()"
   ]
  },
  {
   "cell_type": "markdown",
   "metadata": {},
   "source": [
    "#### Onda dente-de-serra\n",
    "\n",
    "A **onda dente-de-serra** é um sinal sonoro"
   ]
  },
  {
   "cell_type": "code",
   "execution_count": 147,
   "metadata": {},
   "outputs": [],
   "source": [
    "class OndaDenteDeSerra(Onda):\n",
    "    def __init__(self, amp=1.0, duracao=1.0, freq=440):\n",
    "        super().__init__(amp=amp, duracao=duracao, freq=freq)\n",
    "\n",
    "    def gera_sinal(self, amp=1.0, duracao=1.0, freq=1):\n",
    "        amostras = int(taxa_amostragem * duracao)\n",
    "        t = np.linspace(0, duracao, amostras)\n",
    "        return amp * signal.sawtooth(2 * np.pi * freq * t)"
   ]
  },
  {
   "cell_type": "code",
   "execution_count": 148,
   "metadata": {},
   "outputs": [
    {
     "data": {
      "application/vnd.jupyter.widget-view+json": {
       "model_id": "9f883d79c8b94ad796bb01c19496ac5b",
       "version_major": 2,
       "version_minor": 0
      },
      "text/plain": [
       "interactive(children=(FloatSlider(value=1.0, description='amp', max=1.0, min=0.1), FloatSlider(value=1.0, desc…"
      ]
     },
     "metadata": {},
     "output_type": "display_data"
    }
   ],
   "source": [
    "onda_dente_de_serra = OndaDenteDeSerra()\n",
    "onda_dente_de_serra.cria_ambiente_interativo()"
   ]
  },
  {
   "cell_type": "markdown",
   "metadata": {},
   "source": [
    "#### Onda triangular\n",
    "\n",
    "A **onda triangular** é um sinal sonoro "
   ]
  },
  {
   "cell_type": "code",
   "execution_count": 149,
   "metadata": {},
   "outputs": [],
   "source": [
    "class OndaTriangular(Onda):\n",
    "    def __init__(self, amp=1.0, duracao=1.0, freq=440):\n",
    "        super().__init__(amp=amp, duracao=duracao, freq=freq)\n",
    "\n",
    "    def gera_sinal(self, amp=1.0, duracao=1.0, freq=1):\n",
    "        amostras = int(taxa_amostragem * duracao)\n",
    "        t = np.linspace(0, duracao, amostras)\n",
    "        return amp * signal.sawtooth(2 * np.pi * freq * t, width=0.5)"
   ]
  },
  {
   "cell_type": "code",
   "execution_count": 150,
   "metadata": {},
   "outputs": [
    {
     "data": {
      "application/vnd.jupyter.widget-view+json": {
       "model_id": "7c66a657a14c4334a9b9478a571b2826",
       "version_major": 2,
       "version_minor": 0
      },
      "text/plain": [
       "interactive(children=(FloatSlider(value=1.0, description='amp', max=1.0, min=0.1), FloatSlider(value=1.0, desc…"
      ]
     },
     "metadata": {},
     "output_type": "display_data"
    }
   ],
   "source": [
    "onda_triangular = OndaTriangular()\n",
    "onda_triangular.cria_ambiente_interativo()"
   ]
  },
  {
   "cell_type": "markdown",
   "metadata": {},
   "source": [
    "## ADSR\n",
    "\n",
    "O som de um instrumento musical não é composto apenas pelo seu caráter harmônico, mas também pela sua **variação dinâmica** ao longo do tempo.\n",
    "\n",
    "---\n",
    "\n",
    "*O quanto demora para o som atingir o volume máximo?*\n",
    "\n",
    "*O quanto demora para o som atingir o volume mínimo?*\n",
    "\n",
    "*O quanto o som mantém o volume máximo?*\n",
    "\n",
    "*O quanto demora para o som atingir o volume zero?*\n",
    "\n",
    "---\n",
    "\n",
    "Essas perguntas são respondidas pelo conceito de **envelope sonoro**.\n",
    "\n",
    "Um **envelope sonoro** é uma função que descreve a variação da amplitude de um sinal ao longo do tempo.\n",
    "\n",
    "Um dos envelopes mais usados no mundo da síntese sonora é o **ADSR**, um acrônimo para **Attack**, **Decay**, **Sustain** e **Release**. Aplicado a um sinal sonoro, o ADSR colabora para a percepção um som como parte de um \"instrumento musical\".\n",
    "\n",
    "Vamos ouvir alguns exemplos de ADSR em ação."
   ]
  },
  {
   "cell_type": "markdown",
   "metadata": {},
   "source": [
    "> *Hora de abrir o Ableton Live...*"
   ]
  },
  {
   "cell_type": "markdown",
   "metadata": {},
   "source": [
    "Vamos estudar cada uma das etapas do ADSR:\n",
    "\n",
    "1. **Attack**: é o tempo que o sinal leva para atingir o seu valor máximo. O ataque é o início do som.\n",
    "2. **Decay**: é o tempo que o sinal leva para atingir o valor de sustentação.\n",
    "3. **Sustain**: é o valor que o sinal mantém enquanto a tecla do instrumento é pressionada.\n",
    "4. **Release**: é o tempo que o sinal leva para atingir o valor zero após a tecla do instrumento ser solta.\n",
    "\n",
    "Podemos modelar cada uma dessas etapas com funções matemáticas. Para fins didáticos, vamos simplificar essas funções para funções lineares."
   ]
  },
  {
   "cell_type": "code",
   "execution_count": null,
   "metadata": {},
   "outputs": [],
   "source": [
    "class ADSR:\n",
    "    def __init__(self, a=0.1, d=0.1, s=0.7, r=0.2, sinal=onda_senoidal):\n",
    "        self.attack = a\n",
    "        self.decay = d\n",
    "        self.sustain = s\n",
    "        self.release = r\n",
    "        self.sinal = sinal\n",
    "    \n",
    "    def aplica_envelope(self, sinal):\n",
    "        # Cria uma cópia do sinal para não modificar o original\n",
    "        sinal_adsr = np.copy(sinal)\n",
    "        \n",
    "        # Obtém o número de amostras total\n",
    "        num_amostras = len(sinal)\n",
    "        \n",
    "        # Converte tempos para número de amostras\n",
    "        a_samples = int(self.attack * taxa_amostragem)\n",
    "        d_samples = int(self.decay * taxa_amostragem)\n",
    "        r_samples = int(self.release * taxa_amostragem)\n",
    "        \n",
    "        # Calcula o ponto de sustain\n",
    "        sustain_start = a_samples + d_samples\n",
    "        sustain_end = num_amostras - r_samples\n",
    "        \n",
    "        # Envelope ADSR\n",
    "        envelope = np.ones(num_amostras)\n",
    "        \n",
    "        # Ataque (crescimento linear de 0 a 1)\n",
    "        if a_samples > 0:\n",
    "            envelope[:a_samples] = np.linspace(0, 1, a_samples)\n",
    "        \n",
    "        # Decay (decrescimento linear de 1 a s)\n",
    "        if d_samples > 0:\n",
    "            envelope[a_samples:sustain_start] = np.linspace(1, self.sustain, d_samples)\n",
    "        \n",
    "        # Sustain (valor constante s)\n",
    "        envelope[sustain_start:sustain_end] = self.sustain\n",
    "        \n",
    "        # Release (decrescimento linear de s a 0)\n",
    "        if r_samples > 0:\n",
    "            envelope[sustain_end:] = np.linspace(self.sustain, 0, r_samples)\n",
    "        \n",
    "        # Aplica o envelope ao sinal\n",
    "        sinal_adsr = sinal_adsr * envelope\n",
    "        \n",
    "        return sinal_adsr\n",
    "    \n",
    "    def cria_ambiente_interativo(self):\n",
    "        # Cria uma função wrapper para ser chamada pelo widget interativo\n",
    "        def adsr_wrapper(attack, decay, sustain, release, sinal):\n",
    "            # Atualiza os parâmetros\n",
    "            self.attack = attack\n",
    "            self.decay = decay\n",
    "            self.sustain = sustain\n",
    "            self.release = release\n",
    "            self.sinal = sinal \n",
    "            \n",
    "            # Gera um sinal\n",
    "            sinal = self.sinal.gera_sinal(freq=440, duracao=1.0)\n",
    "            \n",
    "            # Aplica o envelope ADSR\n",
    "            sinal_adsr = self.aplica_envelope(sinal)\n",
    "            \n",
    "            # Gera o gráfico\n",
    "            plt.figure(figsize=(18, 6))\n",
    "            plt.plot(sinal, 'b-', label='Sinal Original')\n",
    "            plt.plot(sinal_adsr, 'r-', label='Sinal ADSR')\n",
    "            plt.grid(True)\n",
    "            plt.xlabel('Amostras')\n",
    "            plt.ylabel('Amplitude')\n",
    "            plt.ylim(-1.1, 1.1)\n",
    "            plt.title('Sinal com Envelope ADSR')\n",
    "            plt.legend()\n",
    "            plt.show()\n",
    "            \n",
    "            # Reproduz o sinal\n",
    "            display(Audio(sinal_adsr, rate=taxa_amostragem))\n",
    "        \n",
    "        # Cria o ambiente interativo\n",
    "        interactive_plot = interactive(\n",
    "            adsr_wrapper,\n",
    "            attack=widgets.FloatSlider(min=0.0, max=1.0, step=0.01, value=self.attack),\n",
    "            decay=widgets.FloatSlider(min=0.0, max=1.0, step=0.01, value=self.decay),\n",
    "            sustain=widgets.FloatSlider(min=0.0, max=1.0, step=0.01, value=self.sustain),\n",
    "            release=widgets.FloatSlider(min=0.0, max=1.0, step=0.01, value=self.release),\n",
    "            sinal=widgets.Dropdown(\n",
    "                options={\n",
    "                    'Ruído Branco': ruido_branco,\n",
    "                    'Ruído Vermelho': ruido_vermelho,\n",
    "                    'Senoidal': onda_senoidal,\n",
    "                    'Quadrada': onda_quadrada,\n",
    "                    'Dente de Serra': onda_dente_de_serra,\n",
    "                    'Triangular': onda_triangular\n",
    "                },\n",
    "                value=self.sinal,\n",
    "                description='Sinal:'\n",
    "            )\n",
    "        )\n",
    "        display(interactive_plot)"
   ]
  },
  {
   "cell_type": "code",
   "execution_count": 152,
   "metadata": {},
   "outputs": [
    {
     "data": {
      "application/vnd.jupyter.widget-view+json": {
       "model_id": "bc2dc3de95e9417c91f8153d1804a74c",
       "version_major": 2,
       "version_minor": 0
      },
      "text/plain": [
       "interactive(children=(FloatSlider(value=0.1, description='attack', max=1.0, step=0.01), FloatSlider(value=0.1,…"
      ]
     },
     "metadata": {},
     "output_type": "display_data"
    }
   ],
   "source": [
    "adsr = ADSR()\n",
    "adsr.cria_ambiente_interativo()"
   ]
  },
  {
   "cell_type": "markdown",
   "metadata": {},
   "source": [
    "## Modulação AM"
   ]
  },
  {
   "cell_type": "markdown",
   "metadata": {},
   "source": []
  }
 ],
 "metadata": {
  "kernelspec": {
   "display_name": "venv",
   "language": "python",
   "name": "python3"
  },
  "language_info": {
   "codemirror_mode": {
    "name": "ipython",
    "version": 3
   },
   "file_extension": ".py",
   "mimetype": "text/x-python",
   "name": "python",
   "nbconvert_exporter": "python",
   "pygments_lexer": "ipython3",
   "version": "3.10.12"
  }
 },
 "nbformat": 4,
 "nbformat_minor": 2
}
