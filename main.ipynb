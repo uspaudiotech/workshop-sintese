{
 "cells": [
  {
   "cell_type": "markdown",
   "metadata": {},
   "source": [
    "# Do Zero ao Som: Criando Áudio Digital com Python"
   ]
  },
  {
   "cell_type": "code",
   "execution_count": 49,
   "metadata": {},
   "outputs": [],
   "source": [
    "# Rode a célula se estiver no Google Colab\n",
    "# from google.colab import output\n",
    "# output.enable_custom_widget_manager()\n",
    "# !pip install ipympl"
   ]
  },
  {
   "cell_type": "code",
   "execution_count": 50,
   "metadata": {},
   "outputs": [],
   "source": [
    "# Importe as dependências\n",
    "\n",
    "import numpy as np\n",
    "import matplotlib.pyplot as plt\n",
    "%matplotlib ipympl\n",
    "from IPython.display import Audio, display\n",
    "import ipywidgets as widgets\n",
    "from ipywidgets import interactive\n",
    "from scipy.io import wavfile\n",
    "from scipy import signal\n",
    "from abc import ABC, abstractmethod"
   ]
  },
  {
   "cell_type": "code",
   "execution_count": 51,
   "metadata": {},
   "outputs": [],
   "source": [
    "# Vamos definir algumas variáveis globais\n",
    "SR = 44100\n",
    "DEFAULT_AMP = 1.0\n",
    "DEFAULT_DUR = 1.0\n",
    "DEFAULT_FREQ = 220\n",
    "DEFAULT_WIDTH = 16"
   ]
  },
  {
   "cell_type": "markdown",
   "metadata": {},
   "source": [
    "## Introdução\n",
    "\n",
    "> *Como o computador processa uma música digitalmente?*\n",
    ">\n",
    "> *Como podemos entender uma representação digital de um sinal de áudio?*\n",
    ">\n",
    "> *Como sintetizadores digitais são desenvolvidos?*\n",
    "\n",
    "Neste workshop, vamos entender um pouco sobre o que é um sinal de áudio digital e como podemos criar sons a partir do zero utilizando Python. Tudo isso de maneira interativa e prática.\n",
    "\n",
    "Divirta-se!"
   ]
  },
  {
   "cell_type": "markdown",
   "metadata": {},
   "source": [
    "## Som e Sinal\n",
    "\n",
    "Vamos ganhar uma intuição inicial sobre o que é som e o que é sinal sonoro. Essas definições são importantes para entendermos o que estamos fazendo quando mexemos com áudio digital. A síntese sonora digital é uma área fascinante que combina ciência, tecnologia e arte para criar e manipular sons de maneiras inovadoras.\n",
    "\n",
    "### O que é som?\n",
    "\n",
    "**Som** é um fenômeno físico que ocorre quando moléculas de ar (ou outro meio elástico) se comprimem e rarefazem rapidamente.\n",
    "\n",
    "Alto-falantes, por exemplo, movem-se para frente e para trás rapidamente, comprimindo e rarefazendo o ar, criando som. Por sua vez, nossos ouvidos são capazes de captar essas variações de pressão do ar e transformá-las em sinais elétricos que são enviados ao nosso cérebro.\n",
    "\n",
    "Podemos modelar esse movimento do ar com a ajuda de computadores e da matemática. Isso nos permite não apenas reproduzir sons naturais, mas também criar sons completamente sintéticos.\n",
    "\n",
    "### O que é sinal sonoro?\n",
    "\n",
    "Um **sinal sonoro** pode ser entendido como uma função matemática que descreve a variação de pressão do ar ou tensão elétrica ao longo do tempo. Podemos visualizar um sinal sonoro com um gráfico onde o eixo horizontal representa o tempo e o eixo vertical representa a amplitude do som em cada instante de tempo. Essa representação gráfica é fundamental para a análise e manipulação de áudio digital.\n",
    "\n",
    "Caso você nunca tenha visto a onda de uma música antes, observe o sinal dos primeiros 60 segundos da música \"No Ordinary Love\" da cantora Sade no software Ableton Live. Essa visualização ajuda a entender como diferentes sons e instrumentos contribuem para a textura geral de uma música."
   ]
  },
  {
   "cell_type": "markdown",
   "metadata": {},
   "source": [
    "> *This is no ordinary love...*"
   ]
  },
  {
   "cell_type": "markdown",
   "metadata": {},
   "source": [
    "### Sinais analógicos e digitais\n",
    "\n",
    "Consegue perceber que temos vários pontos no gráfico da onda sonora? Cada um desses pontos representa a intensidade do som em um instante de tempo.\n",
    "Por isso, podemos dizer que esse sinal sonoro é **discreto** ou **digital**.\n",
    "\n",
    "Mas o que diferencia um sinal digital de um sinal analógico? Vamos simplificar:\n",
    "\n",
    "> Dizemos que um sinal sonoro é **analógico** quando a função está definida para todos os instantes no tempo. Em outras palavras, o sinal é **contínuo**. Sinais analógicos são aqueles que encontramos no mundo real, como o som que ouvimos naturalmente, e também em equipamentos de áudio tradicionais, como microfones e alto-falantes.\n",
    "\n",
    "> Dizemos que um sinal sonoro é **digital** quando a função está definida apenas para uma lista finita de instantes no tempo, tornando o sinal **discreto**. Sinais digitais são utilizados em computadores e equipamentos digitais, permitindo o armazenamento e processamento eficiente de áudio.\n",
    "\n",
    "Podemos imaginar um arquivo de áudio digital como uma **grande lista de números**, onde cada número representa a amplitude do som em um ponto específico no tempo."
   ]
  },
  {
   "cell_type": "code",
   "execution_count": 52,
   "metadata": {},
   "outputs": [
    {
     "name": "stdout",
     "output_type": "stream",
     "text": [
      "Tipo de dado do arquivo de áudio: int16\n",
      "Algumas amostras do arquivo de áudio: [-11313 -10939 -11831 -12245 -11796 -11042 -11059 -10910  -9690  -9067]\n"
     ]
    }
   ],
   "source": [
    "# Carrega o arquivo de áudio e extrai o sample rate\n",
    "sample_rate, audio_file = wavfile.read('Sade-No_Ordinary_Love-60s.wav')\n",
    "\n",
    "# Mostra o tipo de dado armazenado no arquivo de áudio (NumPy Dtype)\n",
    "print(\"Tipo de dado do arquivo de áudio:\", audio_file.dtype) # int16, de [-32768, +32767]\n",
    "\n",
    "# Imprime uma parte do arquivo de áudio\n",
    "print(\"Algumas amostras do arquivo de áudio:\", audio_file[480000:480000+10, 0]) # 10 amostras do canal esquerdo"
   ]
  },
  {
   "cell_type": "markdown",
   "metadata": {},
   "source": [
    "No exemplo acima, cada elemento da lista representa uma amplitude do som em um intervalo de inteiros de 16 bits, variando de -32768 a 32767. No entanto, ao processar áudio, é comum utilizarmos uma escala normalizada que varia de -1 a 1, facilitando cálculos e manipulações."
   ]
  },
  {
   "cell_type": "markdown",
   "metadata": {},
   "source": [
    "## Amostragem e Quantização\n",
    "\n",
    "Agora que entendemos o que é um sinal sonoro digital, podemos explorar como ele é representado e processado em um computador. Para isso, precisamos definir algumas regras para a discretização nos eixos do tempo e da amplitude. Esses processos são conhecidos como amostragem e quantização.\n",
    "\n",
    "### Amostragem\n",
    "\n",
    "Amostragem é o processo de **discretização do sinal no eixo do tempo**. Imagine que você está tirando fotos de um evento contínuo em intervalos regulares; cada foto representa uma **amostra** do evento. Da mesma forma, na amostragem, capturamos a amplitude do som em intervalos de tempo regulares.\n",
    "\n",
    "A **taxa de amostragem** é definida como o número de amostras capturadas por segundo, medida em **Hertz (Hz)**. Taxas de amostragem comuns incluem 44.1 kHz (usada em CDs de áudio), 48 kHz (usada em vídeos), e 96 kHz (usada em gravações de alta qualidade). Uma taxa de amostragem mais alta permite capturar mais detalhes do som, mas também requer mais espaço de armazenamento.\n",
    "\n",
    "### Quantização\n",
    "\n",
    "Quantização é o processo de **discretização do sinal no eixo da amplitude**. Após capturar as amostras, precisamos representar suas amplitudes em valores numéricos discretos.\n",
    "\n",
    "A **resolução** da quantização é definida pelo número de níveis de amplitude possíveis, medido em **bits**. Resoluções comuns são 8 bits, 16 bits (usada em CDs de áudio), e 24 bits (usada em gravações profissionais). Uma resolução mais alta permite representar o som com maior precisão, reduzindo o ruído de quantização.\n",
    "\n",
    "Agora que entendemos que um sinal sonoro digital é discretizado tanto no tempo quanto na amplitude, podemos ver como essas etapas são cruciais para a qualidade do áudio digital.\n",
    "\n",
    "### Experimente Você Mesmo\n",
    "\n",
    "Abaixo, você encontrará um ambiente interativo onde pode experimentar como uma onda senoidal muda com diferentes frequências, taxas de amostragem e resoluções. Isso permitirá que você veja em primeira mão como essas variáveis afetam a representação digital do som.\n"
   ]
  },
  {
   "cell_type": "code",
   "execution_count": 53,
   "metadata": {},
   "outputs": [
    {
     "data": {
      "application/vnd.jupyter.widget-view+json": {
       "model_id": "9aad5ce3b91d41a5a7caeeb89561cb5a",
       "version_major": 2,
       "version_minor": 0
      },
      "text/plain": [
       "interactive(children=(IntSlider(value=100, description='Taxa de Amostragem (Hz):', max=11200, min=1, step=10),…"
      ]
     },
     "metadata": {},
     "output_type": "display_data"
    }
   ],
   "source": [
    "def visualiza_amostragem_e_quantizacao(SR=1000, bits=16, frequencia=DEFAULT_FREQ, amplitude=1.0, mostrar_continuo=False):\n",
    "    # Parâmetros para visualização\n",
    "    duracao = 1.0\n",
    "    \n",
    "    # Sinal contínuo (com mais pontos para parecer contínuo)\n",
    "    t_continuo = np.linspace(0, duracao, 10000)\n",
    "    sinal_continuo = np.sin(2 * np.pi * frequencia * t_continuo)\n",
    "    \n",
    "    # Amostragem do sinal contínuo\n",
    "    t_amostrado = np.linspace(0, duracao, int(SR * duracao))\n",
    "    onda = np.sin(2 * np.pi * frequencia * t_amostrado)\n",
    "    \n",
    "    # Quantização do sinal contínuo\n",
    "    resolucao = 2**bits\n",
    "    onda_quantizada = -1 + 2**(-bits) + 2*np.floor((resolucao-1e-8) * (0.5 + 0.5*onda)) / (resolucao)\n",
    "    onda_quantizada *= amplitude\n",
    "    \n",
    "    # Cria o gráfico\n",
    "    plt.figure(figsize=(16, 4))\n",
    "    if mostrar_continuo:\n",
    "        plt.plot(t_continuo, sinal_continuo, 'b-', label='Sinal Contínuo', alpha=0.5)\n",
    "    plt.plot(t_amostrado, onda_quantizada, 'r.', label='Sinal Digital')\n",
    "    plt.grid(True)\n",
    "    plt.xlabel('Tempo (s)')\n",
    "    plt.ylabel('Amplitude')\n",
    "    plt.title(f'Senoide ({frequencia} Hz) - {SR} Hz de amostragem, {bits} bits de resolução')\n",
    "    plt.legend()\n",
    "    plt.show()\n",
    "    \n",
    "    # Mostra o player de áudio\n",
    "    display(Audio(onda_quantizada, rate=SR, normalize=False))\n",
    "    \n",
    "\n",
    "# Cria a interface interativa\n",
    "interactive_plot = interactive(\n",
    "    visualiza_amostragem_e_quantizacao,\n",
    "    SR=widgets.IntSlider(min=1, max=11200, step=10, value=100, description='Taxa de Amostragem (Hz):'),\n",
    "    bits=widgets.IntSlider(min=1, max=24, step=1, value=16, description='Bits de Resolução:'),\n",
    "    frequencia=widgets.IntSlider(min=1, max=440, step=1, value=1, description='Frequência (Hz):'),\n",
    "    amplitude=widgets.FloatSlider(min=0.1, max=1.0, step=0.1, value=1.0, description='Amplitude:'),\n",
    "    mostrar_continuo=widgets.Checkbox(value=False, description='Mostrar Sinal Contínuo')\n",
    ")\n",
    "display(interactive_plot)"
   ]
  },
  {
   "cell_type": "markdown",
   "metadata": {},
   "source": [
    "## Percepção Sonora\n",
    "\n",
    "Para ouvir algum som ao tocar o áudio, tente ajustar a frequência para, pelo menos, 80 Hz. O ouvido humano é capaz de ouvir sons em um intervalo de 20 a 20 mil Hertz (Hz), conhecido como o **espectro audível**. Dentro desse intervalo, nossa percepção sonora é influenciada por vários fatores, incluindo frequência, amplitude e o contexto em que o som é ouvido.\n",
    "\n",
    "### Frequência e Altura\n",
    "\n",
    "A frequência de um som determina sua **altura**, ou seja, se ele é percebido como **grave ou agudo**. Sons de baixa frequência, como o som de um tambor, são percebidos como graves, enquanto sons de alta frequência, como o canto de um pássaro, são percebidos como agudos.\n",
    "\n",
    "### Amplitude e Volume\n",
    "\n",
    "A amplitude de um som está relacionada à sua **intensidade ou volume**. Sons com maior amplitude são percebidos como mais altos, enquanto sons com menor amplitude são percebidos como mais baixos. O volume é geralmente medido em **decibéis (dB)**, uma escala logarítmica relativa que expressa a intensidade do som em relação a um nível de referência. Essa escala é útil porque o ouvido humano percebe mudanças de volume de forma proporcional, não linear.\n",
    "\n",
    "No contexto de síntese sonora, é útil entender os diferentes tipos de dB utilizados:\n",
    "- **dB SPL (Sound Pressure Level)**: Mede a pressão sonora em relação a um nível de referência no ar. É comumente usado para descrever o volume de sons no ambiente, sendo 0 dB SPL o limiar da audição humana, ou seja, o som mais fraco que o ouvido humano pode detectar. Sons audíveis possuem intensidade maior que 0 dB SPL.\n",
    "- **dB FS (Full Scale)**: Usado em áudio digital, 0 dB FS representa o valor máximo que pode ser representado sem distorção (clipping). Qualquer valor acima de 0 dB FS resultará em distorção, pois o sistema não pode representar amplitudes maiores. À medida que a escala desce para -1 dB FS, -2 dB FS, e assim por diante, os valores representam amplitudes menores que não causam distorção. O som audível mais fraco em um sistema digital é determinado pelo menor valor representável, que depende da resolução em bits do sistema.\n",
    "\n",
    "### Sensibilidade Auditiva\n",
    "\n",
    "O ouvido humano não é igualmente sensível a todas as frequências. Somos mais sensíveis a frequências entre 2 kHz e 5 kHz, que coincidem com a faixa de frequências da fala humana. Essa sensibilidade variável explica por que certos sons são mais fáceis de ouvir do que outros, mesmo que tenham a mesma amplitude.\n",
    "\n",
    "### Contexto e Experiência\n",
    "\n",
    "A percepção sonora também é influenciada pelo contexto e pela experiência individual. Fatores como a acústica do ambiente, a presença de ruído de fundo e a familiaridade com o som podem afetar como percebemos e interpretamos o som."
   ]
  },
  {
   "cell_type": "markdown",
   "metadata": {},
   "source": [
    "## Espectro de frequência\n",
    "\n",
    "O espectro de frequência é uma representação visual que mostra como a energia de um sinal sonoro é distribuída entre diferentes frequências. Imagine o espectro de frequência como um gráfico onde o eixo horizontal representa as frequências (medidas em Hertz) e o eixo vertical representa a amplitude ou intensidade dessas frequências.\n",
    "\n",
    "Na síntese sonora, o espectro de frequência é usado para criar e manipular sons. Ao ajustar as frequências e suas amplitudes, podemos esculpir o som desejado, reforçando ou atenuando bandas de frequência graves ou agudas.\n",
    "\n",
    "Veja uma implementação do espectro de frequência da música \"No Ordinary Love\", que carregamos anteriormente."
   ]
  },
  {
   "cell_type": "code",
   "execution_count": 54,
   "metadata": {},
   "outputs": [
    {
     "data": {
      "application/vnd.jupyter.widget-view+json": {
       "model_id": "2d148c08a01c4b3f8f74ef194f1c963b",
       "version_major": 2,
       "version_minor": 0
      },
      "image/png": "[encoded data removed]",
      "text/html": [
       "\n",
       "            <div style=\"display: inline-block;\">\n",
       "                <div class=\"jupyter-widgets widget-label\" style=\"text-align: center;\">\n",
       "                    Figure\n",
       "                </div>\n",
       "                <img src='data:image/png;base64,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' width=1600.0/>\n",
       "            </div>\n",
       "        "
      ],
      "text/plain": [
       "Canvas(toolbar=Toolbar(toolitems=[('Home', 'Reset original view', 'home', 'home'), ('Back', 'Back to previous …"
      ]
     },
     "metadata": {},
     "output_type": "display_data"
    }
   ],
   "source": [
    "from scipy.fft import fft, fftfreq\n",
    "\n",
    "def plot_audio_spectrum(audio, sample_rate):\n",
    "    # Computa a FFT do áudio inteiro \n",
    "    N = len(audio)\n",
    "    yf = fft(audio)\n",
    "    xf = fftfreq(N, 1 / sample_rate)\n",
    "\n",
    "    # Filtra frequências entre 20 e 20 kHz (espectro audível)\n",
    "    mask = (xf >= 20) & (xf <= 20000)\n",
    "    xf = xf[mask]\n",
    "    yf = np.abs(yf[mask])\n",
    "\n",
    "    # Define marcadores personalizados para frequências importantes para música \n",
    "    musical_frequencies = [20, 50, 100, 200, 400, 800, 1600, 3200, 6400, 12800, 20000]\n",
    "    tick_labels = [f\"{freq} Hz\" for freq in musical_frequencies]\n",
    "\n",
    "    # Cria o gráfico\n",
    "    plt.figure(figsize=(DEFAULT_WIDTH, 6))\n",
    "    plt.semilogx(xf, yf)\n",
    "    plt.title(\"Espectro do audio_file em escala de frequência logarítmica\")\n",
    "    plt.xlabel(\"Frequência (Hz)\")\n",
    "    plt.ylabel(\"Amplitude\")\n",
    "    plt.xticks(musical_frequencies, tick_labels)\n",
    "    plt.grid()\n",
    "    plt.show()\n",
    "\n",
    "plot_audio_spectrum(audio_file[:, 0], sample_rate) # Plot do espectro do canal esquerdo"
   ]
  },
  {
   "cell_type": "markdown",
   "metadata": {},
   "source": [
    "Vamos ver no Ableton Live uma implementação profissional de espectro de frequência."
   ]
  },
  {
   "cell_type": "markdown",
   "metadata": {},
   "source": [
    "> *This is no ordinary love...*"
   ]
  },
  {
   "cell_type": "markdown",
   "metadata": {},
   "source": [
    "## Sinais elementares\n",
    "\n",
    "Vamos estudar alguns sinais elementares: **ruídos** e **sinais periódicos**. Eles são a base para a construção de sons mais complexos (e mais interessantes)."
   ]
  },
  {
   "cell_type": "code",
   "execution_count": 55,
   "metadata": {},
   "outputs": [],
   "source": [
    "# Vamos definir uma classe abstrata para a implementação dos ambientes interativos \n",
    "class AmbienteInterativoSintetizador(ABC):\n",
    "    def __init__(self, sintetizador):\n",
    "        self.sintetizador = sintetizador\n",
    "\n",
    "    def cria_plot(self):\n",
    "        plt.figure(figsize=(DEFAULT_WIDTH, 6))\n",
    "        plt.plot(self.sintetizador.eixo_tempo, self.sintetizador.sinal, 'b-')\n",
    "        plt.grid(True)\n",
    "        plt.xlabel('Tempo (s)')\n",
    "        plt.ylabel('Amplitude')\n",
    "        plt.ylim(-1.1, 1.1)\n",
    "        plt.show()\n",
    "        \n",
    "    def cria_audio_player(self):\n",
    "        display(Audio(self.sintetizador.sinal, rate=SR, normalize=False))\n",
    "    \n",
    "    @abstractmethod\n",
    "    def callback():\n",
    "        pass"
   ]
  },
  {
   "cell_type": "code",
   "execution_count": 56,
   "metadata": {},
   "outputs": [],
   "source": [
    "# Vamos definir uma classe abstrata para a implementação dos sinais elementares\n",
    "class Sintetizador(ABC):\n",
    "    def __init__(self, amplitude=1.0, duracao=DEFAULT_DUR, frequencia=DEFAULT_FREQ):\n",
    "        self.amplitude  = amplitude\n",
    "        self.duracao    = duracao\n",
    "        self.frequencia = frequencia\n",
    "        self.sinal      = self.gerar()\n",
    "        self.eixo_tempo = None\n",
    "\n",
    "    @abstractmethod\n",
    "    def gerar(self):\n",
    "        pass\n",
    "    \n",
    "    @abstractmethod\n",
    "    def cria_ambiente_interativo(self):\n",
    "        pass"
   ]
  },
  {
   "cell_type": "markdown",
   "metadata": {},
   "source": [
    "### Ruídos\n",
    "\n",
    "No mundo do áudio, **ruído** não possui uma definição categórica, mas é comum entendê-lo como um sinal sonoro que:\n",
    "\n",
    "- Não possui uma altura musical definida\n",
    "- Não costuma ser periódico\n",
    "\n",
    "Ruídos são caracterizados por sua **densidade espectral**, que é a distribuição de energia do sinal em função da frequência. Diferentes tipos de ruído são frequentemente identificados por \"cores\", como **branco, vermelho e rosa**, cada um com suas próprias características espectrais.\n",
    "\n",
    "Vamos sintetizar e ouvir os ruídos branco e vermelho."
   ]
  },
  {
   "cell_type": "code",
   "execution_count": 57,
   "metadata": {},
   "outputs": [],
   "source": [
    "class AmbienteInterativoRuido(AmbienteInterativoSintetizador):\n",
    "    def callback(self, amplitude, duracao):\n",
    "        # Atualiza os parâmetros do sintetizador\n",
    "        self.sintetizador.amplitude = amplitude\n",
    "        self.sintetizador.duracao = duracao\n",
    "\n",
    "        # Gera um novo sinal\n",
    "        self.sintetizador.sinal = self.sintetizador.gerar()\n",
    "\n",
    "        self.cria_plot()\n",
    "        self.cria_audio_player()"
   ]
  },
  {
   "cell_type": "code",
   "execution_count": 58,
   "metadata": {},
   "outputs": [],
   "source": [
    "class Ruido(Sintetizador):\n",
    "    def cria_ambiente_interativo(self):\n",
    "        ambiente = AmbienteInterativoRuido(self)\n",
    "        interativo = interactive(\n",
    "            ambiente.callback,\n",
    "            amplitude=widgets.FloatSlider(min=0, max=1, step=0.1, value=self.amplitude, description=\"Amplitude:\"),\n",
    "            duracao=widgets.FloatSlider(min=0.1, max=1, step=0.1, value=self.duracao, description=\"Duração (s)\"),\n",
    "        )\n",
    "        display(interativo)"
   ]
  },
  {
   "cell_type": "markdown",
   "metadata": {},
   "source": [
    "**ATENÇÃO: ABAIXE (MUITO) O VOLUME DO SEU COMPUTADOR ANTES DE OUVIR OS ÁUDIOS.**"
   ]
  },
  {
   "cell_type": "markdown",
   "metadata": {},
   "source": [
    "#### Ruído branco\n",
    "\n",
    "O **ruído branco** é um sinal sonoro que possui energia **uniformemente distribuída em todas as frequências audíveis**. Isso significa que cada frequência dentro do espectro audível tem a mesma potência, resultando em um som constante e uniforme.\n",
    "\n",
    "Você pode ter ouvido ruído branco em um rádio fora de sintonia ou em uma televisão sem sinal. Além desses exemplos, o ruído branco é frequentemente usado em testes de equipamentos de áudio para verificar a resposta em frequência.\n",
    "\n",
    "Vamos sintetizar um ruído branco e ouvi-lo:"
   ]
  },
  {
   "cell_type": "code",
   "execution_count": 59,
   "metadata": {},
   "outputs": [],
   "source": [
    "class RuidoBranco(Ruido):\n",
    "    def gerar(self):\n",
    "        # Gera o eixo do tempo\n",
    "        self.eixo_tempo = np.linspace(0, self.duracao, int(SR * self.duracao))\n",
    "        # Gera o sinal de ruído branco\n",
    "        return np.random.uniform(-self.amplitude, self.amplitude, len(self.eixo_tempo))"
   ]
  },
  {
   "cell_type": "code",
   "execution_count": 60,
   "metadata": {},
   "outputs": [
    {
     "data": {
      "application/vnd.jupyter.widget-view+json": {
       "model_id": "5c4d8f054e0743e08bf3699f2dbdde9f",
       "version_major": 2,
       "version_minor": 0
      },
      "text/plain": [
       "interactive(children=(FloatSlider(value=1.0, description='Amplitude:', max=1.0), FloatSlider(value=1.0, descri…"
      ]
     },
     "metadata": {},
     "output_type": "display_data"
    }
   ],
   "source": [
    "ruido_branco = RuidoBranco(amplitude=DEFAULT_AMP, duracao=DEFAULT_DUR)\n",
    "ruido_branco.cria_ambiente_interativo()"
   ]
  },
  {
   "cell_type": "markdown",
   "metadata": {},
   "source": [
    "#### Ruído vermelho\n",
    "\n",
    "O **ruído vermelho**, também conhecido como ruído Browniano ou ruído marrom, é um tipo de ruído que possui energia inversamente proporcional à frequência. Isso significa que ele tem mais energia em frequências baixas e menos energia em frequências altas, resultando em um som mais suave em comparação com o ruído branco.\n",
    "\n",
    "Devido à sua ênfase em frequências mais baixas, o ruído vermelho é frequentemente percebido como mais agradável e menos intrusivo do que o ruído branco. Essa característica o torna útil em aplicações como a criação de ambientes sonoros relaxantes e em música eletrônica, onde um som mais encorpado e menos estridente é desejado.\n",
    "\n",
    "Vamos sintetizar um ruído vermelho e ouvi-lo:"
   ]
  },
  {
   "cell_type": "code",
   "execution_count": 61,
   "metadata": {},
   "outputs": [],
   "source": [
    "class RuidoVermelho(Ruido):\n",
    "    def gerar(self):\n",
    "        self.eixo_tempo = np.linspace(0, self.duracao, int(SR * self.duracao))\n",
    "\n",
    "        amostras = int(SR * self.duracao)\n",
    "\n",
    "        branco = np.random.uniform(-1, 1, amostras) # O ruído vermelho é derivado do ruído branco\n",
    "\n",
    "        vermelho = np.zeros(1 * amostras)\n",
    "        vermelho[0] = branco[0] # Inicializa a primeira amostra\n",
    "\n",
    "        for i in range(1, amostras):\n",
    "            vermelho[i] = branco[i] + vermelho[i - 1]\n",
    "\n",
    "        vermelho = vermelho / np.max(np.abs(vermelho))\n",
    "        \n",
    "        vermelho = self.amplitude * vermelho # ajuste de amplitude\n",
    "\n",
    "        return vermelho"
   ]
  },
  {
   "cell_type": "code",
   "execution_count": 62,
   "metadata": {},
   "outputs": [
    {
     "data": {
      "application/vnd.jupyter.widget-view+json": {
       "model_id": "728885283fa74c9d99eaf8ae26aaf49c",
       "version_major": 2,
       "version_minor": 0
      },
      "text/plain": [
       "interactive(children=(FloatSlider(value=1.0, description='Amplitude:', max=1.0), FloatSlider(value=1.0, descri…"
      ]
     },
     "metadata": {},
     "output_type": "display_data"
    }
   ],
   "source": [
    "ruido_vermelho = RuidoVermelho(amplitude=1.0, duracao=DEFAULT_DUR)\n",
    "ruido_vermelho.cria_ambiente_interativo() "
   ]
  },
  {
   "cell_type": "markdown",
   "metadata": {},
   "source": [
    "#### *Qual a utilidade de ruídos na síntese sonora?*\n",
    "\n",
    "Embora ruídos possam não ter um aspecto musical por si só, eles desempenham um papel crucial na síntese sonora. A partir de um ruído, podemos aplicar diversas técnicas, como filtros, envelopes e efeitos, para criar sons mais complexos e musicalmente interessantes.\n",
    "\n",
    "Ruídos são frequentemente usados como base na criação de texturas sonoras, efeitos de percussão e ambiências. Por exemplo, ao utilizar envelopes ADSR, podemos moldar a dinâmica do som, transformando um ruído estático em um elemento musical dinâmico.\n",
    "\n",
    "Vamos explorar essas técnicas mais adiante, quando discutirmos envelopes ADSR e outras ferramentas de modulação na síntese sonora."
   ]
  },
  {
   "cell_type": "markdown",
   "metadata": {},
   "source": [
    "### Sinais periódicos\n",
    "\n",
    "Um sinal periódico possui como característica principal a repetição de um padrão de onda ao longo do tempo. Esse padrão pode ser chamado de **ciclo** ou **período**.\n",
    "\n",
    "A **frequência** de um sinal periódico é o número de ciclos que se repetem em um segundo. Medimos a frequência em **Hertz** (Hz).\n",
    "\n",
    "A percepção de frequência é o que chamamos de **altura** do som, ou seja, se o som é grave ou agudo. Como visto anteriormente, a percepção de frequência é o que chamamos de altura do som, ou seja, se o som é grave ou agudo.\n",
    "\n",
    "Os sinais periódicos elementares são as **ondas senoidais**, **ondas quadradas**, **ondas dente-de-serra** e **ondas triangulares**, cada um com um formato de ciclo e característica tonal particular.\n",
    "\n",
    "Vamos sintetizar e ouvir cada um desses sinais periódicos."
   ]
  },
  {
   "cell_type": "code",
   "execution_count": 63,
   "metadata": {},
   "outputs": [],
   "source": [
    "class AmbienteInterativoOnda(AmbienteInterativoSintetizador):\n",
    "    def callback(self, amplitude, duracao, frequencia):\n",
    "        # Atualiza os parâmetros do sintetizador\n",
    "        self.sintetizador.amplitude = amplitude\n",
    "        self.sintetizador.duracao = duracao\n",
    "        self.sintetizador.frequencia = frequencia\n",
    "        \n",
    "        # Gera um novo sinal\n",
    "        self.sintetizador.sinal = self.sintetizador.gerar() \n",
    "        \n",
    "        # Gera os displays\n",
    "        self.cria_plot()\n",
    "        self.cria_audio_player()"
   ]
  },
  {
   "cell_type": "code",
   "execution_count": 64,
   "metadata": {},
   "outputs": [],
   "source": [
    "class Onda(Sintetizador):\n",
    "    def cria_ambiente_interativo(self):\n",
    "        ambiente = AmbienteInterativoOnda(self)\n",
    "        interativo = interactive(\n",
    "            ambiente.callback,\n",
    "            amplitude=widgets.FloatSlider(min=0, max=1, step=0.01, value=self.amplitude, description=\"Amplitude:\"),\n",
    "            duracao=widgets.FloatSlider(min=0.1, max=1, step=0.1, value=self.duracao, description=\"Duração (s)\"),\n",
    "            frequencia=widgets.IntSlider(min=1, max=440, step=1, value=self.frequencia, description=\"Frequência (Hz)\"),\n",
    "        )\n",
    "        display(interativo)"
   ]
  },
  {
   "cell_type": "markdown",
   "metadata": {},
   "source": [
    "#### Onda senoidal\n",
    "\n",
    "A **onda senoidal** é um sinal sonoro que possui um único componente de frequência, conhecido como parcial, o que a torna um \"tom puro\". Devido à sua simplicidade e pureza, a onda senoidal é fundamental na síntese sonora. Ela serve como a base para a construção de muitas outras técnicas de síntese mais sofisticadas, permitindo a criação de sons complexos a partir de combinações de tons puros. Além disso, as ondas senoidais são amplamente utilizadas em testes de áudio e calibração de equipamentos devido à sua natureza previsível e estável."
   ]
  },
  {
   "cell_type": "code",
   "execution_count": 65,
   "metadata": {},
   "outputs": [],
   "source": [
    "class OndaSenoidal(Onda):\n",
    "    def gerar(self):\n",
    "        # Gera o eixo do tempo\n",
    "        self.eixo_tempo = np.linspace(0, self.duracao, int(SR * self.duracao))\n",
    "        # Gera o sinal com a função seno\n",
    "        return self.amplitude * np.sin(2 * np.pi * self.frequencia * self.eixo_tempo)"
   ]
  },
  {
   "cell_type": "code",
   "execution_count": 66,
   "metadata": {},
   "outputs": [
    {
     "data": {
      "application/vnd.jupyter.widget-view+json": {
       "model_id": "137d1d32933f49d784e84d5e23799376",
       "version_major": 2,
       "version_minor": 0
      },
      "text/plain": [
       "interactive(children=(FloatSlider(value=1.0, description='Amplitude:', max=1.0, step=0.01), FloatSlider(value=…"
      ]
     },
     "metadata": {},
     "output_type": "display_data"
    }
   ],
   "source": [
    "onda_senoidal = OndaSenoidal(amplitude=1.0, duracao=DEFAULT_DUR, frequencia=DEFAULT_FREQ)\n",
    "onda_senoidal.cria_ambiente_interativo()"
   ]
  },
  {
   "cell_type": "markdown",
   "metadata": {},
   "source": [
    "Observe o formato da onda senoidal. Não surpreendentemente, ela possui a forma de uma senoide.\n",
    "\n",
    "Mais importante que isso, ouça o som da onda senoidal. Ela é suave, ao contrário dos ruídos que ouvimos anteriormente.\n",
    "\n",
    "Tente entender como geramos a onda senoidal. Dê uma olhada na função `gerar` da célula 34."
   ]
  },
  {
   "cell_type": "markdown",
   "metadata": {},
   "source": [
    "#### Onda Quadrada\n",
    "\n",
    "A **onda quadrada** é um sinal sonoro caracterizado por transições abruptas entre seus níveis de amplitude, alternando entre valores máximos e mínimos de forma instantânea. Essa forma de onda possui um som rico e cheio devido à presença de uma série de harmônicos ímpares (3ª, 5ª, 7ª, etc.).\n",
    "\n",
    "Devido à sua estrutura harmônica particular, as ondas quadradas são utilizadas para simular sons de instrumentos de sopro. Além disso, são amplamente usadas em música eletrônica para criar texturas e ritmos pulsantes."
   ]
  },
  {
   "cell_type": "code",
   "execution_count": 67,
   "metadata": {},
   "outputs": [],
   "source": [
    "class OndaQuadrada(Onda):\n",
    "    def gerar(self):\n",
    "        self.eixo_tempo = np.linspace(0, self.duracao, int(SR * self.duracao))\n",
    "        return self.amplitude * signal.square(2 * np.pi * self.frequencia * self.eixo_tempo)"
   ]
  },
  {
   "cell_type": "code",
   "execution_count": 68,
   "metadata": {},
   "outputs": [
    {
     "data": {
      "application/vnd.jupyter.widget-view+json": {
       "model_id": "daa6ccf8e9ce4ffdb48c7061f1d5d0ce",
       "version_major": 2,
       "version_minor": 0
      },
      "text/plain": [
       "interactive(children=(FloatSlider(value=1.0, description='Amplitude:', max=1.0, step=0.01), FloatSlider(value=…"
      ]
     },
     "metadata": {},
     "output_type": "display_data"
    }
   ],
   "source": [
    "onda_quadrada = OndaQuadrada(amplitude=DEFAULT_AMP, duracao=DEFAULT_DUR, frequencia=DEFAULT_FREQ)\n",
    "onda_quadrada.cria_ambiente_interativo()"
   ]
  },
  {
   "cell_type": "markdown",
   "metadata": {},
   "source": [
    "Ouça o som da onda quadrada. Ela é mais \"agressiva\" do que a onda senoidal, e seu timbre é rico, mas áspero.\n",
    "\n",
    "Tente entender como geramos a onda quadrada. Dê uma olhada na função `gerar`."
   ]
  },
  {
   "cell_type": "markdown",
   "metadata": {},
   "source": [
    "#### O que são parciais e harmônicos?\n",
    "\n",
    "Na síntese sonora e na acústica, **parciais** e **harmônicos** são termos fundamentais para entender a composição de sons complexos.\n",
    "\n",
    "- **Parciais**: São os componentes de frequência individuais que compõem um som. Cada som pode ser decomposto em uma série de parciais, que incluem a frequência fundamental (a mais grave) e outras frequências mais agudas que estão presentes no som. Parciais podem ser harmônicos ou inarmônicos, dependendo de sua relação com a frequência fundamental.\n",
    "\n",
    "- **Harmônicos**: São um tipo específico de parciais que estão em uma relação de múltiplos inteiros com a frequência fundamental. Se a frequência fundamental é $f_0$, então os harmônicos são dados por $n \\times f_0$, onde $n$ é um número inteiro positivo $1, 2, 3, \\dots$. O primeiro harmônico é a própria frequência fundamental ($1 \\times f_0$), o segundo harmônico é o dobro da frequência fundamental ($2 \\times f_0$), o terceiro é o triplo ($3 \\times f_0$), e assim por diante. Essa relação cria uma série harmônica, que é a base para muitos sons musicais.\n",
    "\n",
    "A **série harmônica** é uma sequência de harmônicos que ocorre naturalmente em muitos instrumentos musicais. Quando um instrumento é tocado, ele não produz apenas a frequência fundamental, mas também uma série de harmônicos que contribuem para o timbre característico do som. Por exemplo, quando uma corda de violão vibra, ela gera uma série harmônica que dá ao som sua riqueza e complexidade.\n",
    "\n",
    "Compreender parciais e harmônicos é essencial para a síntese sonora, pois permite a criação e manipulação de timbres complexos a partir de componentes básicos."
   ]
  },
  {
   "cell_type": "markdown",
   "metadata": {},
   "source": [
    "#### Onda dente-de-serra\n",
    "\n",
    "A onda dente-de-serra é um sinal sonoro caracterizado por um aumento linear em amplitude seguido por uma queda abrupta. Essa forma de onda é rica em harmônicos, contendo todos os harmônicos inteiros (tanto pares quanto ímpares).\n",
    "\n",
    "Devido à sua riqueza harmônica, a onda dente-de-serra é amplamente utilizada na síntese subtrativa, onde filtros são aplicados para esculpir e moldar o som, criando uma ampla variedade de timbres. Ela é especialmente popular na criação de sons de instrumentos de sopro, cordas e sintetizadores de baixo, devido à sua capacidade de produzir sons encorpados e dinâmicos."
   ]
  },
  {
   "cell_type": "code",
   "execution_count": 69,
   "metadata": {},
   "outputs": [],
   "source": [
    "class OndaDenteDeSerra(Onda):\n",
    "    def gerar(self):\n",
    "        self.eixo_tempo = np.linspace(0, self.duracao, int(SR * self.duracao))\n",
    "        return self.amplitude * signal.sawtooth(2 * np.pi * self.frequencia * self.eixo_tempo)"
   ]
  },
  {
   "cell_type": "code",
   "execution_count": 70,
   "metadata": {},
   "outputs": [
    {
     "data": {
      "application/vnd.jupyter.widget-view+json": {
       "model_id": "7933ddecbd2b4e4abf3f21eb037db9eb",
       "version_major": 2,
       "version_minor": 0
      },
      "text/plain": [
       "interactive(children=(FloatSlider(value=1.0, description='Amplitude:', max=1.0, step=0.01), FloatSlider(value=…"
      ]
     },
     "metadata": {},
     "output_type": "display_data"
    }
   ],
   "source": [
    "onda_dente_de_serra = OndaDenteDeSerra(amplitude=DEFAULT_AMP, duracao=DEFAULT_DUR, frequencia=DEFAULT_FREQ)\n",
    "onda_dente_de_serra.cria_ambiente_interativo()"
   ]
  },
  {
   "cell_type": "markdown",
   "metadata": {},
   "source": [
    "Ouça o som da onda dente-de-serra. Ela é semelhante à onda quadrada, rica e áspera, mas diferente.\n",
    "\n",
    "Tente entender como geramos a onda dente-de-serra. Dê uma olhada na função `gerar`."
   ]
  },
  {
   "cell_type": "markdown",
   "metadata": {},
   "source": [
    "#### Onda triangular\n",
    "\n",
    "A **onda triangular** é um sinal sonoro caracterizado por um aumento e uma diminuição linear em amplitude, formando um padrão simétrico de picos e vales. Essa forma de onda possui uma série de harmônicos ímpares, semelhantes à onda quadrada, mas com uma intensidade decrescente mais rápida, o que resulta em um som mais suave e menos áspero.\n",
    "\n",
    "Devido à sua estrutura harmônica, a onda triangular é frequentemente utilizada na síntese sonora para simular sons de sopro e cordas."
   ]
  },
  {
   "cell_type": "code",
   "execution_count": 71,
   "metadata": {},
   "outputs": [],
   "source": [
    "class OndaTriangular(Onda):\n",
    "    def gerar(self):\n",
    "        self.eixo_tempo = np.linspace(0, self.duracao, int(SR * self.duracao))\n",
    "        return self.amplitude * signal.sawtooth(2 * np.pi * self.frequencia * self.eixo_tempo, width=0.5)"
   ]
  },
  {
   "cell_type": "code",
   "execution_count": 72,
   "metadata": {},
   "outputs": [
    {
     "data": {
      "application/vnd.jupyter.widget-view+json": {
       "model_id": "d1b94379821047258b1051279eef0a3d",
       "version_major": 2,
       "version_minor": 0
      },
      "text/plain": [
       "interactive(children=(FloatSlider(value=1.0, description='Amplitude:', max=1.0, step=0.01), FloatSlider(value=…"
      ]
     },
     "metadata": {},
     "output_type": "display_data"
    }
   ],
   "source": [
    "onda_triangular = OndaTriangular(amplitude=1.0, duracao=DEFAULT_DUR, frequencia=DEFAULT_FREQ)\n",
    "onda_triangular.cria_ambiente_interativo()"
   ]
  },
  {
   "cell_type": "markdown",
   "metadata": {},
   "source": [
    "Ouça a onda triangular. Ela é menos áspera que a quadrada e dente-de-serra, mas mais intensa que a senoidal.\n",
    "\n",
    "Tente entender como geramos a onda triangular. Dê uma olhada na função `gerar`."
   ]
  },
  {
   "cell_type": "markdown",
   "metadata": {},
   "source": [
    "## ADSR\n",
    "\n",
    "O som de um instrumento musical não é composto apenas pelo seu caráter harmônico, mas também pela sua **variação dinâmica**, ou seja, a variação da sua amplitude ao longo do tempo. Essa variação pode ser modelada por um envelope dinâmico.\n",
    "\n",
    "Um **envelope dinâmico** é uma função que descreve como a amplitude de um sinal varia ao longo do tempo.\n",
    "\n",
    "Um dos envelopes mais utilizados no mundo da síntese sonora é o **ADSR**, um acrônimo para **Attack**, **Decay**, **Sustain** e **Release**. Aplicado a um sinal sonoro, o ADSR colabora para a percepção um som como parte de um \"instrumento musical\"."
   ]
  },
  {
   "cell_type": "markdown",
   "metadata": {},
   "source": [
    "As etapas do ADSR são as seguintes:\n",
    "\n",
    "1. **Attack**: é o tempo que o sinal leva para atingir o seu valor máximo. O ataque é o início do som.\n",
    "2. **Decay**: é o tempo que o sinal leva para decair e atingir o valor de sustentação.\n",
    "3. **Sustain**: é o valor que o sinal mantém enquanto a tecla do instrumento é pressionada.\n",
    "4. **Release**: é o tempo que o sinal leva para atingir o valor zero após a tecla do instrumento ser solta.\n",
    "\n",
    "Podemos modelar cada uma dessas etapas como funções matemáticas. Para fins didáticos, vamos simplificar essas funções para que sejam funções lineares."
   ]
  },
  {
   "cell_type": "code",
   "execution_count": 73,
   "metadata": {},
   "outputs": [],
   "source": [
    "class AmbienteInterativoADSR():\n",
    "    def __init__(self, adsr):\n",
    "        self.adsr = adsr\n",
    "\n",
    "    def cria_plot(self):\n",
    "        plt.figure(figsize=(DEFAULT_WIDTH, 4))\n",
    "        plt.plot(self.adsr.sintetizador.eixo_tempo, self.adsr.sintetizador.sinal, 'b-', label='Sinal Original')\n",
    "        plt.plot(self.adsr.sintetizador.eixo_tempo, self.adsr.sinal_adsr, 'r-', label='Sinal ADSR')\n",
    "        plt.grid(True)\n",
    "        plt.xlabel('Tempo(s)')\n",
    "        plt.ylabel('Amplitude')\n",
    "        plt.ylim(-1.1, 1.1)\n",
    "        plt.legend()\n",
    "        plt.show()\n",
    "        \n",
    "    def cria_audio_player(self):\n",
    "        display(Audio(self.sintetizador.sinal, rate=SR, normalize=False))\n",
    "        \n",
    "    def callback(self,\n",
    "                 attack, decay, sustain, release,\n",
    "                 sintetizador,\n",
    "                 amplitude, duracao, frequencia):\n",
    "        # Troca de sintetizador\n",
    "        self.adsr.sintetizador = sintetizador\n",
    "        \n",
    "        # Atualiza os parâmetros do sintetizador\n",
    "        st = self.adsr.sintetizador\n",
    "        st.amplitude = amplitude\n",
    "        st.duracao = duracao\n",
    "        st.frequencia = frequencia\n",
    "\n",
    "        # Atualiza os parâmetros do ADSR\n",
    "        adsr = self.adsr\n",
    "        adsr.attack = attack\n",
    "        adsr.decay = decay\n",
    "        adsr.sustain = sustain\n",
    "        adsr.release = release\n",
    "\n",
    "        # Gera um novo sinal do sintetizador\n",
    "        st.eixo_tempo = np.linspace(0, duracao, int(SR * st.duracao))\n",
    "        st.sinal = st.gerar()\n",
    "        \n",
    "        # Gera um novo envelope\n",
    "        adsr.envelope = adsr.gerar()\n",
    "        \n",
    "        # Gera um novo sinal envelopado\n",
    "        adsr.sinal_adsr = adsr.aplica_envelope()\n",
    "        \n",
    "        # Gera o gráfico e reproduz o sinal\n",
    "        self.cria_plot()\n",
    "        display(Audio(adsr.sinal_adsr, rate=SR, normalize=False))"
   ]
  },
  {
   "cell_type": "code",
   "execution_count": 74,
   "metadata": {},
   "outputs": [],
   "source": [
    "class ADSR():\n",
    "    def __init__(self, a=0.1, d=0.1, s=0.7, r=0.2, sintetizador=onda_senoidal):\n",
    "        self.attack       = a\n",
    "        self.decay        = d\n",
    "        self.sustain      = s\n",
    "        self.release      = r\n",
    "        self.sintetizador = sintetizador\n",
    "        self.envelope     = self.gerar()\n",
    "        self.sinal_adsr   = self.aplica_envelope()\n",
    "    \n",
    "    def gerar(self):\n",
    "        num_amostras = len(self.sintetizador.eixo_tempo)\n",
    "        \n",
    "        # Converte tempos para número de amostras\n",
    "        a_samples = int(self.attack * SR)\n",
    "        d_samples = int(self.decay * SR)\n",
    "        r_samples = int(self.release * SR)\n",
    "        \n",
    "        # Calcula o ponto de sustain\n",
    "        sustain_start = a_samples + d_samples\n",
    "        sustain_end = num_amostras - r_samples\n",
    "        \n",
    "        # Envelope ADSR\n",
    "        envelope = np.ones(num_amostras)\n",
    "        \n",
    "        # Ataque (crescimento linear de 0 a 1)\n",
    "        if a_samples > 0:\n",
    "            envelope[:a_samples] = np.linspace(0, 1, a_samples)\n",
    "        \n",
    "        # Decay (decrescimento linear de 1 a s)\n",
    "        if d_samples > 0:\n",
    "            envelope[a_samples:sustain_start] = np.linspace(1, self.sustain, d_samples)\n",
    "        \n",
    "        # Sustain (valor constante s)\n",
    "        envelope[sustain_start:sustain_end] = self.sustain\n",
    "        \n",
    "        # Release (decrescimento linear de s a 0)\n",
    "        if r_samples > 0:\n",
    "            envelope[sustain_end:] = np.linspace(self.sustain, 0, r_samples)\n",
    "            \n",
    "        return envelope\n",
    "        \n",
    "    def aplica_envelope(self):\n",
    "        return self.sintetizador.sinal * self.envelope\n",
    "    \n",
    "    def cria_ambiente_interativo(self):\n",
    "        ambiente = AmbienteInterativoADSR(self)\n",
    "        interativo = interactive(\n",
    "            ambiente.callback,\n",
    "            attack=widgets.FloatSlider(min=0.0, max=1.0, step=0.01, value=self.attack, description='Attack (s):'),\n",
    "            decay=widgets.FloatSlider(min=0.0, max=1.0, step=0.01, value=self.decay, description='Decay (s):'),\n",
    "            sustain=widgets.FloatSlider(min=0.0, max=1.0, step=0.01, value=self.sustain, description='Sustain (0 a 1):'),\n",
    "            release=widgets.FloatSlider(min=0.0, max=1.0, step=0.01, value=self.release, description='Release (s):'),\n",
    "            sintetizador=widgets.Dropdown(\n",
    "                options={\n",
    "                    'Ruído Branco': ruido_branco,\n",
    "                    'Ruído Vermelho': ruido_vermelho,\n",
    "                    'Senoidal': onda_senoidal,\n",
    "                    'Quadrada': onda_quadrada,\n",
    "                    'Dente de Serra': onda_dente_de_serra,\n",
    "                    'Triangular': onda_triangular\n",
    "                },\n",
    "                value=self.sintetizador,\n",
    "                description='Sintetizador:'\n",
    "            ),\n",
    "            amplitude=widgets.FloatSlider(min=0, max=1, step=0.01, value=self.sintetizador.amplitude, description='Amplitude:'),\n",
    "            duracao=widgets.FloatSlider(min=0.1, max=5.0, step=0.01, value=self.sintetizador.duracao, description='Duração (s):'),\n",
    "            frequencia=widgets.IntSlider(min=1, max=1000, step=1, value=DEFAULT_FREQ, description='Frequência (Hz):')\n",
    "        )\n",
    "        display(interativo)"
   ]
  },
  {
   "cell_type": "code",
   "execution_count": 75,
   "metadata": {},
   "outputs": [
    {
     "data": {
      "application/vnd.jupyter.widget-view+json": {
       "model_id": "7a5cc7c0f29b4631b6c045c538398843",
       "version_major": 2,
       "version_minor": 0
      },
      "text/plain": [
       "interactive(children=(FloatSlider(value=0.1, description='Attack (s):', max=1.0, step=0.01), FloatSlider(value…"
      ]
     },
     "metadata": {},
     "output_type": "display_data"
    }
   ],
   "source": [
    "adsr = ADSR()\n",
    "adsr.cria_ambiente_interativo()"
   ]
  },
  {
   "cell_type": "markdown",
   "metadata": {},
   "source": [
    "Experimente mexer com todos os parâmetros do ADSR e ouvir o resultado. Você conseguiria simular:\n",
    "\n",
    "- Um som semelhante a uma tecla de piano sendo pressionada e segurada?\n",
    "- Um som de um sino de elevador?\n",
    "- Um som de um sabre de luz?\n",
    "- Um som de chimbal de bateria acústica?"
   ]
  },
  {
   "cell_type": "markdown",
   "metadata": {},
   "source": [
    "Agora, vamos ver uma implementação profissional de um ADSR no Ableton Live.\n",
    "\n",
    "> *Hora de abrir o Ableton Live...*"
   ]
  },
  {
   "cell_type": "markdown",
   "metadata": {},
   "source": [
    "## Modulação AM\n",
    "\n",
    "A **Modulação AM** (Amplitude Modulation) é uma técnica de modulação de sinal amplamente utilizada tanto em comunicações quanto em síntese sonora. Na modulação AM, a amplitude de um sinal portador é variada de acordo com a amplitude de um sinal modulador, criando um som complexo e dinâmico.\n",
    "\n",
    "- **Sinal Portador**: Este é o sinal de alta frequência que será modulado. Na síntese sonora, o sinal portador é geralmente uma onda senoidal ou outra forma de onda periódica.\n",
    "\n",
    "- **Sinal Modulador**: Este é o sinal de baixa frequência que modula a amplitude do sinal portador. O sinal modulador pode ser uma onda senoidal, uma forma de onda complexa ou até mesmo um sinal de áudio.\n",
    "\n",
    "- **Processo de Modulação**: Na modulação AM, a amplitude do sinal portador é multiplicada amostra-por-amostra pela amplitude do sinal modulador. Isso resulta em um sinal modulado cuja amplitude final é uma mescla do portador e modulador.\n",
    "\n",
    "Dentre as aplicações, ela pode ser usada para criar o efeito sonoro de tremolo, uma variação periódica na amplitude de um som."
   ]
  },
  {
   "cell_type": "code",
   "execution_count": 76,
   "metadata": {},
   "outputs": [],
   "source": [
    "class AmbienteInterativoModulacaoAM:\n",
    "    def __init__(self, modulacao_am):\n",
    "        self.modulacao_am = modulacao_am\n",
    "\n",
    "    def cria_plot(self):\n",
    "        eixo_tempo = self.modulacao_am.sintetizador.eixo_tempo\n",
    "        sinal = self.modulacao_am.sintetizador.sinal\n",
    "        moduladora = self.modulacao_am.moduladora\n",
    "        sinal_modulado = self.modulacao_am.sinal_modulado\n",
    "\n",
    "        plt.figure(figsize=(DEFAULT_WIDTH, 5))\n",
    "        \n",
    "        # Plot da portadora\n",
    "        plt.subplot(311)\n",
    "        plt.plot(eixo_tempo, sinal, 'b-')\n",
    "        plt.grid(True)\n",
    "        plt.xlabel('Tempo (s)')\n",
    "        plt.ylabel('Amplitude')\n",
    "        plt.title('Sinal Portadora')\n",
    "        plt.ylim(-1.1, 1.1)\n",
    "        \n",
    "        # Plot da moduladora\n",
    "        plt.subplot(312)\n",
    "        plt.plot(eixo_tempo, moduladora, 'r-')\n",
    "        plt.grid(True)\n",
    "        plt.xlabel('Tempo (s)')\n",
    "        plt.ylabel('Amplitude')\n",
    "        plt.title('Sinal Moduladora')\n",
    "        plt.ylim(-1.1, 1.1)\n",
    "        \n",
    "        # Plot do sinal modulado\n",
    "        plt.subplot(313)\n",
    "        plt.plot(eixo_tempo, sinal_modulado, 'g-')\n",
    "        plt.grid(True)\n",
    "        plt.xlabel('Tempo (s)')\n",
    "        plt.ylabel('Amplitude')\n",
    "        plt.title('Sinal Modulado (AM)')\n",
    "        plt.ylim(-1.1, 1.1)\n",
    "        \n",
    "        plt.tight_layout()\n",
    "        plt.show()\n",
    "        \n",
    "    def cria_audio_player(self):\n",
    "        display(Audio(self.modulacao_am.sinal_modulado, rate=SR, normalize=False))\n",
    "        \n",
    "    def callback(self, freq_moduladora, amp_moduladora, sintetizador, freq_portadora, amp_portadora, duracao):\n",
    "        # Troca de sintetizador\n",
    "        self.modulacao_am.sintetizador = sintetizador\n",
    "        \n",
    "        # Atualiza os parâmetros do sintetizador\n",
    "        st = self.modulacao_am.sintetizador\n",
    "        st.amplitude = amp_portadora\n",
    "        st.frequencia = freq_portadora\n",
    "        st.duracao = duracao\n",
    "        \n",
    "        # Atualiza os parâmetros da moduladora\n",
    "        self.modulacao_am.freq_moduladora = freq_moduladora\n",
    "        self.modulacao_am.amp_moduladora = amp_moduladora\n",
    "        \n",
    "        # Gera um novo sinal do sintetizador\n",
    "        st.eixo_tempo = np.linspace(0, duracao, int(SR * st.duracao))\n",
    "        st.sinal = st.gerar()\n",
    "        \n",
    "        # Gera um novo sinal modulador\n",
    "        self.modulacao_am.moduladora = self.modulacao_am.gerar()\n",
    "        \n",
    "        # Gera um novo sinal modulado\n",
    "        self.modulacao_am.sinal_modulado = self.modulacao_am.aplica_modulacao()\n",
    "        \n",
    "        # Mostra o gráfico e reproduz o áudio\n",
    "        self.cria_plot()\n",
    "        self.cria_audio_player()"
   ]
  },
  {
   "cell_type": "code",
   "execution_count": 77,
   "metadata": {},
   "outputs": [],
   "source": [
    "class ModulacaoAM:\n",
    "    def __init__(self, sintetizador=onda_senoidal, freq_portadora=DEFAULT_FREQ, amp_portadora=1.0, \n",
    "                 freq_moduladora=5, amp_moduladora=0.5, duracao=DEFAULT_DUR):\n",
    "        self.freq_moduladora         = freq_moduladora\n",
    "        self.amp_moduladora          = amp_moduladora\n",
    "        self.sintetizador            = sintetizador\n",
    "        self.sintetizador.frequencia = freq_portadora\n",
    "        self.sintetizador.amplitude  = amp_portadora\n",
    "        self.duracao                 = duracao\n",
    "        self.moduladora              = self.gerar()\n",
    "        self.sinal_modulado          = self.aplica_modulacao()\n",
    "    \n",
    "    def gerar(self):\n",
    "        return self.amp_moduladora * np.sin(2 * np.pi * self.freq_moduladora * self.sintetizador.eixo_tempo)\n",
    "    \n",
    "    def aplica_modulacao(self):\n",
    "        return self.sintetizador.sinal * self.moduladora\n",
    "    \n",
    "    def cria_ambiente_interativo(self):\n",
    "        ambiente = AmbienteInterativoModulacaoAM(self)\n",
    "        interativo = interactive(\n",
    "            ambiente.callback,\n",
    "            freq_moduladora=widgets.IntSlider(min=1, max=100, step=1, value=self.freq_moduladora, description='Freq. Moduladora:'),\n",
    "            amp_moduladora=widgets.FloatSlider(min=0.1, max=1.0, step=0.1, value=self.amp_moduladora, description='Amp. Moduladora:'),\n",
    "            sintetizador=widgets.Dropdown(\n",
    "                options={\n",
    "                    'Ruído Branco': ruido_branco,\n",
    "                    'Ruído Vermelho': ruido_vermelho,\n",
    "                    'Senoidal': onda_senoidal,\n",
    "                    'Quadrada': onda_quadrada,\n",
    "                    'Dente de Serra': onda_dente_de_serra,\n",
    "                    'Triangular': onda_triangular\n",
    "                },\n",
    "                value=self.sintetizador,\n",
    "                description='Portador:'\n",
    "            ),\n",
    "            freq_portadora=widgets.IntSlider(min=50, max=1000, step=10, value=self.sintetizador.frequencia, description='Freq. Portadora:'),\n",
    "            amp_portadora=widgets.FloatSlider(min=0.1, max=1.0, step=0.1, value=self.sintetizador.amplitude, description='Amp. Portadora:'),\n",
    "            duracao=widgets.FloatSlider(min=0.1, max=5.0, step=0.1, value=self.duracao, description='Duração (s):')\n",
    "        )\n",
    "        display(interativo)"
   ]
  },
  {
   "cell_type": "code",
   "execution_count": 78,
   "metadata": {},
   "outputs": [
    {
     "data": {
      "application/vnd.jupyter.widget-view+json": {
       "model_id": "58b9613ea75e4a619f08aa938da7dd00",
       "version_major": 2,
       "version_minor": 0
      },
      "text/plain": [
       "interactive(children=(IntSlider(value=5, description='Freq. Moduladora:', min=1), FloatSlider(value=0.5, descr…"
      ]
     },
     "metadata": {},
     "output_type": "display_data"
    }
   ],
   "source": [
    "am = ModulacaoAM()\n",
    "am.cria_ambiente_interativo()"
   ]
  },
  {
   "cell_type": "markdown",
   "metadata": {},
   "source": [
    "Na implementação simplificada acima, é possível escolher o sinal modulador dentre ruídos e sinais periódicos. Modelamos o sinal modulador como uma senoidal.\n",
    "\n",
    "Explore os parâmetros! Tente recriar sons que você já conheça. Toques de celular, sirenes, etc."
   ]
  },
  {
   "cell_type": "markdown",
   "metadata": {},
   "source": [
    "## Conclusão\n",
    "\n",
    "Chegamos ao final do nosso workshop de síntese sonora! Ao longo desse percurso, exploramos vários conceitos que são a base para a criação de sonoridades musicais digitais. Vamos dar uma rápida olhada no que cobrimos:\n",
    "\n",
    "- **Som e Sinal**\n",
    "- **Amostragem e Quantização**\n",
    "- **Percepção Sonora**\n",
    "- **Espectro de Frequência**\n",
    "- **Sinais Elementares**\n",
    "- **Parciais e Harmônicos**\n",
    "- **ADSR**\n",
    "- **Modulação AM**\n",
    "\n",
    "Espero que você tenha curtido essa jornada pelo mundo da síntese sonora! Nos vemos no próximo workshop!"
   ]
  }
 ],
 "metadata": {
  "kernelspec": {
   "display_name": "venv",
   "language": "python",
   "name": "python3"
  },
  "language_info": {
   "codemirror_mode": {
    "name": "ipython",
    "version": 3
   },
   "file_extension": ".py",
   "mimetype": "text/x-python",
   "name": "python",
   "nbconvert_exporter": "python",
   "pygments_lexer": "ipython3",
   "version": "3.10.12"
  }
 },
 "nbformat": 4,
 "nbformat_minor": 2
}
