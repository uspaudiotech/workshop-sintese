{
 "cells": [
  {
   "cell_type": "markdown",
   "metadata": {},
   "source": [
    "# Do Zero ao Som: Criando Áudio Digital com Python"
   ]
  },
  {
   "cell_type": "code",
   "execution_count": 4,
   "metadata": {},
   "outputs": [],
   "source": [
    "# Rode a célula se estiver no Google Colab\n",
    "# from google.colab import output\n",
    "# output.enable_custom_widget_manager()\n",
    "# !pip install ipympl"
   ]
  },
  {
   "cell_type": "code",
   "execution_count": 5,
   "metadata": {},
   "outputs": [],
   "source": [
    "# Importe as dependências\n",
    "\n",
    "import numpy as np\n",
    "import matplotlib.pyplot as plt\n",
    "%matplotlib ipympl\n",
    "from IPython.display import Audio, display\n",
    "import ipywidgets as widgets\n",
    "from ipywidgets import interactive\n",
    "from scipy.io import wavfile\n",
    "from scipy import signal\n",
    "from abc import ABC, abstractmethod"
   ]
  },
  {
   "cell_type": "code",
   "execution_count": 6,
   "metadata": {},
   "outputs": [],
   "source": [
    "# Vamos definir algumas variáveis globais\n",
    "SR = 44100\n",
    "DEFAULT_AMP = 1.0\n",
    "DEFAULT_DUR = 1.0\n",
    "DEFAULT_FREQ = 220"
   ]
  },
  {
   "cell_type": "markdown",
   "metadata": {},
   "source": [
    "## Introdução\n",
    "\n",
    "> *Como o computador processa uma música digitalmente?*\n",
    ">\n",
    "> *Como podemos entender uma representação digital de um sinal de áudio?*\n",
    ">\n",
    "> *Como sintetizadores digitais são desenvolvidos?*\n",
    "\n",
    "Neste workshop, vamos entender um pouco sobre o que é um sinal de áudio digital e como podemos criar sons a partir do zero utilizando Python. Tudo isso de maneira interativa e prática.\n",
    "\n",
    "Divirta-se!"
   ]
  },
  {
   "cell_type": "markdown",
   "metadata": {},
   "source": [
    "## Som e Sinal\n",
    "\n",
    "Vamos ganhar uma intuição inicial sobre o que é som e o que é sinal sonoro. Essas definições são importantes para entendermos o que estamos fazendo quando mexemos com áudio digital. A síntese sonora digital é uma área fascinante que combina ciência, tecnologia e arte para criar e manipular sons de maneiras inovadoras.\n",
    "\n",
    "### O que é som?\n",
    "\n",
    "**Som** é um fenômeno físico que ocorre quando moléculas de ar (ou outro meio elástico) se comprimem e rarefazem rapidamente.\n",
    "\n",
    "Alto-falantes, por exemplo, movem-se para frente e para trás rapidamente, comprimindo e rarefazendo o ar, criando som. Por sua vez, nossos ouvidos são capazes de captar essas variações de pressão do ar e transformá-las em sinais elétricos que são enviados ao nosso cérebro.\n",
    "\n",
    "Podemos modelar esse movimento do ar com a ajuda de computadores e da matemática. Isso nos permite não apenas reproduzir sons naturais, mas também criar sons completamente sintéticos.\n",
    "\n",
    "### O que é sinal sonoro?\n",
    "\n",
    "Um **sinal sonoro** pode ser entendido como uma função matemática que descreve a variação de pressão do ar ou tensão elétrica ao longo do tempo. Podemos visualizar um sinal sonoro com um gráfico onde o eixo horizontal representa o tempo e o eixo vertical representa a amplitude do som em cada instante de tempo. Essa representação gráfica é fundamental para a análise e manipulação de áudio digital.\n",
    "\n",
    "Caso você nunca tenha visto a onda de uma música antes, observe o sinal dos primeiros 60 segundos da música \"No Ordinary Love\" da cantora Sade no software Ableton Live. Essa visualização ajuda a entender como diferentes sons e instrumentos contribuem para a textura geral de uma música."
   ]
  },
  {
   "cell_type": "markdown",
   "metadata": {},
   "source": [
    "> *This is no ordinary love...*"
   ]
  },
  {
   "cell_type": "markdown",
   "metadata": {},
   "source": [
    "### Sinais analógicos e digitais\n",
    "\n",
    "Consegue perceber que temos vários pontos no gráfico da onda sonora? Cada um desses pontos representa a intensidade do som em um instante de tempo.\n",
    "Por isso, podemos dizer que esse sinal sonoro é **discreto** ou **digital**.\n",
    "\n",
    "Mas o que diferencia um sinal digital de um sinal analógico? Vamos simplificar:\n",
    "\n",
    "> Dizemos que um sinal sonoro é **analógico** quando a função está definida para todos os instantes no tempo. Em outras palavras, o sinal é **contínuo**. Sinais analógicos são aqueles que encontramos no mundo real, como o som que ouvimos naturalmente, e também em equipamentos de áudio tradicionais, como microfones e alto-falantes.\n",
    "\n",
    "> Dizemos que um sinal sonoro é **digital** quando a função está definida apenas para uma lista finita de instantes no tempo, tornando o sinal **discreto**. Sinais digitais são utilizados em computadores e equipamentos digitais, permitindo o armazenamento e processamento eficiente de áudio.\n",
    "\n",
    "Podemos imaginar um arquivo de áudio digital como uma **grande lista de números**, onde cada número representa a amplitude do som em um ponto específico no tempo."
   ]
  },
  {
   "cell_type": "code",
   "execution_count": 7,
   "metadata": {},
   "outputs": [
    {
     "name": "stdout",
     "output_type": "stream",
     "text": [
      "Tipo de dado do arquivo de áudio: int16\n",
      "Algumas amostras do arquivo de áudio: [-11313 -10939 -11831 -12245 -11796 -11042 -11059 -10910  -9690  -9067]\n"
     ]
    }
   ],
   "source": [
    "# Carrega o arquivo de áudio e extrai o sample rate\n",
    "sample_rate, audio_file = wavfile.read('Sade-No_Ordinary_Love-60s.wav')\n",
    "\n",
    "# Mostra o tipo de dado armazenado no arquivo de áudio (NumPy Dtype)\n",
    "print(\"Tipo de dado do arquivo de áudio:\", audio_file.dtype) # int16, de [-32768, +32767]\n",
    "\n",
    "# Imprime uma parte do arquivo de áudio\n",
    "print(\"Algumas amostras do arquivo de áudio:\", audio_file[480000:480000+10, 0]) # 10 amostras do canal esquerdo"
   ]
  },
  {
   "cell_type": "markdown",
   "metadata": {},
   "source": [
    "No exemplo acima, cada elemento da lista representa uma amplitude do som em um intervalo de inteiros de 16 bits, variando de -32768 a 32767. No entanto, ao processar áudio, é comum utilizarmos uma escala normalizada que varia de -1 a 1, facilitando cálculos e manipulações."
   ]
  },
  {
   "cell_type": "markdown",
   "metadata": {},
   "source": [
    "## Amostragem e Quantização\n",
    "\n",
    "Agora que entendemos o que é um sinal sonoro digital, podemos explorar como ele é representado e processado em um computador. Para isso, precisamos definir algumas regras para a discretização nos eixos do tempo e da amplitude. Esses processos são conhecidos como amostragem e quantização.\n",
    "\n",
    "### Amostragem\n",
    "\n",
    "Amostragem é o processo de **discretização do sinal no eixo do tempo**. Imagine que você está tirando fotos de um evento contínuo em intervalos regulares; cada foto representa uma **amostra** do evento. Da mesma forma, na amostragem, capturamos a amplitude do som em intervalos de tempo regulares.\n",
    "\n",
    "A **taxa de amostragem** é definida como o número de amostras capturadas por segundo, medida em **Hertz (Hz)**. Taxas de amostragem comuns incluem 44.1 kHz (usada em CDs de áudio), 48 kHz (usada em vídeos), e 96 kHz (usada em gravações de alta qualidade). Uma taxa de amostragem mais alta permite capturar mais detalhes do som, mas também requer mais espaço de armazenamento.\n",
    "\n",
    "### Quantização\n",
    "\n",
    "Quantização é o processo de **discretização do sinal no eixo da amplitude**. Após capturar as amostras, precisamos representar suas amplitudes em valores numéricos discretos.\n",
    "\n",
    "A **resolução** da quantização é definida pelo número de níveis de amplitude possíveis, medido em **bits**. Resoluções comuns são 8 bits, 16 bits (usada em CDs de áudio), e 24 bits (usada em gravações profissionais). Uma resolução mais alta permite representar o som com maior precisão, reduzindo o ruído de quantização.\n",
    "\n",
    "Agora que entendemos que um sinal sonoro digital é discretizado tanto no tempo quanto na amplitude, podemos ver como essas etapas são cruciais para a qualidade do áudio digital.\n",
    "\n",
    "### Experimente Você Mesmo\n",
    "\n",
    "Abaixo, você encontrará um ambiente interativo onde pode experimentar como uma onda senoidal muda com diferentes frequências, taxas de amostragem e resoluções. Isso permitirá que você veja em primeira mão como essas variáveis afetam a representação digital do som.\n"
   ]
  },
  {
   "cell_type": "code",
   "execution_count": 8,
   "metadata": {},
   "outputs": [
    {
     "data": {
      "application/vnd.jupyter.widget-view+json": {
       "model_id": "d74e2ee29ce344c28d6633086a39081e",
       "version_major": 2,
       "version_minor": 0
      },
      "text/plain": [
       "interactive(children=(IntSlider(value=100, description='Taxa de Amostragem (Hz):', max=11200, min=1, step=10),…"
      ]
     },
     "metadata": {},
     "output_type": "display_data"
    }
   ],
   "source": [
    "def visualiza_amostragem_e_quantizacao(SR=1000, bits=16, frequencia=DEFAULT_FREQ, amplitude=1.0, mostrar_continuo=False):\n",
    "    # Parâmetros para visualização\n",
    "    duracao = 1.0\n",
    "    \n",
    "    # Sinal contínuo (com mais pontos para parecer contínuo)\n",
    "    t_continuo = np.linspace(0, duracao, 10000)\n",
    "    sinal_continuo = np.sin(2 * np.pi * frequencia * t_continuo)\n",
    "    \n",
    "    # Amostragem do sinal contínuo\n",
    "    t_amostrado = np.linspace(0, duracao, int(SR * duracao))\n",
    "    onda = np.sin(2 * np.pi * frequencia * t_amostrado)\n",
    "    \n",
    "    # Quantização do sinal contínuo\n",
    "    resolucao = 2**bits\n",
    "    onda_quantizada = -1 + 2**(-bits) + 2*np.floor((resolucao-1e-8) * (0.5 + 0.5*onda)) / (resolucao)\n",
    "    onda_quantizada *= amplitude\n",
    "    \n",
    "    # Cria o gráfico\n",
    "    plt.figure(figsize=(16, 4))\n",
    "    if mostrar_continuo:\n",
    "        plt.plot(t_continuo, sinal_continuo, 'b-', label='Sinal Contínuo', alpha=0.5)\n",
    "    plt.plot(t_amostrado, onda_quantizada, 'r.', label='Sinal Digital')\n",
    "    plt.grid(True)\n",
    "    plt.xlabel('Tempo (s)')\n",
    "    plt.ylabel('Amplitude')\n",
    "    plt.title(f'Senoide ({frequencia} Hz) - {SR} Hz de amostragem, {bits} bits de resolução')\n",
    "    plt.legend()\n",
    "    plt.show()\n",
    "    \n",
    "    # Mostra o player de áudio\n",
    "    display(Audio(onda_quantizada, rate=SR, normalize=False))\n",
    "    \n",
    "\n",
    "# Cria a interface interativa\n",
    "interactive_plot = interactive(\n",
    "    visualiza_amostragem_e_quantizacao,\n",
    "    SR=widgets.IntSlider(min=1, max=11200, step=10, value=100, description='Taxa de Amostragem (Hz):'),\n",
    "    bits=widgets.IntSlider(min=1, max=24, step=1, value=16, description='Bits de Resolução:'),\n",
    "    frequencia=widgets.IntSlider(min=1, max=440, step=1, value=1, description='Frequência (Hz):'),\n",
    "    amplitude=widgets.FloatSlider(min=0.1, max=1.0, step=0.1, value=1.0, description='Amplitude:'),\n",
    "    mostrar_continuo=widgets.Checkbox(value=False, description='Mostrar Sinal Contínuo')\n",
    ")\n",
    "display(interactive_plot)"
   ]
  },
  {
   "cell_type": "markdown",
   "metadata": {},
   "source": [
    "## Percepção Sonora\n",
    "\n",
    "Para ouvir algum som ao tocar o áudio, tente ajustar a frequência para, pelo menos, 80 Hz. O ouvido humano é capaz de ouvir sons em um intervalo de 20 a 20 mil Hertz (Hz), conhecido como o **espectro audível**. Dentro desse intervalo, nossa percepção sonora é influenciada por vários fatores, incluindo frequência, amplitude e o contexto em que o som é ouvido.\n",
    "\n",
    "### Frequência e Altura\n",
    "\n",
    "A frequência de um som determina sua **altura**, ou seja, se ele é percebido como **grave ou agudo**. Sons de baixa frequência, como o som de um tambor, são percebidos como graves, enquanto sons de alta frequência, como o canto de um pássaro, são percebidos como agudos.\n",
    "\n",
    "### Amplitude e Volume\n",
    "\n",
    "A amplitude de um som está relacionada à sua **intensidade ou volume**. Sons com maior amplitude são percebidos como mais altos, enquanto sons com menor amplitude são percebidos como mais baixos. O volume é geralmente medido em **decibéis (dB)**, uma escala logarítmica relativa que expressa a intensidade do som em relação a um nível de referência. Essa escala é útil porque o ouvido humano percebe mudanças de volume de forma proporcional, não linear.\n",
    "\n",
    "No contexto de síntese sonora, é útil entender os diferentes tipos de dB utilizados:\n",
    "- **dB SPL (Sound Pressure Level)**: Mede a pressão sonora em relação a um nível de referência no ar. É comumente usado para descrever o volume de sons no ambiente, sendo 0 dB SPL o limiar da audição humana, ou seja, o som mais fraco que o ouvido humano pode detectar. Sons audíveis possuem intensidade maior que 0 dB SPL.\n",
    "- **dB FS (Full Scale)**: Usado em áudio digital, 0 dB FS representa o valor máximo que pode ser representado sem distorção (clipping). Qualquer valor acima de 0 dB FS resultará em distorção, pois o sistema não pode representar amplitudes maiores. À medida que a escala desce para -1 dB FS, -2 dB FS, e assim por diante, os valores representam amplitudes menores que não causam distorção. O som audível mais fraco em um sistema digital é determinado pelo menor valor representável, que depende da resolução em bits do sistema.\n",
    "\n",
    "### Sensibilidade Auditiva\n",
    "\n",
    "O ouvido humano não é igualmente sensível a todas as frequências. Somos mais sensíveis a frequências entre 2 kHz e 5 kHz, que coincidem com a faixa de frequências da fala humana. Essa sensibilidade variável explica por que certos sons são mais fáceis de ouvir do que outros, mesmo que tenham a mesma amplitude.\n",
    "\n",
    "### Contexto e Experiência\n",
    "\n",
    "A percepção sonora também é influenciada pelo contexto e pela experiência individual. Fatores como a acústica do ambiente, a presença de ruído de fundo e a familiaridade com o som podem afetar como percebemos e interpretamos o som."
   ]
  },
  {
   "cell_type": "markdown",
   "metadata": {},
   "source": [
    "## Espectro de frequência\n",
    "\n",
    "O espectro de frequência é uma representação visual que mostra como a energia de um sinal sonoro é distribuída entre diferentes frequências. Imagine o espectro de frequência como um gráfico onde o eixo horizontal representa as frequências (medidas em Hertz) e o eixo vertical representa a amplitude ou intensidade dessas frequências.\n",
    "\n",
    "Na síntese sonora, o espectro de frequência é usado para criar e manipular sons. Ao ajustar as frequências e suas amplitudes, podemos esculpir o som desejado, reforçando ou atenuando bandas de frequência graves ou agudas.\n",
    "\n",
    "Veja uma implementação do espectro de frequência da música \"No Ordinary Love\", que carregamos anteriormente."
   ]
  },
  {
   "cell_type": "code",
   "execution_count": 9,
   "metadata": {},
   "outputs": [
    {
     "data": {
      "application/vnd.jupyter.widget-view+json": {
       "model_id": "8e30aa79808d45a690f9b14e7cd004af",
       "version_major": 2,
       "version_minor": 0
      },
      "image/png": "[encoded data removed]",
      "text/html": [
       "\n",
       "            <div style=\"display: inline-block;\">\n",
       "                <div class=\"jupyter-widgets widget-label\" style=\"text-align: center;\">\n",
       "                    Figure\n",
       "                </div>\n",
       "                <img src='data:image/png;base64,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' width=1800.0/>\n",
       "            </div>\n",
       "        "
      ],
      "text/plain": [
       "Canvas(toolbar=Toolbar(toolitems=[('Home', 'Reset original view', 'home', 'home'), ('Back', 'Back to previous …"
      ]
     },
     "metadata": {},
     "output_type": "display_data"
    }
   ],
   "source": [
    "from scipy.fft import fft, fftfreq\n",
    "\n",
    "def plot_audio_spectrum(audio, sample_rate):\n",
    "    # Computa a FFT do áudio inteiro \n",
    "    N = len(audio)\n",
    "    yf = fft(audio)\n",
    "    xf = fftfreq(N, 1 / sample_rate)\n",
    "\n",
    "    # Filtra frequências entre 20 e 20 kHz (espectro audível)\n",
    "    mask = (xf >= 20) & (xf <= 20000)\n",
    "    xf = xf[mask]\n",
    "    yf = np.abs(yf[mask])\n",
    "\n",
    "    # Define marcadores personalizados para frequências importantes para música \n",
    "    musical_frequencies = [20, 50, 100, 200, 400, 800, 1600, 3200, 6400, 12800, 20000]\n",
    "    tick_labels = [f\"{freq} Hz\" for freq in musical_frequencies]\n",
    "\n",
    "    # Cria o gráfico\n",
    "    plt.figure(figsize=(18, 6))\n",
    "    plt.semilogx(xf, yf)\n",
    "    plt.title(\"Espectro do audio_file em escala de frequência logarítmica\")\n",
    "    plt.xlabel(\"Frequência (Hz)\")\n",
    "    plt.ylabel(\"Amplitude\")\n",
    "    plt.xticks(musical_frequencies, tick_labels)\n",
    "    plt.grid()\n",
    "    plt.show()\n",
    "\n",
    "plot_audio_spectrum(audio_file[:, 0], sample_rate) # Plot do espectro do canal esquerdo"
   ]
  },
  {
   "cell_type": "markdown",
   "metadata": {},
   "source": [
    "Vamos ver no Ableton Live uma implementação profissional de espectro de frequência."
   ]
  },
  {
   "cell_type": "markdown",
   "metadata": {},
   "source": [
    "> *This is no ordinary love...*"
   ]
  },
  {
   "cell_type": "markdown",
   "metadata": {},
   "source": [
    "## Sinais elementares\n",
    "\n",
    "Vamos estudar alguns sinais elementares: **ruídos** e **sinais periódicos**. Eles são a base para a construção de sons mais complexos (e mais interessantes)."
   ]
  },
  {
   "cell_type": "code",
   "execution_count": 10,
   "metadata": {},
   "outputs": [],
   "source": [
    "# Vamos definir uma classe abstrata para a implementação dos ambientes interativos \n",
    "class AmbienteInterativoSintetizador(ABC):\n",
    "    def __init__(self, sintetizador):\n",
    "        self.sintetizador = sintetizador\n",
    "\n",
    "    def cria_plot(self):\n",
    "        plt.figure(figsize=(18, 6))\n",
    "        plt.plot(self.sintetizador.eixo_tempo, self.sintetizador.sinal, 'b-')\n",
    "        plt.grid(True)\n",
    "        plt.xlabel('Tempo (s)')\n",
    "        plt.ylabel('Amplitude')\n",
    "        plt.ylim(-1.1, 1.1)\n",
    "        plt.show()\n",
    "        \n",
    "    def cria_audio_player(self):\n",
    "        display(Audio(self.sintetizador.sinal, rate=SR, normalize=False))\n",
    "    \n",
    "    @abstractmethod\n",
    "    def callback():\n",
    "        pass"
   ]
  },
  {
   "cell_type": "code",
   "execution_count": 11,
   "metadata": {},
   "outputs": [],
   "source": [
    "# Vamos definir uma classe abstrata para a implementação dos sinais elementares\n",
    "class Sintetizador(ABC):\n",
    "    def __init__(self, amplitude=1.0, duracao=DEFAULT_DUR, frequencia=DEFAULT_FREQ):\n",
    "        self.amplitude  = amplitude\n",
    "        self.duracao    = duracao\n",
    "        self.frequencia = frequencia\n",
    "        self.sinal      = self.gerar()\n",
    "        self.eixo_tempo = None\n",
    "\n",
    "    @abstractmethod\n",
    "    def gerar(self):\n",
    "        pass\n",
    "    \n",
    "    @abstractmethod\n",
    "    def cria_ambiente_interativo(self):\n",
    "        pass"
   ]
  },
  {
   "cell_type": "markdown",
   "metadata": {},
   "source": [
    "### Ruídos\n",
    "\n",
    "No mundo do áudio, **ruído** não possui uma definição categórica, mas é comum entendê-lo como um sinal sonoro que:\n",
    "\n",
    "- Não possui uma altura musical definida\n",
    "- Não costuma ser periódico\n",
    "\n",
    "Ruídos são caracterizados por sua **densidade espectral**, que é a distribuição de energia do sinal em função da frequência. Diferentes tipos de ruído são frequentemente identificados por \"cores\", como **branco, vermelho e rosa**, cada um com suas próprias características espectrais.\n",
    "\n",
    "Vamos sintetizar e ouvir os ruídos branco e vermelho."
   ]
  },
  {
   "cell_type": "code",
   "execution_count": 12,
   "metadata": {},
   "outputs": [],
   "source": [
    "class AmbienteInterativoRuido(AmbienteInterativoSintetizador):\n",
    "    def callback(self, amplitude, duracao):\n",
    "        # Atualiza os parâmetros do sintetizador\n",
    "        self.sintetizador.amplitude = amplitude\n",
    "        self.sintetizador.duracao = duracao\n",
    "\n",
    "        # Gera um novo sinal\n",
    "        self.sintetizador.sinal = self.sintetizador.gerar()\n",
    "\n",
    "        self.cria_plot()\n",
    "        self.cria_audio_player()"
   ]
  },
  {
   "cell_type": "code",
   "execution_count": 16,
   "metadata": {},
   "outputs": [],
   "source": [
    "class Ruido(Sintetizador):\n",
    "    def cria_ambiente_interativo(self):\n",
    "        ambiente = AmbienteInterativoRuido(self)\n",
    "        interativo = interactive(\n",
    "            ambiente.callback,\n",
    "            amplitude=widgets.FloatSlider(min=0, max=1, step=0.1, value=self.amplitude, description=\"Amplitude:\"),\n",
    "            duracao=widgets.FloatSlider(min=0.1, max=1, step=0.1, value=self.duracao, description=\"Duração (s)\"),\n",
    "        )\n",
    "        display(interativo)"
   ]
  },
  {
   "cell_type": "markdown",
   "metadata": {},
   "source": [
    "**ATENÇÃO: ABAIXE (MUITO) O VOLUME DO SEU COMPUTADOR ANTES DE OUVIR OS ÁUDIOS.**"
   ]
  },
  {
   "cell_type": "markdown",
   "metadata": {},
   "source": [
    "#### Ruído branco\n",
    "\n",
    "O **ruído branco** é um sinal sonoro que possui energia **uniformemente distribuída em todas as frequências audíveis**. Isso significa que cada frequência dentro do espectro audível tem a mesma potência, resultando em um som constante e uniforme.\n",
    "\n",
    "Você pode ter ouvido ruído branco em um rádio fora de sintonia ou em uma televisão sem sinal. Além desses exemplos, o ruído branco é frequentemente usado em testes de equipamentos de áudio para verificar a resposta em frequência.\n",
    "\n",
    "Vamos sintetizar um ruído branco e ouvi-lo:"
   ]
  },
  {
   "cell_type": "code",
   "execution_count": 17,
   "metadata": {},
   "outputs": [],
   "source": [
    "class RuidoBranco(Ruido):\n",
    "    def gerar(self):\n",
    "        # Gera o eixo do tempo\n",
    "        self.eixo_tempo = np.linspace(0, self.duracao, int(SR * self.duracao))\n",
    "        # Gera o sinal de ruído branco\n",
    "        return np.random.uniform(-self.amplitude, self.amplitude, len(self.eixo_tempo))"
   ]
  },
  {
   "cell_type": "code",
   "execution_count": 18,
   "metadata": {},
   "outputs": [
    {
     "data": {
      "application/vnd.jupyter.widget-view+json": {
       "model_id": "51d6cd8e1bd44f188ffa580f266f2697",
       "version_major": 2,
       "version_minor": 0
      },
      "text/plain": [
       "interactive(children=(FloatSlider(value=1.0, description='Amplitude:', max=1.0), FloatSlider(value=1.0, descri…"
      ]
     },
     "metadata": {},
     "output_type": "display_data"
    }
   ],
   "source": [
    "ruido_branco = RuidoBranco(amplitude=DEFAULT_AMP, duracao=DEFAULT_DUR)\n",
    "ruido_branco.cria_ambiente_interativo()"
   ]
  },
  {
   "cell_type": "markdown",
   "metadata": {},
   "source": [
    "#### Ruído vermelho\n",
    "\n",
    "O **ruído vermelho**, também conhecido como ruído Browniano ou ruído marrom, é um tipo de ruído que possui energia inversamente proporcional à frequência. Isso significa que ele tem mais energia em frequências baixas e menos energia em frequências altas, resultando em um som mais suave em comparação com o ruído branco.\n",
    "\n",
    "Devido à sua ênfase em frequências mais baixas, o ruído vermelho é frequentemente percebido como mais agradável e menos intrusivo do que o ruído branco. Essa característica o torna útil em aplicações como a criação de ambientes sonoros relaxantes e em música eletrônica, onde um som mais encorpado e menos estridente é desejado.\n",
    "\n",
    "Vamos sintetizar um ruído vermelho e ouvi-lo:"
   ]
  },
  {
   "cell_type": "code",
   "execution_count": 19,
   "metadata": {},
   "outputs": [],
   "source": [
    "class RuidoVermelho(Ruido):\n",
    "    def gerar(self):\n",
    "        self.eixo_tempo = np.linspace(0, self.duracao, int(SR * self.duracao))\n",
    "\n",
    "        amostras = int(SR * self.duracao)\n",
    "\n",
    "        branco = np.random.uniform(-1, 1, amostras) # O ruído vermelho é derivado do ruído branco\n",
    "\n",
    "        vermelho = np.zeros(1 * amostras)\n",
    "        vermelho[0] = branco[0] # Inicializa a primeira amostra\n",
    "\n",
    "        for i in range(1, amostras):\n",
    "            vermelho[i] = branco[i] + vermelho[i - 1]\n",
    "\n",
    "        vermelho = vermelho / np.max(np.abs(vermelho))\n",
    "        \n",
    "        vermelho = self.amplitude * vermelho # ajuste de amplitude\n",
    "\n",
    "        return vermelho"
   ]
  },
  {
   "cell_type": "code",
   "execution_count": 20,
   "metadata": {},
   "outputs": [
    {
     "data": {
      "application/vnd.jupyter.widget-view+json": {
       "model_id": "43e5bdbea60c4e9ebc8bc8908971dacb",
       "version_major": 2,
       "version_minor": 0
      },
      "text/plain": [
       "interactive(children=(FloatSlider(value=1.0, description='Amplitude:', max=1.0), FloatSlider(value=1.0, descri…"
      ]
     },
     "metadata": {},
     "output_type": "display_data"
    }
   ],
   "source": [
    "ruido_vermelho = RuidoVermelho(amplitude=1.0, duracao=DEFAULT_DUR)\n",
    "ruido_vermelho.cria_ambiente_interativo() "
   ]
  },
  {
   "cell_type": "markdown",
   "metadata": {},
   "source": [
    "#### *Qual a utilidade de ruídos na síntese sonora?*\n",
    "\n",
    "Embora ruídos possam não ter um aspecto musical por si só, eles desempenham um papel crucial na síntese sonora. A partir de um ruído, podemos aplicar diversas técnicas, como filtros, envelopes e efeitos, para criar sons mais complexos e musicalmente interessantes.\n",
    "\n",
    "Ruídos são frequentemente usados como base na criação de texturas sonoras, efeitos de percussão e ambiências. Por exemplo, ao utilizar envelopes ADSR, podemos moldar a dinâmica do som, transformando um ruído estático em um elemento musical dinâmico.\n",
    "\n",
    "Vamos explorar essas técnicas mais adiante, quando discutirmos envelopes ADSR e outras ferramentas de modulação na síntese sonora."
   ]
  },
  {
   "cell_type": "markdown",
   "metadata": {},
   "source": [
    "### Sinais periódicos\n",
    "\n",
    "Um sinal periódico possui como característica principal a repetição de um padrão de onda ao longo do tempo. Esse padrão pode ser chamado de **ciclo** ou **período**.\n",
    "\n",
    "A **frequência** de um sinal periódico é o número de ciclos que se repetem em um segundo. Medimos a frequência em **Hertz** (Hz).\n",
    "\n",
    "A percepção de frequência é o que chamamos de **altura** do som, ou seja, se o som é grave ou agudo. Como visto anteriormente, a percepção de frequência é o que chamamos de altura do som, ou seja, se o som é grave ou agudo.\n",
    "\n",
    "Os sinais periódicos elementares são as **ondas senoidais**, **ondas quadradas**, **ondas dente-de-serra** e **ondas triangulares**, cada um com um formato de ciclo e característica tonal particular.\n",
    "\n",
    "Vamos sintetizar e ouvir cada um desses sinais periódicos."
   ]
  },
  {
   "cell_type": "code",
   "execution_count": 21,
   "metadata": {},
   "outputs": [],
   "source": [
    "class AmbienteInterativoOnda(AmbienteInterativoSintetizador):\n",
    "    def callback(self, amplitude, duracao, frequencia):\n",
    "        # Atualiza os parâmetros do sintetizador\n",
    "        self.sintetizador.amplitude = amplitude\n",
    "        self.sintetizador.duracao = duracao\n",
    "        self.sintetizador.frequencia = frequencia\n",
    "        \n",
    "        # Gera um novo sinal\n",
    "        self.sintetizador.sinal = self.sintetizador.gerar() \n",
    "        \n",
    "        # Gera os displays\n",
    "        self.cria_plot()\n",
    "        self.cria_audio_player()"
   ]
  },
  {
   "cell_type": "code",
   "execution_count": 22,
   "metadata": {},
   "outputs": [],
   "source": [
    "class Onda(Sintetizador):\n",
    "    def cria_ambiente_interativo(self):\n",
    "        ambiente = AmbienteInterativoOnda(self)\n",
    "        interativo = interactive(\n",
    "            ambiente.callback,\n",
    "            amplitude=widgets.FloatSlider(min=0, max=1, step=0.01, value=self.amplitude, description=\"Amplitude:\"),\n",
    "            duracao=widgets.FloatSlider(min=0.1, max=1, step=0.1, value=self.duracao, description=\"Duração (s)\"),\n",
    "            frequencia=widgets.IntSlider(min=1, max=440, step=1, value=self.frequencia, description=\"Frequência (Hz)\"),\n",
    "        )\n",
    "        display(interativo)"
   ]
  },
  {
   "cell_type": "markdown",
   "metadata": {},
   "source": [
    "#### Onda senoidal\n",
    "\n",
    "A **onda senoidal** é um sinal sonoro que possui um único componente de frequência, conhecido como parcial, o que a torna um \"tom puro\". Devido à sua simplicidade e pureza, a onda senoidal é fundamental na síntese sonora. Ela serve como a base para a construção de muitas outras técnicas de síntese mais sofisticadas, permitindo a criação de sons complexos a partir de combinações de tons puros. Além disso, as ondas senoidais são amplamente utilizadas em testes de áudio e calibração de equipamentos devido à sua natureza previsível e estável."
   ]
  },
  {
   "cell_type": "code",
   "execution_count": 23,
   "metadata": {},
   "outputs": [],
   "source": [
    "class OndaSenoidal(Onda):\n",
    "    def gerar(self):\n",
    "        # Gera o eixo do tempo\n",
    "        self.eixo_tempo = np.linspace(0, self.duracao, int(SR * self.duracao))\n",
    "        # Gera o sinal com a função seno\n",
    "        return self.amplitude * np.sin(2 * np.pi * self.frequencia * self.eixo_tempo)"
   ]
  },
  {
   "cell_type": "code",
   "execution_count": 24,
   "metadata": {},
   "outputs": [
    {
     "data": {
      "application/vnd.jupyter.widget-view+json": {
       "model_id": "87036899ed8143169116ca0d67e60df3",
       "version_major": 2,
       "version_minor": 0
      },
      "text/plain": [
       "interactive(children=(FloatSlider(value=1.0, description='Amplitude:', max=1.0, step=0.01), FloatSlider(value=…"
      ]
     },
     "metadata": {},
     "output_type": "display_data"
    }
   ],
   "source": [
    "onda_senoidal = OndaSenoidal(amplitude=1.0, duracao=DEFAULT_DUR, frequencia=DEFAULT_FREQ)\n",
    "onda_senoidal.cria_ambiente_interativo()"
   ]
  },
  {
   "cell_type": "markdown",
   "metadata": {},
   "source": [
    "Observe o formato da onda senoidal. Não surpreendentemente, ela possui a forma de uma senoide.\n",
    "\n",
    "Mais importante que isso, ouça o som da onda senoidal. Ela é suave, ao contrário dos ruídos que ouvimos anteriormente.\n",
    "\n",
    "Tente entender como geramos a onda senoidal. Dê uma olhada na função `gerar` da célula 34."
   ]
  },
  {
   "cell_type": "markdown",
   "metadata": {},
   "source": [
    "#### Onda Quadrada\n",
    "\n",
    "A **onda quadrada** é um sinal sonoro caracterizado por transições abruptas entre seus níveis de amplitude, alternando entre valores máximos e mínimos de forma instantânea. Essa forma de onda possui um som rico e cheio devido à presença de uma série de harmônicos ímpares (3ª, 5ª, 7ª, etc.).\n",
    "\n",
    "Devido à sua estrutura harmônica particular, as ondas quadradas são utilizadas para simular sons de instrumentos de sopro. Além disso, são amplamente usadas em música eletrônica para criar texturas e ritmos pulsantes."
   ]
  },
  {
   "cell_type": "code",
   "execution_count": 25,
   "metadata": {},
   "outputs": [],
   "source": [
    "class OndaQuadrada(Onda):\n",
    "    def gerar(self):\n",
    "        self.eixo_tempo = np.linspace(0, self.duracao, int(SR * self.duracao))\n",
    "        return self.amplitude * signal.square(2 * np.pi * self.frequencia * self.eixo_tempo)"
   ]
  },
  {
   "cell_type": "code",
   "execution_count": 26,
   "metadata": {},
   "outputs": [
    {
     "data": {
      "application/vnd.jupyter.widget-view+json": {
       "model_id": "20b17073419847d5b090ca6d8447eebc",
       "version_major": 2,
       "version_minor": 0
      },
      "text/plain": [
       "interactive(children=(FloatSlider(value=1.0, description='Amplitude:', max=1.0, step=0.01), FloatSlider(value=…"
      ]
     },
     "metadata": {},
     "output_type": "display_data"
    }
   ],
   "source": [
    "onda_quadrada = OndaQuadrada(amplitude=DEFAULT_AMP, duracao=DEFAULT_DUR, frequencia=DEFAULT_FREQ)\n",
    "onda_quadrada.cria_ambiente_interativo()"
   ]
  },
  {
   "cell_type": "markdown",
   "metadata": {},
   "source": [
    "Ouça o som da onda quadrada. Ela é mais \"agressiva\" do que a onda senoidal, e seu timbre é rico, mas áspero.\n",
    "\n",
    "Tente entender como geramos a onda quadrada. Dê uma olhada na função `gerar`."
   ]
  },
  {
   "cell_type": "markdown",
   "metadata": {},
   "source": [
    "#### O que são parciais e harmônicos?\n",
    "\n",
    "Na síntese sonora e na acústica, **parciais** e **harmônicos** são termos fundamentais para entender a composição de sons complexos.\n",
    "\n",
    "- **Parciais**: São os componentes de frequência individuais que compõem um som. Cada som pode ser decomposto em uma série de parciais, que incluem a frequência fundamental (a mais grave) e outras frequências mais agudas que estão presentes no som. Parciais podem ser harmônicos ou inarmônicos, dependendo de sua relação com a frequência fundamental.\n",
    "\n",
    "- **Harmônicos**: São um tipo específico de parciais que estão em uma relação de múltiplos inteiros com a frequência fundamental. Se a frequência fundamental é $f_0$, então os harmônicos são dados por $n \\times f_0$, onde $n$ é um número inteiro positivo $1, 2, 3, \\dots$. O primeiro harmônico é a própria frequência fundamental ($1 \\times f_0$), o segundo harmônico é o dobro da frequência fundamental ($2 \\times f_0$), o terceiro é o triplo ($3 \\times f_0$), e assim por diante. Essa relação cria uma série harmônica, que é a base para muitos sons musicais.\n",
    "\n",
    "A **série harmônica** é uma sequência de harmônicos que ocorre naturalmente em muitos instrumentos musicais. Quando um instrumento é tocado, ele não produz apenas a frequência fundamental, mas também uma série de harmônicos que contribuem para o timbre característico do som. Por exemplo, quando uma corda de violão vibra, ela gera uma série harmônica que dá ao som sua riqueza e complexidade.\n",
    "\n",
    "Compreender parciais e harmônicos é essencial para a síntese sonora, pois permite a criação e manipulação de timbres complexos a partir de componentes básicos."
   ]
  },
  {
   "cell_type": "markdown",
   "metadata": {},
   "source": [
    "#### Onda dente-de-serra\n",
    "\n",
    "A onda dente-de-serra é um sinal sonoro caracterizado por um aumento linear em amplitude seguido por uma queda abrupta. Essa forma de onda é rica em harmônicos, contendo todos os harmônicos inteiros (tanto pares quanto ímpares).\n",
    "\n",
    "Devido à sua riqueza harmônica, a onda dente-de-serra é amplamente utilizada na síntese subtrativa, onde filtros são aplicados para esculpir e moldar o som, criando uma ampla variedade de timbres. Ela é especialmente popular na criação de sons de instrumentos de sopro, cordas e sintetizadores de baixo, devido à sua capacidade de produzir sons encorpados e dinâmicos."
   ]
  },
  {
   "cell_type": "code",
   "execution_count": 27,
   "metadata": {},
   "outputs": [],
   "source": [
    "class OndaDenteDeSerra(Onda):\n",
    "    def gerar(self):\n",
    "        self.eixo_tempo = np.linspace(0, self.duracao, int(SR * self.duracao))\n",
    "        return self.amplitude * signal.sawtooth(2 * np.pi * self.frequencia * self.eixo_tempo)"
   ]
  },
  {
   "cell_type": "code",
   "execution_count": 28,
   "metadata": {},
   "outputs": [
    {
     "data": {
      "application/vnd.jupyter.widget-view+json": {
       "model_id": "3fbf32fbf7e2468cb3674bcd4effaa9a",
       "version_major": 2,
       "version_minor": 0
      },
      "text/plain": [
       "interactive(children=(FloatSlider(value=1.0, description='Amplitude:', max=1.0, step=0.01), FloatSlider(value=…"
      ]
     },
     "metadata": {},
     "output_type": "display_data"
    }
   ],
   "source": [
    "onda_dente_de_serra = OndaDenteDeSerra(amplitude=DEFAULT_AMP, duracao=DEFAULT_DUR, frequencia=DEFAULT_FREQ)\n",
    "onda_dente_de_serra.cria_ambiente_interativo()"
   ]
  },
  {
   "cell_type": "markdown",
   "metadata": {},
   "source": [
    "Ouça o som da onda dente-de-serra. Ela é semelhante à onda quadrada, rica e áspera, mas diferente.\n",
    "\n",
    "Tente entender como geramos a onda dente-de-serra. Dê uma olhada na função `gerar`."
   ]
  },
  {
   "cell_type": "markdown",
   "metadata": {},
   "source": [
    "#### Onda triangular\n",
    "\n",
    "A **onda triangular** é um sinal sonoro caracterizado por um aumento e uma diminuição linear em amplitude, formando um padrão simétrico de picos e vales. Essa forma de onda possui uma série de harmônicos ímpares, semelhantes à onda quadrada, mas com uma intensidade decrescente mais rápida, o que resulta em um som mais suave e menos áspero.\n",
    "\n",
    "Devido à sua estrutura harmônica, a onda triangular é frequentemente utilizada na síntese sonora para simular sons de sopro e cordas."
   ]
  },
  {
   "cell_type": "code",
   "execution_count": 29,
   "metadata": {},
   "outputs": [],
   "source": [
    "class OndaTriangular(Onda):\n",
    "    def gerar(self):\n",
    "        self.eixo_tempo = np.linspace(0, self.duracao, int(SR * self.duracao))\n",
    "        return self.amplitude * signal.sawtooth(2 * np.pi * self.frequencia * self.eixo_tempo, width=0.5)"
   ]
  },
  {
   "cell_type": "code",
   "execution_count": 30,
   "metadata": {},
   "outputs": [
    {
     "data": {
      "application/vnd.jupyter.widget-view+json": {
       "model_id": "08d57b04f2f54bd69220346fad5e1f55",
       "version_major": 2,
       "version_minor": 0
      },
      "text/plain": [
       "interactive(children=(FloatSlider(value=1.0, description='Amplitude:', max=1.0, step=0.01), FloatSlider(value=…"
      ]
     },
     "metadata": {},
     "output_type": "display_data"
    }
   ],
   "source": [
    "onda_triangular = OndaTriangular(amplitude=1.0, duracao=DEFAULT_DUR, frequencia=DEFAULT_FREQ)\n",
    "onda_triangular.cria_ambiente_interativo()"
   ]
  },
  {
   "cell_type": "markdown",
   "metadata": {},
   "source": [
    "Ouça a onda triangular. Ela é menos áspera que a quadrada e dente-de-serra, mas mais intensa que a senoidal.\n",
    "\n",
    "Tente entender como geramos a onda triangular. Dê uma olhada na função `gerar`."
   ]
  },
  {
   "cell_type": "markdown",
   "metadata": {},
   "source": [
    "## ADSR\n",
    "\n",
    "O som de um instrumento musical não é composto apenas pelo seu caráter harmônico, mas também pela sua **variação dinâmica**, ou seja, a variação da sua amplitude ao longo do tempo. Essa variação pode ser modelada por um envelope dinâmico.\n",
    "\n",
    "Um **envelope dinâmico** é uma função que descreve como a amplitude de um sinal varia ao longo do tempo.\n",
    "\n",
    "Um dos envelopes mais utilizados no mundo da síntese sonora é o **ADSR**, um acrônimo para **Attack**, **Decay**, **Sustain** e **Release**. Aplicado a um sinal sonoro, o ADSR colabora para a percepção um som como parte de um \"instrumento musical\"."
   ]
  },
  {
   "cell_type": "markdown",
   "metadata": {},
   "source": [
    "As etapas do ADSR são as seguintes:\n",
    "\n",
    "1. **Attack**: é o tempo que o sinal leva para atingir o seu valor máximo. O ataque é o início do som.\n",
    "2. **Decay**: é o tempo que o sinal leva para decair e atingir o valor de sustentação.\n",
    "3. **Sustain**: é o valor que o sinal mantém enquanto a tecla do instrumento é pressionada.\n",
    "4. **Release**: é o tempo que o sinal leva para atingir o valor zero após a tecla do instrumento ser solta.\n",
    "\n",
    "Podemos modelar cada uma dessas etapas como funções matemáticas. Para fins didáticos, vamos simplificar essas funções para que sejam funções lineares."
   ]
  },
  {
   "cell_type": "code",
   "execution_count": 40,
   "metadata": {},
   "outputs": [],
   "source": [
    "class AmbienteInterativoADSR():\n",
    "    def __init__(self, adsr):\n",
    "        self.adsr = adsr\n",
    "\n",
    "    def cria_plot(self):\n",
    "        plt.figure(figsize=(18, 4))\n",
    "        plt.plot(self.adsr.sintetizador.eixo_tempo, self.adsr.sintetizador.sinal, 'b-', label='Sinal Original')\n",
    "        plt.plot(self.adsr.sintetizador.eixo_tempo, self.adsr.sinal_adsr, 'r-', label='Sinal ADSR')\n",
    "        plt.grid(True)\n",
    "        plt.xlabel('Tempo(s)')\n",
    "        plt.ylabel('Amplitude')\n",
    "        plt.ylim(-1.1, 1.1)\n",
    "        plt.legend()\n",
    "        plt.show()\n",
    "        \n",
    "    def cria_audio_player(self):\n",
    "        display(Audio(self.sintetizador.sinal, rate=SR, normalize=False))\n",
    "        \n",
    "    def callback(self,\n",
    "                 attack, decay, sustain, release,\n",
    "                 sintetizador,\n",
    "                 amplitude, duracao, frequencia):\n",
    "        # Troca de sintetizador\n",
    "        self.adsr.sintetizador = sintetizador\n",
    "        \n",
    "        # Atualiza os parâmetros do sintetizador\n",
    "        st = self.adsr.sintetizador\n",
    "        st.amplitude = amplitude\n",
    "        st.duracao = duracao\n",
    "        st.frequencia = frequencia\n",
    "\n",
    "        # Atualiza os parâmetros do ADSR\n",
    "        adsr = self.adsr\n",
    "        adsr.attack = attack\n",
    "        adsr.decay = decay\n",
    "        adsr.sustain = sustain\n",
    "        adsr.release = release\n",
    "\n",
    "        # Gera um novo sinal do sintetizador\n",
    "        st.eixo_tempo = np.linspace(0, duracao, int(SR * st.duracao))\n",
    "        st.sinal = st.gerar()\n",
    "        \n",
    "        # Gera um novo envelope\n",
    "        adsr.envelope = adsr.gerar()\n",
    "        \n",
    "        # Gera um novo sinal envelopado\n",
    "        adsr.sinal_adsr = adsr.aplica_envelope()\n",
    "        \n",
    "        # Gera o gráfico e reproduz o sinal\n",
    "        self.cria_plot()\n",
    "        display(Audio(adsr.sinal_adsr, rate=SR, normalize=False))"
   ]
  },
  {
   "cell_type": "code",
   "execution_count": 41,
   "metadata": {},
   "outputs": [],
   "source": [
    "class ADSR():\n",
    "    def __init__(self, a=0.1, d=0.1, s=0.7, r=0.2, sintetizador=onda_senoidal):\n",
    "        self.attack       = a\n",
    "        self.decay        = d\n",
    "        self.sustain      = s\n",
    "        self.release      = r\n",
    "        self.sintetizador = sintetizador\n",
    "        self.envelope     = self.gerar()\n",
    "        self.sinal_adsr   = self.aplica_envelope()\n",
    "    \n",
    "    def gerar(self):\n",
    "        num_amostras = len(self.sintetizador.eixo_tempo)\n",
    "        \n",
    "        # Converte tempos para número de amostras\n",
    "        a_samples = int(self.attack * SR)\n",
    "        d_samples = int(self.decay * SR)\n",
    "        r_samples = int(self.release * SR)\n",
    "        \n",
    "        # Calcula o ponto de sustain\n",
    "        sustain_start = a_samples + d_samples\n",
    "        sustain_end = num_amostras - r_samples\n",
    "        \n",
    "        # Envelope ADSR\n",
    "        envelope = np.ones(num_amostras)\n",
    "        \n",
    "        # Ataque (crescimento linear de 0 a 1)\n",
    "        if a_samples > 0:\n",
    "            envelope[:a_samples] = np.linspace(0, 1, a_samples)\n",
    "        \n",
    "        # Decay (decrescimento linear de 1 a s)\n",
    "        if d_samples > 0:\n",
    "            envelope[a_samples:sustain_start] = np.linspace(1, self.sustain, d_samples)\n",
    "        \n",
    "        # Sustain (valor constante s)\n",
    "        envelope[sustain_start:sustain_end] = self.sustain\n",
    "        \n",
    "        # Release (decrescimento linear de s a 0)\n",
    "        if r_samples > 0:\n",
    "            envelope[sustain_end:] = np.linspace(self.sustain, 0, r_samples)\n",
    "            \n",
    "        return envelope\n",
    "        \n",
    "    def aplica_envelope(self):\n",
    "        return self.sintetizador.sinal * self.envelope\n",
    "    \n",
    "    def cria_ambiente_interativo(self):\n",
    "        ambiente = AmbienteInterativoADSR(self)\n",
    "        interativo = interactive(\n",
    "            ambiente.callback,\n",
    "            attack=widgets.FloatSlider(min=0.0, max=1.0, step=0.01, value=self.attack, description='Attack (s):'),\n",
    "            decay=widgets.FloatSlider(min=0.0, max=1.0, step=0.01, value=self.decay, description='Decay (s):'),\n",
    "            sustain=widgets.FloatSlider(min=0.0, max=1.0, step=0.01, value=self.sustain, description='Sustain (0 a 1):'),\n",
    "            release=widgets.FloatSlider(min=0.0, max=1.0, step=0.01, value=self.release, description='Release (s):'),\n",
    "            sintetizador=widgets.Dropdown(\n",
    "                options={\n",
    "                    'Ruído Branco': ruido_branco,\n",
    "                    'Ruído Vermelho': ruido_vermelho,\n",
    "                    'Senoidal': onda_senoidal,\n",
    "                    'Quadrada': onda_quadrada,\n",
    "                    'Dente de Serra': onda_dente_de_serra,\n",
    "                    'Triangular': onda_triangular\n",
    "                },\n",
    "                value=self.sintetizador,\n",
    "                description='Sintetizador:'\n",
    "            ),\n",
    "            amplitude=widgets.FloatSlider(min=0, max=1, step=0.01, value=self.sintetizador.amplitude, description='Amplitude:'),\n",
    "            duracao=widgets.FloatSlider(min=0.1, max=5.0, step=0.01, value=self.sintetizador.duracao, description='Duração (s):'),\n",
    "            frequencia=widgets.IntSlider(min=1, max=1000, step=1, value=DEFAULT_FREQ, description='Frequência (Hz):')\n",
    "        )\n",
    "        display(interativo)"
   ]
  },
  {
   "cell_type": "code",
   "execution_count": 42,
   "metadata": {},
   "outputs": [
    {
     "data": {
      "application/vnd.jupyter.widget-view+json": {
       "model_id": "12a034c7d3834535a40a11190bbfbb2e",
       "version_major": 2,
       "version_minor": 0
      },
      "text/plain": [
       "interactive(children=(FloatSlider(value=0.1, description='Attack (s):', max=1.0, step=0.01), FloatSlider(value…"
      ]
     },
     "metadata": {},
     "output_type": "display_data"
    }
   ],
   "source": [
    "adsr = ADSR()\n",
    "adsr.cria_ambiente_interativo()"
   ]
  },
  {
   "cell_type": "markdown",
   "metadata": {},
   "source": [
    "Experimente mexer com todos os parâmetros do ADSR e ouvir o resultado. Você conseguiria simular:\n",
    "\n",
    "- Um som semelhante a uma tecla de piano sendo pressionada e segurada?\n",
    "- Um som de um sino de elevador?\n",
    "- Um som de um sabre de luz?\n",
    "- Um som de chimbal de bateria acústica?"
   ]
  },
  {
   "cell_type": "markdown",
   "metadata": {},
   "source": [
    "Agora, vamos ver uma implementação profissional de um ADSR no Ableton Live.\n",
    "\n",
    "> *Hora de abrir o Ableton Live...*"
   ]
  },
  {
   "cell_type": "markdown",
   "metadata": {},
   "source": [
    "## Modulação AM\n",
    "\n",
    "A **Modulação AM** (Amplitude Modulation) é uma técnica de modulação de sinal amplamente utilizada tanto em comunicações quanto em síntese sonora. Na modulação AM, a amplitude de um sinal portador é variada de acordo com a amplitude de um sinal modulador, criando um som complexo e dinâmico.\n",
    "\n",
    "- **Sinal Portador**: Este é o sinal de alta frequência que será modulado. Na síntese sonora, o sinal portador é geralmente uma onda senoidal ou outra forma de onda periódica.\n",
    "\n",
    "- **Sinal Modulador**: Este é o sinal de baixa frequência que modula a amplitude do sinal portador. O sinal modulador pode ser uma onda senoidal, uma forma de onda complexa ou até mesmo um sinal de áudio.\n",
    "\n",
    "- **Processo de Modulação**: Na modulação AM, a amplitude do sinal portador é multiplicada amostra-por-amostra pela amplitude do sinal modulador. Isso resulta em um sinal modulado cuja amplitude final é uma mescla do portador e modulador.\n",
    "\n",
    "Dentre as aplicações, ela pode ser usada para criar o efeito sonoro de tremolo, uma variação periódica na amplitude de um som."
   ]
  },
  {
   "cell_type": "code",
   "execution_count": 46,
   "metadata": {},
   "outputs": [],
   "source": [
    "class AmbienteInterativoModulacaoAM:\n",
    "    def __init__(self, modulacao_am):\n",
    "        self.modulacao_am = modulacao_am\n",
    "\n",
    "    def cria_plot(self):\n",
    "        eixo_tempo = self.modulacao_am.sintetizador.eixo_tempo\n",
    "        sinal = self.modulacao_am.sintetizador.sinal\n",
    "        moduladora = self.modulacao_am.moduladora\n",
    "        sinal_modulado = self.modulacao_am.sinal_modulado\n",
    "\n",
    "        plt.figure(figsize=(18, 5))\n",
    "        \n",
    "        # Plot da portadora\n",
    "        plt.subplot(311)\n",
    "        plt.plot(eixo_tempo, sinal, 'b-')\n",
    "        plt.grid(True)\n",
    "        plt.xlabel('Tempo (s)')\n",
    "        plt.ylabel('Amplitude')\n",
    "        plt.title('Sinal Portadora')\n",
    "        plt.ylim(-1.1, 1.1)\n",
    "        \n",
    "        # Plot da moduladora\n",
    "        plt.subplot(312)\n",
    "        plt.plot(eixo_tempo, moduladora, 'r-')\n",
    "        plt.grid(True)\n",
    "        plt.xlabel('Tempo (s)')\n",
    "        plt.ylabel('Amplitude')\n",
    "        plt.title('Sinal Moduladora')\n",
    "        plt.ylim(-1.1, 1.1)\n",
    "        \n",
    "        # Plot do sinal modulado\n",
    "        plt.subplot(313)\n",
    "        plt.plot(eixo_tempo, sinal_modulado, 'g-')\n",
    "        plt.grid(True)\n",
    "        plt.xlabel('Tempo (s)')\n",
    "        plt.ylabel('Amplitude')\n",
    "        plt.title('Sinal Modulado (AM)')\n",
    "        plt.ylim(-1.1, 1.1)\n",
    "        \n",
    "        plt.tight_layout()\n",
    "        plt.show()\n",
    "        \n",
    "    def cria_audio_player(self):\n",
    "        display(Audio(self.modulacao_am.sinal_modulado, rate=SR, normalize=False))\n",
    "        \n",
    "    def callback(self, freq_moduladora, amp_moduladora, sintetizador, freq_portadora, amp_portadora, duracao):\n",
    "        # Troca de sintetizador\n",
    "        self.modulacao_am.sintetizador = sintetizador\n",
    "        \n",
    "        # Atualiza os parâmetros do sintetizador\n",
    "        st = self.modulacao_am.sintetizador\n",
    "        st.amplitude = amp_portadora\n",
    "        st.frequencia = freq_portadora\n",
    "        st.duracao = duracao\n",
    "        \n",
    "        # Atualiza os parâmetros da moduladora\n",
    "        self.modulacao_am.freq_moduladora = freq_moduladora\n",
    "        self.modulacao_am.amp_moduladora = amp_moduladora\n",
    "        \n",
    "        # Gera um novo sinal do sintetizador\n",
    "        st.eixo_tempo = np.linspace(0, duracao, int(SR * st.duracao))\n",
    "        st.sinal = st.gerar()\n",
    "        \n",
    "        # Gera um novo sinal modulador\n",
    "        self.modulacao_am.moduladora = self.modulacao_am.gerar()\n",
    "        \n",
    "        # Gera um novo sinal modulado\n",
    "        self.modulacao_am.sinal_modulado = self.modulacao_am.aplica_modulacao()\n",
    "        \n",
    "        # Mostra o gráfico e reproduz o áudio\n",
    "        self.cria_plot()\n",
    "        self.cria_audio_player()"
   ]
  },
  {
   "cell_type": "code",
   "execution_count": 47,
   "metadata": {},
   "outputs": [],
   "source": [
    "class ModulacaoAM:\n",
    "    def __init__(self, sintetizador=onda_senoidal, freq_portadora=DEFAULT_FREQ, amp_portadora=1.0, \n",
    "                 freq_moduladora=5, amp_moduladora=0.5, duracao=DEFAULT_DUR):\n",
    "        self.freq_moduladora         = freq_moduladora\n",
    "        self.amp_moduladora          = amp_moduladora\n",
    "        self.sintetizador            = sintetizador\n",
    "        self.sintetizador.frequencia = freq_portadora\n",
    "        self.sintetizador.amplitude  = amp_portadora\n",
    "        self.duracao                 = duracao\n",
    "        self.moduladora              = self.gerar()\n",
    "        self.sinal_modulado          = self.aplica_modulacao()\n",
    "    \n",
    "    def gerar(self):\n",
    "        return self.amp_moduladora * np.sin(2 * np.pi * self.freq_moduladora * self.sintetizador.eixo_tempo)\n",
    "    \n",
    "    def aplica_modulacao(self):\n",
    "        return self.sintetizador.sinal * self.moduladora\n",
    "    \n",
    "    def cria_ambiente_interativo(self):\n",
    "        ambiente = AmbienteInterativoModulacaoAM(self)\n",
    "        interativo = interactive(\n",
    "            ambiente.callback,\n",
    "            freq_moduladora=widgets.IntSlider(min=1, max=100, step=1, value=self.freq_moduladora, description='Freq. Moduladora:'),\n",
    "            amp_moduladora=widgets.FloatSlider(min=0.1, max=1.0, step=0.1, value=self.amp_moduladora, description='Amp. Moduladora:'),\n",
    "            sintetizador=widgets.Dropdown(\n",
    "                options={\n",
    "                    'Ruído Branco': ruido_branco,\n",
    "                    'Ruído Vermelho': ruido_vermelho,\n",
    "                    'Senoidal': onda_senoidal,\n",
    "                    'Quadrada': onda_quadrada,\n",
    "                    'Dente de Serra': onda_dente_de_serra,\n",
    "                    'Triangular': onda_triangular\n",
    "                },\n",
    "                value=self.sintetizador,\n",
    "                description='Portador:'\n",
    "            ),\n",
    "            freq_portadora=widgets.IntSlider(min=50, max=1000, step=10, value=self.sintetizador.frequencia, description='Freq. Portadora:'),\n",
    "            amp_portadora=widgets.FloatSlider(min=0.1, max=1.0, step=0.1, value=self.sintetizador.amplitude, description='Amp. Portadora:'),\n",
    "            duracao=widgets.FloatSlider(min=0.1, max=5.0, step=0.1, value=self.duracao, description='Duração (s):')\n",
    "        )\n",
    "        display(interativo)"
   ]
  },
  {
   "cell_type": "code",
   "execution_count": 48,
   "metadata": {},
   "outputs": [
    {
     "data": {
      "application/vnd.jupyter.widget-view+json": {
       "model_id": "fb7c3a5186e840fead5b5d44513213ee",
       "version_major": 2,
       "version_minor": 0
      },
      "text/plain": [
       "interactive(children=(IntSlider(value=5, description='Freq. Moduladora:', min=1), FloatSlider(value=0.5, descr…"
      ]
     },
     "metadata": {},
     "output_type": "display_data"
    }
   ],
   "source": [
    "am = ModulacaoAM()\n",
    "am.cria_ambiente_interativo()"
   ]
  },
  {
   "cell_type": "markdown",
   "metadata": {},
   "source": [
    "Na implementação simplificada acima, é possível escolher o sinal modulador dentre ruídos e sinais periódicos. Modelamos o sinal modulador como uma senoidal.\n",
    "\n",
    "Explore os parâmetros! Tente recriar sons que você já conheça. Toques de celular, sirenes, etc."
   ]
  },
  {
   "cell_type": "markdown",
   "metadata": {},
   "source": [
    "## Conclusão\n",
    "\n",
    "Chegamos ao final do nosso workshop de síntese sonora! Ao longo desse percurso, exploramos vários conceitos que são a base para a criação de sonoridades musicais digitais. Vamos dar uma rápida olhada no que cobrimos:\n",
    "\n",
    "- **Som e Sinal**\n",
    "- **Amostragem e Quantização**\n",
    "- **Percepção Sonora**\n",
    "- **Espectro de Frequência**\n",
    "- **Sinais Elementares**\n",
    "- **Parciais e Harmônicos**\n",
    "- **ADSR**\n",
    "- **Modulação AM**\n",
    "\n",
    "Espero que você tenha curtido essa jornada pelo mundo da síntese sonora! Nos vemos no próximo workshop!"
   ]
  }
 ],
 "metadata": {
  "kernelspec": {
   "display_name": "venv",
   "language": "python",
   "name": "python3"
  },
  "language_info": {
   "codemirror_mode": {
    "name": "ipython",
    "version": 3
   },
   "file_extension": ".py",
   "mimetype": "text/x-python",
   "name": "python",
   "nbconvert_exporter": "python",
   "pygments_lexer": "ipython3",
   "version": "3.10.12"
  }
 },
 "nbformat": 4,
 "nbformat_minor": 2
}
