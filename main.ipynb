{
 "cells": [
  {
   "cell_type": "markdown",
   "metadata": {},
   "source": [
    "# Do Zero ao Som: Criando Áudio Digital com Python"
   ]
  },
  {
   "cell_type": "code",
   "execution_count": 2,
   "metadata": {},
   "outputs": [],
   "source": [
    "# Antes de tudo, instale as dependências\n",
    "\n",
    "import numpy as np\n",
    "import matplotlib.pyplot as plt\n",
    "from IPython.display import Audio, display\n",
    "import ipywidgets as widgets\n",
    "from ipywidgets import interactive\n",
    "from scipy.io import wavfile\n",
    "from scipy import signal\n",
    "from abc import ABC, abstractmethod"
   ]
  },
  {
   "cell_type": "markdown",
   "metadata": {},
   "source": [
    "## Introdução\n",
    "\n",
    "> *Como o computador processa uma música digitalmente?*\n",
    ">\n",
    "> *Como podemos entender uma representação digital de um sinal de áudio?*\n",
    ">\n",
    "> *Como sintetizadores digitais são desenvolvidos?*\n",
    "\n",
    "Neste workshop, vamos entender um pouco sobre o que é um sinal de áudio digital e como podemos criar sons a partir do zero utilizando Python. Tudo isso de maneira interativa e prática.\n",
    "\n",
    "Divirta-se!"
   ]
  },
  {
   "cell_type": "markdown",
   "metadata": {},
   "source": [
    "## Som e Sinal\n",
    "\n",
    "Vamos ganhar uma intuição intuição inicial sobre o que é som e o que é sinal sonoro. Essas definições são importantes para entendermos o que estamos fazendo quando mexemos com áudio digital.\n",
    "\n",
    "### O que é som?\n",
    "\n",
    "**Som** é um fenômeno físico que ocorre quando moléculas de ar (ou outro meio elástico) se comprimem e rarefazem rapidamente.\n",
    "Alto-falantes, por exemplo, movem-se para frente e para trás rapidamente, comprimindo e rarefazendo o ar, criando som.\n",
    "Por sua vez, nossos ouvidos são capazes de captar essas variações de pressão do ar e transformá-las em sinais elétricos que são enviados ao nosso cérebro.\n",
    "\n",
    "Podemos modelar esse movimento do ar com a ajuda de computadores e da matemática.\n",
    "\n",
    "### O que é sinal sonoro?\n",
    "\n",
    "Um **sinal sonoro** pode ser entendido como uma função matemática que descreve a **variação** de pressão do ar ou tensão elétrica ao longo do tempo.\n",
    "Podemos visualizar um sinal sonoro com um gráfico onde o eixo horizontal representa o tempo e o eixo vertical representa a amplitude do som em cada instante de tempo.\n",
    "\n",
    "Caso você nunca tenha visto a onda de uma música antes, observe o sinal dos primeiros 60 segundos da música \"*No Ordinary Love*\" da cantora Sade no software Ableton Live."
   ]
  },
  {
   "cell_type": "markdown",
   "metadata": {},
   "source": [
    "> *This is no ordinary love...*"
   ]
  },
  {
   "cell_type": "markdown",
   "metadata": {},
   "source": [
    "### Sinais analógicos e digitais\n",
    "\n",
    "Consegue perceber que temos vários pontos no gráfico da onda sonora? Cada um desses pontos representa a intensidade do som em um instante de tempo.\n",
    "Por isso, podemos dizer que esse sinal sonoro é **discreto** ou **digital**.\n",
    "\n",
    "Portanto, podemos imaginar um arquivo de áudio como uma grande lista de números."
   ]
  },
  {
   "cell_type": "code",
   "execution_count": 3,
   "metadata": {},
   "outputs": [
    {
     "name": "stdout",
     "output_type": "stream",
     "text": [
      "int16\n",
      "[[-11313 -14304]\n",
      " [-10939 -14153]\n",
      " [-11831 -14842]\n",
      " [-12245 -15099]\n",
      " [-11796 -14719]\n",
      " [-11042 -13983]\n",
      " [-11059 -13645]\n",
      " [-10910 -13119]\n",
      " [ -9690 -11869]\n",
      " [ -9067 -11190]]\n"
     ]
    }
   ],
   "source": [
    "sample_rate, audio_file = wavfile.read('Sade-No_Ordinary_Love-60s.wav')\n",
    "\n",
    "# Mostra o NumPy Dtype\n",
    "print(audio_file.dtype) # int16, de [-32768, +32767]\n",
    "\n",
    "# Imprime uma parte do arquivo de áudio\n",
    "print(audio_file[480000:480000+10])"
   ]
  },
  {
   "cell_type": "markdown",
   "metadata": {},
   "source": [
    "> Dizemos que um sinal sonoro é **analógico** quando a função está definida para todos os instantes no tempo. Ou seja, o sinal sonoro é **contínuo**. Sinais analógicos estão presentes no mundo real, como o som que ouvimos, e também em equipamentos de áudio, como microfones e alto-falantes.\n",
    ">\n",
    "> Dizemos que um sinal sonoro é **digital** quando a função está definida apenas para uma lista finita de instantes no tempo. Ou seja, o sinal sonoro é **discreto**. Sinais digitais são utilizados em computadores e equipamentos digitais."
   ]
  },
  {
   "cell_type": "markdown",
   "metadata": {},
   "source": [
    "## Amostragem e Quantização\n",
    "\n",
    "Agora sabemos que um sinal sonoro digital é discretizado no eixo do tempo e também no eixo da amplitude. Mas como isso é feito? Vamos entender um pouco sobre **amostragem** e **quantização**.\n",
    "\n",
    "> **Amostragem** é o processo de discretização do sinal no eixo do **tempo**.\n",
    "> Definimos a **taxa de amostragem** como o número de amostras por segundo. A unidade de medida é **Hertz** (Hz). É comum vermos taxas de amostragem de 44.1 kHz, 48 kHz, 96 kHz, etc.\n",
    "\n",
    "> **Quantização** é o processo de discretização do sinal no eixo da **amplitude**.\n",
    "> Definimos a **resolução** como o número de níveis de amplitude possíveis. A unidade de medida é **bits**. É comum vermos resoluções de potência de 2, como 8 bits, 16 bits, 24 bits, etc.\n",
    "\n",
    "Abaixo está um ambiente interativo para você experimentar como uma onda senoidal muda com diferentes frequências, taxas de amostragem e resoluções."
   ]
  },
  {
   "cell_type": "code",
   "execution_count": 4,
   "metadata": {},
   "outputs": [
    {
     "data": {
      "application/vnd.jupyter.widget-view+json": {
       "model_id": "e883129c11324740b32715425c1fd36f",
       "version_major": 2,
       "version_minor": 0
      },
      "text/plain": [
       "interactive(children=(IntSlider(value=1000, description='taxa_amostragem', max=22050, min=1, step=10), IntSlid…"
      ]
     },
     "metadata": {},
     "output_type": "display_data"
    }
   ],
   "source": [
    "def visualiza_amostragem_e_quantizacao(taxa_amostragem=1000, bits=16, frequencia=1, amplitude=1.0, mostrar_continuo=False):\n",
    "    # Parâmetros para visualização\n",
    "    duracao = 1.0\n",
    "    \n",
    "    # Sinal contínuo (com mais pontos para parecer contínuo)\n",
    "    t_continuo = np.linspace(0, duracao, 10000)\n",
    "    sinal_continuo = np.sin(2 * np.pi * frequencia * t_continuo)\n",
    "    \n",
    "    # Amostragem\n",
    "    t_amostrado = np.linspace(0, duracao, int(taxa_amostragem * duracao))\n",
    "    onda = np.sin(2 * np.pi * frequencia * t_amostrado)\n",
    "    \n",
    "    # Quantização\n",
    "    resolucao = 2**bits\n",
    "    onda_quantizada = -1 + 2**(-bits) + 2*np.floor((resolucao-1e-8) * (0.5 + 0.5*onda)) / (resolucao)\n",
    "    onda_quantizada *= amplitude\n",
    "    \n",
    "    # Cria o gráfico\n",
    "    plt.figure(figsize=(18, 6))\n",
    "    \n",
    "    # Mostra o sinal contínuo se o toggle estiver ativado\n",
    "    if mostrar_continuo:\n",
    "        plt.plot(t_continuo, sinal_continuo, 'b-', label='Sinal Contínuo', alpha=0.5)\n",
    "    \n",
    "    plt.plot(t_amostrado, onda_quantizada, 'r.', label='Sinal Digital')\n",
    "    \n",
    "    plt.grid(True)\n",
    "    plt.xlabel('Tempo (s)')\n",
    "    plt.ylabel('Amplitude')\n",
    "    plt.title(f'Senoide ({frequencia} Hz) - {taxa_amostragem} Hz de amostragem, {bits} bits de resolução')\n",
    "    plt.legend()\n",
    "    plt.show()\n",
    "    \n",
    "    # Reproduz o áudio\n",
    "    display(Audio(onda_quantizada, rate=taxa_amostragem, normalize=False))\n",
    "\n",
    "# Cria a interface interativa\n",
    "interactive_plot = interactive(\n",
    "    visualiza_amostragem_e_quantizacao,\n",
    "    taxa_amostragem=widgets.IntSlider(min=1, max=22050, step=10, value=1000),\n",
    "    bits=widgets.IntSlider(min=1, max=24, step=1, value=16),\n",
    "    frequencia=widgets.IntSlider(min=1, max=440, step=10, value=1),\n",
    "    amplitude=widgets.FloatSlider(min=0.1, max=1.0, step=0.1, value=1.0),\n",
    "    mostrar_continuo=widgets.Checkbox(value=False, description='Mostrar sinal contínuo')\n",
    ")\n",
    "display(interactive_plot)"
   ]
  },
  {
   "cell_type": "markdown",
   "metadata": {},
   "source": [
    "### Frequência de Nyquist"
   ]
  },
  {
   "cell_type": "markdown",
   "metadata": {},
   "source": [
    "## Sinais elementares\n",
    "\n",
    "Vamos estudar alguns sinais elementares que são importantes para entendermos o som: **ruídos** e **sinais periódicos**."
   ]
  },
  {
   "cell_type": "code",
   "execution_count": 5,
   "metadata": {},
   "outputs": [],
   "source": [
    "# Vamos definir uma variável global para a taxa de amostragem\n",
    "taxa_amostragem = 44100"
   ]
  },
  {
   "cell_type": "code",
   "execution_count": 6,
   "metadata": {},
   "outputs": [],
   "source": [
    "# Vamos definir algumas classes que nos ajudarão \n",
    "\n",
    "class AmbienteInterativoSintetizador(ABC):\n",
    "    def __init__(self, sintetizador):\n",
    "        self.sintetizador = sintetizador\n",
    "\n",
    "    def cria_plot(self):\n",
    "        plt.figure(figsize=(24, 6))\n",
    "        plt.plot(self.sintetizador.eixo_tempo, self.sintetizador.sinal, 'b-')\n",
    "        plt.grid(True)\n",
    "        plt.xlabel('Tempo (s)')\n",
    "        plt.ylabel('Amplitude')\n",
    "        plt.ylim(-1.1, 1.1)\n",
    "        plt.show()\n",
    "        \n",
    "    def cria_audio_player(self):\n",
    "        display(Audio(self.sintetizador.sinal, rate=taxa_amostragem, normalize=False))\n",
    "    \n",
    "    @abstractmethod\n",
    "    def callback():\n",
    "        pass"
   ]
  },
  {
   "cell_type": "code",
   "execution_count": 7,
   "metadata": {},
   "outputs": [],
   "source": [
    "class Sintetizador(ABC):\n",
    "    def __init__(self, amplitude=1.0, duracao=1.0, frequencia=1):\n",
    "        self.amplitude  = amplitude\n",
    "        self.duracao    = duracao\n",
    "        self.frequencia = frequencia\n",
    "        self.sinal      = self.gerar()\n",
    "        self.eixo_tempo = None\n",
    "\n",
    "    @abstractmethod\n",
    "    def gerar(self):\n",
    "        pass\n",
    "    \n",
    "    @abstractmethod\n",
    "    def cria_ambiente_interativo(self):\n",
    "        pass"
   ]
  },
  {
   "cell_type": "markdown",
   "metadata": {},
   "source": [
    "### Ruídos\n",
    "\n",
    "Em computação musical, **ruído** não possui uma definição categórica, mas é comum entendermos ele como um sinal sonoro que:\n",
    "\n",
    "* Não possui uma altura musical definida\n",
    "* Não costuma ser periódico\n",
    "\n",
    "Uma caracterização comum de ruídos é por sua **densidade espectral**, ou seja, a distribuição de energia do sinal em função da frequência. Esses ruídos possuem nomes de cores, como **branco**, **vermelho**, **rosa**, etc.\n",
    "\n",
    "Vamos sintetizar e ouvir os ruídos branco e vermelho."
   ]
  },
  {
   "cell_type": "code",
   "execution_count": 8,
   "metadata": {},
   "outputs": [],
   "source": [
    "class AmbienteInterativoRuido(AmbienteInterativoSintetizador):\n",
    "    def callback(self, amplitude, duracao):\n",
    "        # Atualiza os parâmetros do sintetizador\n",
    "        self.sintetizador.amplitude = amplitude\n",
    "        self.sintetizador.duracao = duracao\n",
    "\n",
    "        # Gera um novo sinal\n",
    "        self.sintetizador.sinal = self.sintetizador.gerar()\n",
    "\n",
    "        self.cria_plot()\n",
    "        self.cria_audio_player()"
   ]
  },
  {
   "cell_type": "code",
   "execution_count": 9,
   "metadata": {},
   "outputs": [],
   "source": [
    "class Ruido(Sintetizador):\n",
    "    def cria_ambiente_interativo(self):\n",
    "        ambiente = AmbienteInterativoRuido(self)\n",
    "        interativo = interactive(\n",
    "            ambiente.callback,\n",
    "            amplitude=widgets.FloatSlider(min=0, max=1, step=0.01, value=self.amplitude),\n",
    "            duracao=widgets.FloatSlider(min=0.1, max=1, step=0.1, value=self.duracao),\n",
    "        )\n",
    "        display(interativo)"
   ]
  },
  {
   "cell_type": "markdown",
   "metadata": {},
   "source": [
    "**ATENÇÃO: ABAIXE (MUITO) O VOLUME DO SEU COMPUTADOR ANTES DE OUVIR OS ÁUDIOS.**"
   ]
  },
  {
   "cell_type": "markdown",
   "metadata": {},
   "source": [
    "#### Ruído branco\n",
    "\n",
    "O **ruído branco** é um sinal sonoro que possui energia uniformemente distribuída em todas as frequências audíveis.\n",
    "\n",
    "Talvez você já tenha ouvido ruído branco em um rádio fora de sintonia ou em uma televisão sem sinal. Cuidado, pois esse som pode te incomodar muito!\n",
    "\n",
    "Vamos sintetizar um ruído branco e ouvi-lo:"
   ]
  },
  {
   "cell_type": "code",
   "execution_count": 10,
   "metadata": {},
   "outputs": [],
   "source": [
    "class RuidoBranco(Ruido):\n",
    "    def gerar(self):\n",
    "        # Gera o eixo do tempo\n",
    "        self.eixo_tempo = np.linspace(0, self.duracao, int(taxa_amostragem * self.duracao))\n",
    "        # Gera o sinal de ruído branco\n",
    "        return np.random.uniform(-self.amplitude, self.amplitude, len(self.eixo_tempo))"
   ]
  },
  {
   "cell_type": "code",
   "execution_count": 26,
   "metadata": {},
   "outputs": [
    {
     "data": {
      "application/vnd.jupyter.widget-view+json": {
       "model_id": "73e02bc11ef04740b04e3b8c601097a5",
       "version_major": 2,
       "version_minor": 0
      },
      "text/plain": [
       "interactive(children=(FloatSlider(value=0.1, description='amplitude', max=1.0, step=0.01), FloatSlider(value=1…"
      ]
     },
     "metadata": {},
     "output_type": "display_data"
    }
   ],
   "source": [
    "ruido_branco = RuidoBranco(amplitude=0.1, duracao=1.0)\n",
    "ruido_branco.cria_ambiente_interativo()"
   ]
  },
  {
   "cell_type": "markdown",
   "metadata": {},
   "source": [
    "#### Ruído vermelho\n",
    "\n",
    "O **ruído vermelho** é um ruído que possui energia inversamente proporcional à frequência. Isso significa que ele possui mais energia em frequências baixas e menos energia em frequências altas.\n",
    "\n",
    "O ruído vermelho é um ruído mais agradável de se ouvir do que o ruído branco.\n",
    "\n",
    "Vamos sintetizar um ruído vermelho e ouvi-lo:"
   ]
  },
  {
   "cell_type": "code",
   "execution_count": 27,
   "metadata": {},
   "outputs": [],
   "source": [
    "class RuidoVermelho(Ruido):\n",
    "    def gerar(self):\n",
    "        self.eixo_tempo = np.linspace(0, self.duracao, int(taxa_amostragem * self.duracao))\n",
    "\n",
    "        amostras = int(taxa_amostragem * self.duracao)\n",
    "\n",
    "        branco = np.random.uniform(-1, 1, amostras) # O ruído vermelho é derivado do ruído branco\n",
    "\n",
    "        vermelho = np.zeros(1 * amostras)\n",
    "        vermelho[0] = branco[0] # Inicializa a primeira amostra\n",
    "\n",
    "        for i in range(1, amostras):\n",
    "            vermelho[i] = branco[i] + vermelho[i - 1]\n",
    "\n",
    "        vermelho = vermelho / np.max(np.abs(vermelho))\n",
    "        \n",
    "        vermelho = self.amplitude * vermelho # ajuste de amplitude\n",
    "\n",
    "        return vermelho"
   ]
  },
  {
   "cell_type": "code",
   "execution_count": 29,
   "metadata": {},
   "outputs": [
    {
     "data": {
      "application/vnd.jupyter.widget-view+json": {
       "model_id": "960ef4fc3b0d4d018ed6796adbb1a67c",
       "version_major": 2,
       "version_minor": 0
      },
      "text/plain": [
       "interactive(children=(FloatSlider(value=1.0, description='amplitude', max=1.0, step=0.01), FloatSlider(value=1…"
      ]
     },
     "metadata": {},
     "output_type": "display_data"
    }
   ],
   "source": [
    "ruido_vermelho = RuidoVermelho(amplitude=1.0, duracao=1.0)\n",
    "ruido_vermelho.cria_ambiente_interativo() "
   ]
  },
  {
   "cell_type": "markdown",
   "metadata": {},
   "source": [
    "#### *Qual a utilidade de ruídos na síntese sonora?*\n",
    "\n",
    "Podemos concordar que esses ruídos por si só não têm um aspecto musical (ou têm?). Entretanto, a partir de um ruído, podemos modificá-lo (com filtros, envelopes, efeitos, etc.) para criar sons mais complexos e também mais musicais. Vamos explorar isso mais adiante quando falarmos sobre envelopes ADSR."
   ]
  },
  {
   "cell_type": "markdown",
   "metadata": {},
   "source": [
    "### Sinais periódicos\n",
    "\n",
    "Um sinal periódico possui como característica principal a repetição de um padrão de onda ao longo do tempo. Esse padrão pode ser chamado de **ciclo** ou **período**.\n",
    "\n",
    "A **frequência** de um sinal periódico é o número de ciclos que se repetem em um segundo. Medimos a frequência em **Hertz** (Hz).\n",
    "\n",
    "A percepção de frequência é o que chamamos de **altura** do som, ou seja, se o som é grave ou agudo.\n",
    "\n",
    "Os sinais periódicos elementares são as **ondas senoidais**, **ondas quadradas**, **ondas dente-de-serra** e **ondas triangulares**, cada um com um formato de ciclo e características tonais particular.\n",
    "\n",
    "Vamos sintetizar e ouvir esses sinais periódicos."
   ]
  },
  {
   "cell_type": "code",
   "execution_count": 30,
   "metadata": {},
   "outputs": [],
   "source": [
    "class AmbienteInterativoOnda(AmbienteInterativoSintetizador):\n",
    "    def callback(self, amplitude, duracao, frequencia):\n",
    "        # Atualiza os parâmetros do sintetizador\n",
    "        self.sintetizador.amplitude = amplitude\n",
    "        self.sintetizador.duracao = duracao\n",
    "        self.sintetizador.frequencia = frequencia\n",
    "        \n",
    "        # Gera um novo sinal\n",
    "        self.sintetizador.sinal = self.sintetizador.gerar() \n",
    "        \n",
    "        # Gera os displays\n",
    "        self.cria_plot()\n",
    "        self.cria_audio_player()\n",
    "        "
   ]
  },
  {
   "cell_type": "code",
   "execution_count": 31,
   "metadata": {},
   "outputs": [],
   "source": [
    "class Onda(Sintetizador):\n",
    "    def cria_ambiente_interativo(self):\n",
    "        ambiente = AmbienteInterativoOnda(self)\n",
    "        interativo = interactive(\n",
    "            ambiente.callback,\n",
    "            amplitude=widgets.FloatSlider(min=0, max=1, step=0.01, value=self.amplitude),\n",
    "            duracao=widgets.FloatSlider(min=0.1, max=1, step=0.1, value=self.duracao),\n",
    "            frequencia=widgets.IntSlider(min=1, max=440, step=1, value=self.frequencia)\n",
    "        )\n",
    "        display(interativo)"
   ]
  },
  {
   "cell_type": "markdown",
   "metadata": {},
   "source": [
    "#### Onda senoidal\n",
    "\n",
    "A **onda senoidal** é um sinal sonoro que possui um único parcial, e por essa causa, é comumente denotada como um \"tom puro\". Ela é fundamental para a síntese sonora, pois é a base para a construção de muitas outras técnicas de síntese mais sofisticadas."
   ]
  },
  {
   "cell_type": "code",
   "execution_count": 32,
   "metadata": {},
   "outputs": [],
   "source": [
    "class OndaSenoidal(Onda):\n",
    "    def gerar(self):\n",
    "        # Gera o eixo do tempo\n",
    "        self.eixo_tempo = np.linspace(0, self.duracao, int(taxa_amostragem * self.duracao))\n",
    "        # Gera o sinal com a função seno\n",
    "        return self.amplitude * np.sin(2 * np.pi * self.frequencia * self.eixo_tempo)"
   ]
  },
  {
   "cell_type": "code",
   "execution_count": 33,
   "metadata": {},
   "outputs": [
    {
     "data": {
      "application/vnd.jupyter.widget-view+json": {
       "model_id": "5686b28b98184b17aaf306fc9da14eaf",
       "version_major": 2,
       "version_minor": 0
      },
      "text/plain": [
       "interactive(children=(FloatSlider(value=1.0, description='amplitude', max=1.0, step=0.01), FloatSlider(value=1…"
      ]
     },
     "metadata": {},
     "output_type": "display_data"
    }
   ],
   "source": [
    "onda_senoidal = OndaSenoidal(amplitude=1.0, duracao=1.0, frequencia=1)\n",
    "onda_senoidal.cria_ambiente_interativo()"
   ]
  },
  {
   "cell_type": "markdown",
   "metadata": {},
   "source": [
    "Observe o formato da onda senoidal. Não surpreendentemente, ela possui a forma de uma senoide.\n",
    "\n",
    "Mais importante que isso, ouça o som da onda senoidal. Ela é suave, ao contrário dos ruídos que ouvimos anteriormente.\n",
    "\n",
    "Tente entender como geramos a onda senoidal. Dê uma olhada na função `gerar` da célula 30."
   ]
  },
  {
   "cell_type": "markdown",
   "metadata": {},
   "source": [
    "#### Onda quadrada\n",
    "\n",
    "A **onda quadrada** é um sinal sonoro "
   ]
  },
  {
   "cell_type": "code",
   "execution_count": 34,
   "metadata": {},
   "outputs": [],
   "source": [
    "class OndaQuadrada(Onda):\n",
    "    def gerar(self):\n",
    "        self.eixo_tempo = np.linspace(0, self.duracao, int(taxa_amostragem * self.duracao))\n",
    "        return self.amplitude * signal.square(2 * np.pi * self.frequencia * self.eixo_tempo)"
   ]
  },
  {
   "cell_type": "code",
   "execution_count": 35,
   "metadata": {},
   "outputs": [
    {
     "data": {
      "application/vnd.jupyter.widget-view+json": {
       "model_id": "16caa984afbb476e8fcee1441554b83c",
       "version_major": 2,
       "version_minor": 0
      },
      "text/plain": [
       "interactive(children=(FloatSlider(value=0.1, description='amplitude', max=1.0, step=0.01), FloatSlider(value=1…"
      ]
     },
     "metadata": {},
     "output_type": "display_data"
    }
   ],
   "source": [
    "onda_quadrada = OndaQuadrada(amplitude=0.1, duracao=1.0, frequencia=1)\n",
    "onda_quadrada.cria_ambiente_interativo()"
   ]
  },
  {
   "cell_type": "markdown",
   "metadata": {},
   "source": [
    "Vamos entender como a onda quadrada é gerada."
   ]
  },
  {
   "cell_type": "markdown",
   "metadata": {},
   "source": [
    "#### Onda dente-de-serra\n",
    "\n",
    "A **onda dente-de-serra** é um sinal sonoro"
   ]
  },
  {
   "cell_type": "code",
   "execution_count": 20,
   "metadata": {},
   "outputs": [],
   "source": [
    "class OndaDenteDeSerra(Onda):\n",
    "    def gerar(self):\n",
    "        self.eixo_tempo = np.linspace(0, self.duracao, int(taxa_amostragem * self.duracao))\n",
    "        return self.amplitude * signal.sawtooth(2 * np.pi * self.frequencia * self.eixo_tempo)"
   ]
  },
  {
   "cell_type": "code",
   "execution_count": 36,
   "metadata": {},
   "outputs": [
    {
     "data": {
      "application/vnd.jupyter.widget-view+json": {
       "model_id": "f652d8c5857a449c93ffb85ebc601884",
       "version_major": 2,
       "version_minor": 0
      },
      "text/plain": [
       "interactive(children=(FloatSlider(value=0.1, description='amplitude', max=1.0, step=0.01), FloatSlider(value=1…"
      ]
     },
     "metadata": {},
     "output_type": "display_data"
    }
   ],
   "source": [
    "onda_dente_de_serra = OndaDenteDeSerra(amplitude=0.1, duracao=1.0, frequencia=1)\n",
    "onda_dente_de_serra.cria_ambiente_interativo()"
   ]
  },
  {
   "cell_type": "markdown",
   "metadata": {},
   "source": [
    "#### Onda triangular\n",
    "\n",
    "A **onda triangular** é um sinal sonoro "
   ]
  },
  {
   "cell_type": "code",
   "execution_count": 22,
   "metadata": {},
   "outputs": [],
   "source": [
    "class OndaTriangular(Onda):\n",
    "    def gerar(self):\n",
    "        self.eixo_tempo = np.linspace(0, self.duracao, int(taxa_amostragem * self.duracao))\n",
    "        return self.amplitude * signal.sawtooth(2 * np.pi * self.frequencia * self.eixo_tempo, width=0.5)"
   ]
  },
  {
   "cell_type": "code",
   "execution_count": 23,
   "metadata": {},
   "outputs": [
    {
     "data": {
      "application/vnd.jupyter.widget-view+json": {
       "model_id": "e00a29974ab6485daf249de2a9f1dad5",
       "version_major": 2,
       "version_minor": 0
      },
      "text/plain": [
       "interactive(children=(FloatSlider(value=1.0, description='amplitude', max=1.0, step=0.01), FloatSlider(value=1…"
      ]
     },
     "metadata": {},
     "output_type": "display_data"
    }
   ],
   "source": [
    "onda_triangular = OndaTriangular(amplitude=1.0, duracao=1.0, frequencia=1)\n",
    "onda_triangular.cria_ambiente_interativo()"
   ]
  },
  {
   "cell_type": "markdown",
   "metadata": {},
   "source": [
    "## ADSR\n",
    "\n",
    "O som de um instrumento musical não é composto apenas pelo seu caráter harmônico, mas também pela sua **variação dinâmica** ao longo do tempo.\n",
    "\n",
    "---\n",
    "\n",
    "*O quanto demora para o som atingir o volume máximo?*\n",
    "\n",
    "*O quanto demora para o som atingir o volume mínimo?*\n",
    "\n",
    "*O quanto o som mantém o volume máximo?*\n",
    "\n",
    "*O quanto demora para o som atingir o volume zero?*\n",
    "\n",
    "---\n",
    "\n",
    "Essas perguntas são respondidas pelo conceito de **envelope sonoro**.\n",
    "\n",
    "Um **envelope sonoro** é uma função que descreve a variação da amplitude de um sinal ao longo do tempo.\n",
    "\n",
    "Um dos envelopes mais usados no mundo da síntese sonora é o **ADSR**, um acrônimo para **Attack**, **Decay**, **Sustain** e **Release**. Aplicado a um sinal sonoro, o ADSR colabora para a percepção um som como parte de um \"instrumento musical\".\n",
    "\n",
    "Vamos ouvir alguns exemplos de ADSR em ação."
   ]
  },
  {
   "cell_type": "markdown",
   "metadata": {},
   "source": [
    "> *Hora de abrir o Ableton Live...*"
   ]
  },
  {
   "cell_type": "markdown",
   "metadata": {},
   "source": [
    "Vamos estudar cada uma das etapas do ADSR:\n",
    "\n",
    "1. **Attack**: é o tempo que o sinal leva para atingir o seu valor máximo. O ataque é o início do som.\n",
    "2. **Decay**: é o tempo que o sinal leva para atingir o valor de sustentação.\n",
    "3. **Sustain**: é o valor que o sinal mantém enquanto a tecla do instrumento é pressionada.\n",
    "4. **Release**: é o tempo que o sinal leva para atingir o valor zero após a tecla do instrumento ser solta.\n",
    "\n",
    "Podemos modelar cada uma dessas etapas com funções matemáticas. Para fins didáticos, vamos simplificar essas funções para que sejam funções lineares."
   ]
  },
  {
   "cell_type": "code",
   "execution_count": 37,
   "metadata": {},
   "outputs": [
    {
     "data": {
      "application/vnd.jupyter.widget-view+json": {
       "model_id": "62fbb30044f14f2790e12ef6efaf1153",
       "version_major": 2,
       "version_minor": 0
      },
      "text/plain": [
       "interactive(children=(FloatSlider(value=0.1, description='Attack (s):', max=1.0, step=0.01), FloatSlider(value…"
      ]
     },
     "metadata": {},
     "output_type": "display_data"
    }
   ],
   "source": [
    "class AmbienteInterativoADSR():\n",
    "    def __init__(self, adsr):\n",
    "        self.adsr = adsr\n",
    "\n",
    "    def cria_plot(self):\n",
    "        plt.figure(figsize=(18, 6))\n",
    "        plt.plot(self.adsr.sintetizador.eixo_tempo, self.adsr.sintetizador.sinal, 'b-', label='Sinal Original')\n",
    "        plt.plot(self.adsr.sintetizador.eixo_tempo, self.adsr.sinal_adsr, 'r-', label='Sinal ADSR')\n",
    "        plt.grid(True)\n",
    "        plt.xlabel('Tempo(s)')\n",
    "        plt.ylabel('Amplitude')\n",
    "        plt.ylim(-1.1, 1.1)\n",
    "        plt.legend()\n",
    "        plt.show()\n",
    "        \n",
    "    def cria_audio_player(self):\n",
    "        display(Audio(self.sintetizador.sinal, rate=taxa_amostragem, normalize=False))\n",
    "        \n",
    "    def callback(self,\n",
    "                 attack, decay, sustain, release,\n",
    "                 sintetizador,\n",
    "                 amplitude, duracao, frequencia):\n",
    "        # Troca de sintetizador\n",
    "        self.adsr.sintetizador = sintetizador\n",
    "        \n",
    "        # Atualiza os parâmetros do sintetizador\n",
    "        st = self.adsr.sintetizador\n",
    "        st.amplitude = amplitude\n",
    "        st.duracao = duracao\n",
    "        st.frequencia = frequencia\n",
    "\n",
    "        # Atualiza os parâmetros do ADSR\n",
    "        adsr = self.adsr\n",
    "        adsr.attack = attack\n",
    "        adsr.decay = decay\n",
    "        adsr.sustain = sustain\n",
    "        adsr.release = release\n",
    "\n",
    "        # Gera um novo sinal do sintetizador\n",
    "        st.eixo_tempo = np.linspace(0, duracao, int(taxa_amostragem * st.duracao))\n",
    "        st.sinal = st.gerar()\n",
    "        \n",
    "        # Gera um novo envelope\n",
    "        adsr.envelope = adsr.gerar()\n",
    "        \n",
    "        # Gera um novo sinal envelopado\n",
    "        adsr.sinal_adsr = adsr.aplica_envelope()\n",
    "        \n",
    "        # Gera o gráfico e reproduz o sinal\n",
    "        self.cria_plot()\n",
    "        display(Audio(adsr.sinal_adsr, rate=taxa_amostragem, normalize=False))\n",
    "\n",
    "class ADSR():\n",
    "    def __init__(self, a=0.1, d=0.1, s=0.7, r=0.2, sintetizador=onda_senoidal):\n",
    "        self.attack       = a\n",
    "        self.decay        = d\n",
    "        self.sustain      = s\n",
    "        self.release      = r\n",
    "        self.sintetizador = sintetizador\n",
    "        self.envelope     = self.gerar()\n",
    "        self.sinal_adsr   = self.aplica_envelope()\n",
    "    \n",
    "    def gerar(self):\n",
    "        num_amostras = len(self.sintetizador.eixo_tempo)\n",
    "        \n",
    "        # Converte tempos para número de amostras\n",
    "        a_samples = int(self.attack * taxa_amostragem)\n",
    "        d_samples = int(self.decay * taxa_amostragem)\n",
    "        r_samples = int(self.release * taxa_amostragem)\n",
    "        \n",
    "        # Calcula o ponto de sustain\n",
    "        sustain_start = a_samples + d_samples\n",
    "        sustain_end = num_amostras - r_samples\n",
    "        \n",
    "        # Envelope ADSR\n",
    "        envelope = np.ones(num_amostras)\n",
    "        \n",
    "        # Ataque (crescimento linear de 0 a 1)\n",
    "        if a_samples > 0:\n",
    "            envelope[:a_samples] = np.linspace(0, 1, a_samples)\n",
    "        \n",
    "        # Decay (decrescimento linear de 1 a s)\n",
    "        if d_samples > 0:\n",
    "            envelope[a_samples:sustain_start] = np.linspace(1, self.sustain, d_samples)\n",
    "        \n",
    "        # Sustain (valor constante s)\n",
    "        envelope[sustain_start:sustain_end] = self.sustain\n",
    "        \n",
    "        # Release (decrescimento linear de s a 0)\n",
    "        if r_samples > 0:\n",
    "            envelope[sustain_end:] = np.linspace(self.sustain, 0, r_samples)\n",
    "            \n",
    "        return envelope\n",
    "        \n",
    "    def aplica_envelope(self):\n",
    "        return self.sintetizador.sinal * self.envelope\n",
    "    \n",
    "    def cria_ambiente_interativo(self):\n",
    "        ambiente = AmbienteInterativoADSR(self)\n",
    "        interativo = interactive(\n",
    "            ambiente.callback,\n",
    "            attack=widgets.FloatSlider(min=0.0, max=1.0, step=0.01, value=self.attack, description='Attack (s):'),\n",
    "            decay=widgets.FloatSlider(min=0.0, max=1.0, step=0.01, value=self.decay, description='Decay (s):'),\n",
    "            sustain=widgets.FloatSlider(min=0.0, max=1.0, step=0.01, value=self.sustain, description='Sustain (0 a 1):'),\n",
    "            release=widgets.FloatSlider(min=0.0, max=1.0, step=0.01, value=self.release, description='Release (s):'),\n",
    "            sintetizador=widgets.Dropdown(\n",
    "                options={\n",
    "                    'Ruído Branco': ruido_branco,\n",
    "                    'Ruído Vermelho': ruido_vermelho,\n",
    "                    'Senoidal': onda_senoidal,\n",
    "                    'Quadrada': onda_quadrada,\n",
    "                    'Dente de Serra': onda_dente_de_serra,\n",
    "                    'Triangular': onda_triangular\n",
    "                },\n",
    "                value=self.sintetizador,\n",
    "                description='Sintetizador:'\n",
    "            ),\n",
    "            amplitude=widgets.FloatSlider(min=0, max=1, step=0.01, value=self.sintetizador.amplitude, description='Amplitude:'),\n",
    "            duracao=widgets.FloatSlider(min=0.1, max=5.0, step=0.01, value=self.sintetizador.duracao, description='Duração (s):'),\n",
    "            frequencia=widgets.IntSlider(min=1, max=1000, step=1, value=220, description='Frequência (Hz):')\n",
    "        )\n",
    "        display(interativo)\n",
    "\n",
    "adsr = ADSR()\n",
    "adsr.cria_ambiente_interativo()"
   ]
  },
  {
   "cell_type": "markdown",
   "metadata": {},
   "source": [
    "Experimente mexer com todos os parâmetros do ADSR e ouvir o resultado. Você conseguiria simular:\n",
    "\n",
    "- Um som semelhante a uma tecla de piano sendo pressionada e segurada?\n",
    "- Um som de um sino de elevador?\n",
    "- Um som de um sabre de luz?\n",
    "- Um som de chimbal de bateria acústica?"
   ]
  },
  {
   "cell_type": "markdown",
   "metadata": {},
   "source": [
    "## Modulação AM"
   ]
  },
  {
   "cell_type": "code",
   "execution_count": 38,
   "metadata": {},
   "outputs": [
    {
     "data": {
      "application/vnd.jupyter.widget-view+json": {
       "model_id": "f25d1e74c1a942f3a7c0c95023a14b6d",
       "version_major": 2,
       "version_minor": 0
      },
      "text/plain": [
       "interactive(children=(IntSlider(value=5, description='Freq. Moduladora:', min=1), FloatSlider(value=0.5, descr…"
      ]
     },
     "metadata": {},
     "output_type": "display_data"
    }
   ],
   "source": [
    "class AmbienteInterativoModulacaoAM:\n",
    "    def __init__(self, modulacao_am):\n",
    "        self.modulacao_am = modulacao_am\n",
    "\n",
    "    def cria_plot(self):\n",
    "        eixo_tempo = self.modulacao_am.sintetizador.eixo_tempo\n",
    "        sinal = self.modulacao_am.sintetizador.sinal\n",
    "        moduladora = self.modulacao_am.moduladora\n",
    "        sinal_modulado = self.modulacao_am.sinal_modulado\n",
    "\n",
    "        plt.figure(figsize=(18, 12))\n",
    "        \n",
    "        # Plot da portadora\n",
    "        plt.subplot(311)\n",
    "        plt.plot(eixo_tempo, sinal, 'b-')\n",
    "        plt.grid(True)\n",
    "        plt.xlabel('Tempo (s)')\n",
    "        plt.ylabel('Amplitude')\n",
    "        plt.title('Sinal Portadora')\n",
    "        plt.ylim(-1.1, 1.1)\n",
    "        \n",
    "        # Plot da moduladora\n",
    "        plt.subplot(312)\n",
    "        plt.plot(eixo_tempo, moduladora, 'r-')\n",
    "        plt.grid(True)\n",
    "        plt.xlabel('Tempo (s)')\n",
    "        plt.ylabel('Amplitude')\n",
    "        plt.title('Sinal Moduladora')\n",
    "        plt.ylim(-1.1, 1.1)\n",
    "        \n",
    "        # Plot do sinal modulado\n",
    "        plt.subplot(313)\n",
    "        plt.plot(eixo_tempo, sinal_modulado, 'g-')\n",
    "        plt.grid(True)\n",
    "        plt.xlabel('Tempo (s)')\n",
    "        plt.ylabel('Amplitude')\n",
    "        plt.title('Sinal Modulado (AM)')\n",
    "        plt.ylim(-1.1, 1.1)\n",
    "        \n",
    "        plt.tight_layout()\n",
    "        plt.show()\n",
    "        \n",
    "    def cria_audio_player(self):\n",
    "        display(Audio(self.modulacao_am.sinal_modulado, rate=taxa_amostragem, normalize=False))\n",
    "        \n",
    "    def callback(self, freq_moduladora, amp_moduladora, sintetizador, freq_portadora, amp_portadora, duracao):\n",
    "        # Troca de sintetizador\n",
    "        self.modulacao_am.sintetizador = sintetizador\n",
    "        \n",
    "        # Atualiza os parâmetros do sintetizador\n",
    "        st = self.modulacao_am.sintetizador\n",
    "        st.amplitude = amp_portadora\n",
    "        st.frequencia = freq_portadora\n",
    "        st.duracao = duracao\n",
    "        \n",
    "        # Atualiza os parâmetros da moduladora\n",
    "        self.modulacao_am.freq_moduladora = freq_moduladora\n",
    "        self.modulacao_am.amp_moduladora = amp_moduladora\n",
    "        \n",
    "        # Gera um novo sinal do sintetizador\n",
    "        st.eixo_tempo = np.linspace(0, duracao, int(taxa_amostragem * st.duracao))\n",
    "        st.sinal = st.gerar()\n",
    "        \n",
    "        # Gera um novo sinal modulador\n",
    "        self.modulacao_am.moduladora = self.modulacao_am.gerar()\n",
    "        \n",
    "        # Gera um novo sinal modulado\n",
    "        self.modulacao_am.sinal_modulado = self.modulacao_am.aplica_modulacao()\n",
    "        \n",
    "        # Mostra o gráfico e reproduz o áudio\n",
    "        self.cria_plot()\n",
    "        self.cria_audio_player()\n",
    "\n",
    "class ModulacaoAM:\n",
    "    def __init__(self, sintetizador=onda_senoidal, freq_portadora=220, amp_portadora=1.0, \n",
    "                 freq_moduladora=5, amp_moduladora=0.5, duracao=1.0):\n",
    "        self.freq_moduladora         = freq_moduladora\n",
    "        self.amp_moduladora          = amp_moduladora\n",
    "        self.sintetizador            = sintetizador\n",
    "        self.sintetizador.frequencia = freq_portadora\n",
    "        self.sintetizador.amplitude  = amp_portadora\n",
    "        self.duracao                 = duracao\n",
    "        self.moduladora              = self.gerar()\n",
    "        self.sinal_modulado          = self.aplica_modulacao()\n",
    "    \n",
    "    def gerar(self):\n",
    "        return self.amp_moduladora * np.sin(2 * np.pi * self.freq_moduladora * self.sintetizador.eixo_tempo)\n",
    "    \n",
    "    def aplica_modulacao(self):\n",
    "        return self.sintetizador.sinal * self.moduladora\n",
    "    \n",
    "    def cria_ambiente_interativo(self):\n",
    "        ambiente = AmbienteInterativoModulacaoAM(self)\n",
    "        interativo = interactive(\n",
    "            ambiente.callback,\n",
    "            freq_moduladora=widgets.IntSlider(min=1, max=100, step=1, value=self.freq_moduladora, description='Freq. Moduladora:'),\n",
    "            amp_moduladora=widgets.FloatSlider(min=0.1, max=1.0, step=0.1, value=self.amp_moduladora, description='Amp. Moduladora:'),\n",
    "            sintetizador=widgets.Dropdown(\n",
    "                options={\n",
    "                    'Ruído Branco': ruido_branco,\n",
    "                    'Ruído Vermelho': ruido_vermelho,\n",
    "                    'Senoidal': onda_senoidal,\n",
    "                    'Quadrada': onda_quadrada,\n",
    "                    'Dente de Serra': onda_dente_de_serra,\n",
    "                    'Triangular': onda_triangular\n",
    "                },\n",
    "                value=self.sintetizador,\n",
    "                description='Portador:'\n",
    "            ),\n",
    "            freq_portadora=widgets.IntSlider(min=50, max=1000, step=10, value=self.sintetizador.frequencia, description='Freq. Portadora:'),\n",
    "            amp_portadora=widgets.FloatSlider(min=0.1, max=1.0, step=0.1, value=self.sintetizador.amplitude, description='Amp. Portadora:'),\n",
    "            duracao=widgets.FloatSlider(min=0.1, max=5.0, step=0.1, value=self.duracao, description='Duração (s):')\n",
    "        )\n",
    "        display(interativo)\n",
    "\n",
    "am = ModulacaoAM()\n",
    "am.cria_ambiente_interativo()"
   ]
  }
 ],
 "metadata": {
  "kernelspec": {
   "display_name": "venv",
   "language": "python",
   "name": "python3"
  },
  "language_info": {
   "codemirror_mode": {
    "name": "ipython",
    "version": 3
   },
   "file_extension": ".py",
   "mimetype": "text/x-python",
   "name": "python",
   "nbconvert_exporter": "python",
   "pygments_lexer": "ipython3",
   "version": "3.10.12"
  }
 },
 "nbformat": 4,
 "nbformat_minor": 2
}
