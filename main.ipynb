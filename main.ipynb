{
 "cells": [
  {
   "cell_type": "markdown",
   "metadata": {},
   "source": [
    "# Do Zero ao Som: Criando Áudio Digital com Python"
   ]
  },
  {
   "cell_type": "code",
   "execution_count": 30,
   "metadata": {},
   "outputs": [],
   "source": [
    "# Antes de tudo, instale as dependências\n",
    "\n",
    "import numpy as np\n",
    "import matplotlib.pyplot as plt\n",
    "from IPython.display import Audio, display\n",
    "import ipywidgets as widgets\n",
    "from ipywidgets import interactive\n",
    "from scipy.io import wavfile\n",
    "from scipy import signal"
   ]
  },
  {
   "cell_type": "markdown",
   "metadata": {},
   "source": [
    "## Introdução\n",
    "\n",
    "*Como o computador processa uma música digitalmente?*\n",
    "\n",
    "*Como podemos entender uma representação digital de um sinal de áudio?*\n",
    "\n",
    "*Como podemos criar sons com o auxílio do computador?*\n",
    "\n",
    "Neste workshop, vamos entender um pouco sobre o que é um sinal de áudio digital e como podemos criar um sinal de áudio digital a partir do zero utilizando Python. Tudo isso de maneira interativa e prática.\n",
    "\n",
    "Divirta-se!"
   ]
  },
  {
   "cell_type": "markdown",
   "metadata": {},
   "source": [
    "## Som e Sinal\n",
    "\n",
    "Vamos ganhar uma intuição intuição inicial sobre o que é som e o que é sinal sonoro. Essas definições são importantes para entendermos o que estamos fazendo quando mexemos com áudio digital.\n",
    "\n",
    "### O que é som?\n",
    "\n",
    "**Som** é um fenômeno físico que ocorre quando moléculas de ar (ou outro meio elástico) se comprimem e rarefazem rapidamente.\n",
    "Alto-falantes, por exemplo, movem-se para frente e para trás rapidamente, comprimindo e rarefazendo o ar, criando som.\n",
    "Por sua vez, nossos ouvidos são capazes de captar essas variações de pressão do ar e transformá-las em sinais elétricos que são enviados ao nosso cérebro.\n",
    "\n",
    "Podemos modelar esse movimento do ar com a ajuda da matemática e de computadores.\n",
    "\n",
    "### O que é sinal sonoro?\n",
    "\n",
    "Um **sinal sonoro** é uma função matemática que descreve a variação de pressão do ar ou tensão elétrica ao longo do tempo.\n",
    "\n",
    "Podemos visualizar um sinal sonoro com um gráfico onde o eixo horizontal representa o tempo e o eixo vertical representa a amplitude do som em cada instante de tempo.\n",
    "\n",
    "Caso você nunca tenha visto a onda de uma música antes, observe o sinal dos primeiros 60 segundos da música \"No Ordinary Love\" da cantora Sade no software Audacity."
   ]
  },
  {
   "cell_type": "markdown",
   "metadata": {},
   "source": [
    "---\n",
    "\n",
    "*This is no ordinary love...*\n",
    "\n",
    "---"
   ]
  },
  {
   "cell_type": "markdown",
   "metadata": {},
   "source": [
    "### Sinais analógicos e digitais\n",
    "\n",
    "Consegue perceber que temos vários pontos no gráfico da onda sonora? Cada um desses pontos representa a intensidade do som em um instante de tempo.\n",
    "Por isso, podemos dizer que esse sinal sonoro é **discreto** ou **digital**.\n",
    "\n",
    "Portanto, podemos imaginar um arquivo de áudio como uma grande lista de números."
   ]
  },
  {
   "cell_type": "code",
   "execution_count": 4,
   "metadata": {},
   "outputs": [
    {
     "name": "stdout",
     "output_type": "stream",
     "text": [
      "int16\n",
      "[[-11313 -14304]\n",
      " [-10939 -14153]\n",
      " [-11831 -14842]\n",
      " [-12245 -15099]\n",
      " [-11796 -14719]\n",
      " [-11042 -13983]\n",
      " [-11059 -13645]\n",
      " [-10910 -13119]\n",
      " [ -9690 -11869]\n",
      " [ -9067 -11190]]\n"
     ]
    }
   ],
   "source": [
    "sample_rate, audio_file = wavfile.read('Sade-No_Ordinary_Love-60s.wav')\n",
    "\n",
    "# Mostra o NumPy Dtype\n",
    "print(audio_file.dtype) # int16, de [-32768, +32767]\n",
    "\n",
    "# Imprime uma parte do arquivo de áudio\n",
    "print(audio_file[480000:480000+10])"
   ]
  },
  {
   "cell_type": "markdown",
   "metadata": {},
   "source": [
    "> Dizemos que um sinal sonoro é **analógico** quando a função está definida para todos os instantes no tempo. Ou seja, o sinal sonoro é **contínuo**. Sinais analógicos estão presentes no mundo real, como o som que ouvimos, e também em equipamentos de áudio, como microfones e alto-falantes.\n",
    ">\n",
    "> Dizemos que um sinal sonoro é **digital** quando a função está definida apenas para uma lista finita de instantes no tempo. Ou seja, o sinal sonoro é **discreto**. Sinais digitais são utilizados em computadores e equipamentos digitais."
   ]
  },
  {
   "cell_type": "markdown",
   "metadata": {},
   "source": [
    "## Amostragem e Quantização\n",
    "\n",
    "Agora sabemos que um sinal sonoro digital é discretizado no eixo do tempo e também no eixo da amplitude. Mas como isso é feito? Vamos entender um pouco sobre **amostragem** e **quantização**.\n",
    "\n",
    "> **Amostragem** é o processo de discretização do sinal no eixo do **tempo**.\n",
    ">\n",
    "> Definimos a **taxa de amostragem** como o número de amostras por segundo. A unidade de medida é **Hertz** (Hz). É comum vermos taxas de amostragem de 44.1 kHz, 48 kHz, 96 kHz, etc.\n",
    "\n",
    "> **Quantização** é o processo de discretização do sinal no eixo da **amplitude**.\n",
    ">\n",
    "> Definimos a **resolução** como o número de níveis de amplitude possíveis. A unidade de medida é **bits**. É comum vermos resoluções de potência de 2, como 8 bits, 16 bits, 24 bits, etc."
   ]
  },
  {
   "cell_type": "code",
   "execution_count": 26,
   "metadata": {},
   "outputs": [
    {
     "data": {
      "application/vnd.jupyter.widget-view+json": {
       "model_id": "46f087418eec498f8157256d8665e346",
       "version_major": 2,
       "version_minor": 0
      },
      "text/plain": [
       "interactive(children=(IntSlider(value=44100, description='amostras', max=132300, min=-44100), IntSlider(value=…"
      ]
     },
     "metadata": {},
     "output_type": "display_data"
    }
   ],
   "source": [
    "# Ambiente interativo para a visualização de um sinal\n",
    "\n",
    "def plot_signal(amostras=44100, bits=16, freq=440):\n",
    "    # Sinal contínuo\n",
    "    # t = np.linspace(0, 1, 1000)\n",
    "    # original = np.sin(2 * np.pi * freq * t)\n",
    "    \n",
    "    # Amostragem\n",
    "    t_sampled = np.linspace(0, 1, amostras)\n",
    "    sampled = np.sin(2 * np.pi * freq * t_sampled)\n",
    "    \n",
    "    # Quantização\n",
    "    levels = 2**bits\n",
    "    quantized = np.round(sampled * (levels/2)) / (levels/2)\n",
    "    \n",
    "    # Plot\n",
    "    plt.figure(figsize=(18, 6))\n",
    "    # plt.plot(t, original, 'b-', label='Sinal Original', alpha=0.5)\n",
    "    plt.plot(t_sampled, quantized, 'r.', label='Sinal Digital')\n",
    "    plt.grid(True)\n",
    "    plt.xlabel('Tempo (s)')\n",
    "    plt.ylabel('Amplitude')\n",
    "    plt.title(f'Senoide - {freq} Hz, {bits} bits')\n",
    "    plt.legend()\n",
    "    plt.show()\n",
    "\n",
    "# Interface interativa\n",
    "interactive_plot = interactive(\n",
    "    plot_signal,\n",
    "    samples=widgets.IntSlider(min=0, max=1000, step=1, value=44100),\n",
    "    bits=widgets.IntSlider(min=1, max=32, step=1, value=32),\n",
    "    freq=widgets.IntSlider(min=1, max=10, step=1, value=1)\n",
    ")\n",
    "display(interactive_plot)"
   ]
  },
  {
   "cell_type": "markdown",
   "metadata": {},
   "source": [
    "## Sinais elementares\n",
    "\n",
    "Vamos estudar alguns sinais elementares que são importantes para entendermos o som. São eles: ruídos e sinais periódicos."
   ]
  },
  {
   "cell_type": "markdown",
   "metadata": {},
   "source": [
    "### Ruídos\n",
    "\n",
    "Em computação musical, **ruído** não possui uma definição categórica, mas é comum entendermos ele como um sinal sonoro que:\n",
    "\n",
    "* Não possui uma altura musical definida\n",
    "* Não costuma ser periódico\n",
    "\n",
    "Uma caracterização comum de ruídos é por sua **densidade espectral**, ou seja, a distribuição de energia do sinal em função da frequência. Esses ruídos possuem nomes de cores, como **branco**, **vermelho**, **rosa**, etc.\n",
    "\n",
    "Vamos sintetizar e ouvir os ruídos branco e vermelho."
   ]
  },
  {
   "cell_type": "markdown",
   "metadata": {},
   "source": [
    "**ATENÇÃO: ABAIXE (MUITO) O VOLUME DO SEU COMPUTADOR ANTES DE OUVIR OS ÁUDIOS.**"
   ]
  },
  {
   "cell_type": "code",
   "execution_count": 71,
   "metadata": {},
   "outputs": [],
   "source": [
    "# Vamos definir algumas variáveis globais\n",
    "\n",
    "taxa_amostragem = 44100"
   ]
  },
  {
   "cell_type": "markdown",
   "metadata": {},
   "source": [
    "#### Ruído branco\n",
    "\n",
    "O **ruído branco** é um sinal sonoro que possui energia uniformemente distribuída em todas as frequências audíveis.\n",
    "\n",
    "Talvez você já tenha ouvido ruído branco em um rádio fora de sintonia ou em uma televisão sem sinal. Esse som incomoda muito!\n",
    "\n",
    "Vamos sintetizar um ruído branco e ouvi-lo:"
   ]
  },
  {
   "cell_type": "code",
   "execution_count": 95,
   "metadata": {},
   "outputs": [
    {
     "data": {
      "application/vnd.jupyter.widget-view+json": {
       "model_id": "835633f1fafa4b86ab93e020dd2527e7",
       "version_major": 2,
       "version_minor": 0
      },
      "text/plain": [
       "interactive(children=(FloatSlider(value=1.0, description='duracao', max=10.0, min=0.1), Output()), _dom_classe…"
      ]
     },
     "metadata": {},
     "output_type": "display_data"
    }
   ],
   "source": [
    "# Ruído branco\n",
    "\n",
    "def ruido_branco(duracao=1.0):\n",
    "    amostras = int(taxa_amostragem * duracao)\n",
    "\n",
    "    # Gera o ruído branco por 1 segundo\n",
    "    t = np.linspace(0, duracao, amostras)\n",
    "    sinal = np.random.uniform(-1, 1, amostras)\n",
    "    \n",
    "    # Gera o gráfico\n",
    "    plt.figure(figsize=(18, 6))\n",
    "    plt.plot(t, sinal, 'b-', label='Ruído Branco')\n",
    "    plt.grid(True)\n",
    "    plt.xlabel('Tempo (s)')\n",
    "    plt.ylabel('Amplitude')\n",
    "    plt.title('Ruído Branco')\n",
    "    plt.legend()\n",
    "    plt.show()\n",
    "\n",
    "    # Reproduz o sinal\n",
    "    display(Audio(sinal, rate=taxa_amostragem))\n",
    "\n",
    "# Interface interativa\n",
    "interactive_plot = interactive(\n",
    "    ruido_branco,\n",
    "    duracao=widgets.FloatSlider(min=0.1, max=10.0, step=0.1, value=1.0)\n",
    ")\n",
    "display(interactive_plot)\n",
    "    "
   ]
  },
  {
   "cell_type": "markdown",
   "metadata": {},
   "source": [
    "#### Ruído vermelho\n",
    "\n",
    "O **ruído vermelho** é um ruído que possui energia inversamente proporcional à frequência. Isso significa que ele possui mais energia em frequências baixas e menos energia em frequências altas.\n",
    "\n",
    "O ruído vermelho é um ruído mais agradável de se ouvir do que o ruído branco.\n",
    "\n",
    "Vamos sintetizar um ruído vermelho e ouvi-lo:"
   ]
  },
  {
   "cell_type": "code",
   "execution_count": null,
   "metadata": {},
   "outputs": [
    {
     "data": {
      "application/vnd.jupyter.widget-view+json": {
       "model_id": "21f280f59c7c4bdfb042d72a2b84ac88",
       "version_major": 2,
       "version_minor": 0
      },
      "text/plain": [
       "interactive(children=(FloatSlider(value=1.0, description='duracao', max=10.0, min=0.1), Output()), _dom_classe…"
      ]
     },
     "metadata": {},
     "output_type": "display_data"
    }
   ],
   "source": [
    "# Ruído vermelho\n",
    "\n",
    "def ruido_vermelho(duracao=1.0):\n",
    "    amostras = int(taxa_amostragem * duracao)\n",
    "\n",
    "    # Gera o ruído vermelho por 1 segundo\n",
    "    t = np.linspace(0, duracao, amostras)\n",
    "    branco = np.random.uniform(-1, 1, amostras)\n",
    "    vermelho = np.zeros(1 * amostras)\n",
    "    vermelho[0] = branco[0]\n",
    "    for i in range(1, amostras):\n",
    "        vermelho[i] = branco[i] + vermelho[i - 1]\n",
    "    vermelho = vermelho / np.max(np.abs(vermelho))\n",
    "    \n",
    "    # Gera o gráfico\n",
    "    plt.figure(figsize=(18, 6))\n",
    "    plt.plot(t, vermelho, 'r-', label='Ruído Vermelho')\n",
    "    plt.grid(True)\n",
    "    plt.xlabel('Tempo (s)')\n",
    "    plt.ylabel('Amplitude')\n",
    "    plt.title('Ruído Vermelho')\n",
    "    plt.legend()\n",
    "    plt.show()\n",
    "\n",
    "    # Reproduz o sinal\n",
    "    display(Audio(vermelho, rate=amostras))\n",
    "    \n",
    "# Interface interativa\n",
    "interactive_plot = interactive(\n",
    "    ruido_vermelho,\n",
    "    duracao=widgets.FloatSlider(min=0.1, max=10.0, step=0.1, value=1.0)\n",
    ")\n",
    "display(interactive_plot)"
   ]
  },
  {
   "cell_type": "markdown",
   "metadata": {},
   "source": [
    "#### *Qual a utilidade de ruídos na computação musical?*\n",
    "\n",
    "A partir de um ruído, podemos modificá-lo (com filtros, *envelopes*, efeitos, etc.) para criar sons mais complexos e também mais musicais. Vamos explorar isso mais adiante quando falarmos sobre envelopes ADSR."
   ]
  },
  {
   "cell_type": "markdown",
   "metadata": {},
   "source": [
    "### Sinais periódicos\n",
    "\n",
    "Os sinais periódicos elementares são as **ondas senoidais**, **ondas quadradas**, **ondas dente-de-serra** e **ondas triangulares** , cada um com suas características tonais."
   ]
  },
  {
   "cell_type": "markdown",
   "metadata": {},
   "source": [
    "#### Onda senoidal\n",
    "\n",
    "A **onda senoidal** é um sinal sonoro "
   ]
  },
  {
   "cell_type": "code",
   "execution_count": 92,
   "metadata": {},
   "outputs": [
    {
     "data": {
      "application/vnd.jupyter.widget-view+json": {
       "model_id": "9ec8d5df22ee40da8c3feb787c07e481",
       "version_major": 2,
       "version_minor": 0
      },
      "text/plain": [
       "interactive(children=(IntSlider(value=440, description='freq', max=1000, min=1), FloatSlider(value=1.0, descri…"
      ]
     },
     "metadata": {},
     "output_type": "display_data"
    }
   ],
   "source": [
    "def onda_senoidal(freq=440, duracao=1.0):\n",
    "    amostras = int(taxa_amostragem * duracao)\n",
    "\n",
    "    # Gera o sinal senoidal\n",
    "    t = np.linspace(0, duracao, amostras)\n",
    "    sinal = np.sin(2 * np.pi * freq * t)\n",
    "    \n",
    "    # Gera o gráfico\n",
    "    plt.figure(figsize=(18, 6))\n",
    "    plt.plot(t, sinal, 'b-', label='Sinal Senoidal')\n",
    "    plt.grid(True)\n",
    "    plt.xlabel('Tempo (s)')\n",
    "    plt.ylabel('Amplitude')\n",
    "    plt.title(f'Senoide - {freq} Hz')\n",
    "    plt.legend()\n",
    "    plt.show()\n",
    "\n",
    "    # Reproduz o sinal\n",
    "    display(Audio(sinal, rate=taxa_amostragem))\n",
    "\n",
    "# Interface interativa\n",
    "interactive_plot = interactive(\n",
    "    onda_senoidal,\n",
    "    freq=widgets.IntSlider(min=1, max=1000, step=1, value=440),\n",
    "    duracao=widgets.FloatSlider(min=0.1, max=10, step=0.1, value=1.0)\n",
    ")\n",
    "display(interactive_plot)"
   ]
  },
  {
   "cell_type": "markdown",
   "metadata": {},
   "source": [
    "#### Onda quadrada\n",
    "\n",
    "A **onda quadrada** é um sinal sonoro "
   ]
  },
  {
   "cell_type": "code",
   "execution_count": 90,
   "metadata": {},
   "outputs": [
    {
     "data": {
      "application/vnd.jupyter.widget-view+json": {
       "model_id": "439663bceebb4726988cb44b8a195b54",
       "version_major": 2,
       "version_minor": 0
      },
      "text/plain": [
       "interactive(children=(IntSlider(value=440, description='freq', max=1000, min=1), FloatSlider(value=1.0, descri…"
      ]
     },
     "metadata": {},
     "output_type": "display_data"
    }
   ],
   "source": [
    "def onda_quadrada(freq=440, duracao=1.0):\n",
    "    amostras = int(taxa_amostragem * duracao)\n",
    "\n",
    "    # Gera o sinal quadrado\n",
    "    t = np.linspace(0, duracao, amostras)\n",
    "    sinal = signal.square(2 * np.pi * freq * t)\n",
    "    \n",
    "    # Gera o gráfico\n",
    "    plt.figure(figsize=(18, 6))\n",
    "    plt.plot(t, sinal, 'b-', label='Sinal Quadrado')\n",
    "    plt.grid(True)\n",
    "    plt.xlabel('Tempo (s)')\n",
    "    plt.ylabel('Amplitude')\n",
    "    plt.title(f'Onda Quadrada - {freq} Hz')\n",
    "    plt.legend()\n",
    "    plt.show()\n",
    "\n",
    "    # Reproduz o sinal\n",
    "    display(Audio(sinal, rate=taxa_amostragem))\n",
    "    \n",
    "# Interface interativa\n",
    "interactive_plot = interactive(\n",
    "    onda_quadrada,\n",
    "    freq=widgets.IntSlider(min=1, max=1000, step=1, value=440),\n",
    "    duracao=widgets.FloatSlider(min=0.1, max=10, step=0.1, value=1.0)\n",
    ")\n",
    "display(interactive_plot)"
   ]
  },
  {
   "cell_type": "markdown",
   "metadata": {},
   "source": [
    "#### Onda triangular\n",
    "\n",
    "A **onda triangular** é um sinal sonoro "
   ]
  },
  {
   "cell_type": "code",
   "execution_count": 103,
   "metadata": {},
   "outputs": [
    {
     "data": {
      "application/vnd.jupyter.widget-view+json": {
       "model_id": "bb5b1889b48b41fcac9413248a6166ab",
       "version_major": 2,
       "version_minor": 0
      },
      "text/plain": [
       "interactive(children=(IntSlider(value=1, description='freq', max=1000, min=1), FloatSlider(value=1.0, descript…"
      ]
     },
     "metadata": {},
     "output_type": "display_data"
    }
   ],
   "source": [
    "def onda_triangular(freq=440, duracao=1.0):\n",
    "    amostras = int(taxa_amostragem * duracao)\n",
    "\n",
    "    # Gera o sinal triangular\n",
    "    t = np.linspace(0, duracao, amostras)\n",
    "    sinal = signal.sawtooth(2 * np.pi * freq * t, width=0.5)\n",
    "\n",
    "    # Gera o gráfico\n",
    "    plt.figure(figsize=(18, 6))\n",
    "    plt.plot(t, sinal, 'b-', label='Sinal Triangular')\n",
    "    plt.grid(True)\n",
    "    plt.xlabel('Tempo (s)')\n",
    "    plt.ylabel('Amplitude')\n",
    "    plt.title(f'Onda Triangular - {freq} Hz')\n",
    "    plt.legend()\n",
    "    plt.show()\n",
    "\n",
    "    # Reproduz o sinal\n",
    "    display(Audio(sinal, rate=taxa_amostragem))\n",
    "    \n",
    "# Interface interativa\n",
    "interactive_plot = interactive(\n",
    "    onda_triangular,\n",
    "    freq=widgets.IntSlider(min=1, max=1000, step=1, value=1),\n",
    "    duracao=widgets.FloatSlider(min=0.1, max=10, step=0.1, value=1.0)\n",
    ")\n",
    "display(interactive_plot)"
   ]
  },
  {
   "cell_type": "markdown",
   "metadata": {},
   "source": [
    "#### Onda dente-de-serra\n",
    "\n",
    "A **onda dente-de-serra** é um sinal sonoro"
   ]
  },
  {
   "cell_type": "code",
   "execution_count": 105,
   "metadata": {},
   "outputs": [
    {
     "data": {
      "application/vnd.jupyter.widget-view+json": {
       "model_id": "4a02e2796097461296cdc3532169ccbc",
       "version_major": 2,
       "version_minor": 0
      },
      "text/plain": [
       "interactive(children=(IntSlider(value=1, description='freq', max=1000, min=1), FloatSlider(value=1.0, descript…"
      ]
     },
     "metadata": {},
     "output_type": "display_data"
    }
   ],
   "source": [
    "def onda_dente_de_serra(freq=440, duracao=1.0):\n",
    "    amostras = int(taxa_amostragem * duracao)\n",
    "\n",
    "    # Gera o sinal dente de serra\n",
    "    t = np.linspace(0, duracao, amostras)\n",
    "    sinal = signal.sawtooth(2 * np.pi * freq * t)\n",
    "    \n",
    "    # Gera o gráfico\n",
    "    plt.figure(figsize=(18, 6))\n",
    "    plt.plot(t, sinal, 'b-', label='Sinal Dente de Serra')\n",
    "    plt.grid(True)\n",
    "    plt.xlabel('Tempo (s)')\n",
    "    plt.ylabel('Amplitude')\n",
    "    plt.title(f'Onda Dente de Serra - {freq} Hz')\n",
    "    plt.legend()\n",
    "    plt.show() \n",
    "    \n",
    "    # Reproduz o sinal\n",
    "    display(Audio(sinal, rate=taxa_amostragem))\n",
    "    \n",
    "# Interface interativa\n",
    "interactive_plot = interactive(\n",
    "    onda_dente_de_serra,\n",
    "    freq=widgets.IntSlider(min=1, max=1000, step=1, value=1),\n",
    "    duracao=widgets.FloatSlider(min=0.1, max=10, step=0.1, value=1.0)\n",
    ")\n",
    "display(interactive_plot)"
   ]
  },
  {
   "cell_type": "markdown",
   "metadata": {},
   "source": [
    "## ADSR\n",
    "\n",
    "O som de um instrumento musical não é composto apenas pelo seu caráter harmônico, mas também pela sua **variação dinâmica** ao longo do tempo.\n",
    "\n",
    "---\n",
    "\n",
    "*O quanto demora para o som atingir o volume máximo?*\n",
    "\n",
    "*O quanto demora para o som atingir o volume mínimo?*\n",
    "\n",
    "*O quanto o som mantém o volume máximo?*\n",
    "\n",
    "*O quanto demora para o som atingir o volume zero?*\n",
    "\n",
    "---\n",
    "\n",
    "Essas perguntas são respondidas pelo conceito de **envelope sonoro**.\n",
    "\n",
    "Um **envelope sonoro** é uma função que descreve a variação da amplitude de um sinal ao longo do tempo.\n",
    "\n",
    "Um dos envelopes mais usados no mundo da síntese sonora é o **ADSR**, um acrônimo para **Attack**, **Decay**, **Sustain** e **Release**. Aplicado a um sinal sonoro, o ADSR colabora para a percepção um som como parte de um \"instrumento musical\".\n",
    "\n",
    "Vamos ouvir alguns exemplos de ADSR em ação."
   ]
  },
  {
   "cell_type": "markdown",
   "metadata": {},
   "source": [
    "---\n",
    "\n",
    "*Hora de abrir o Ableton Live...*\n",
    "\n",
    "---"
   ]
  },
  {
   "cell_type": "markdown",
   "metadata": {},
   "source": [
    "Vamos estudar cada uma das etapas do ADSR:\n",
    "\n",
    "1. **Attack**: é o tempo que o sinal leva para atingir o seu valor máximo. O ataque é o início do som.\n",
    "2. **Decay**: é o tempo que o sinal leva para atingir o valor de sustentação.\n",
    "3. **Sustain**: é o valor que o sinal mantém enquanto a tecla do instrumento é pressionada.\n",
    "4. **Release**: é o tempo que o sinal leva para atingir o valor zero após a tecla do instrumento ser solta."
   ]
  },
  {
   "cell_type": "code",
   "execution_count": 106,
   "metadata": {},
   "outputs": [
    {
     "data": {
      "application/vnd.jupyter.widget-view+json": {
       "model_id": "d080a4ddb10243ac9c5a6747f26b30b1",
       "version_major": 2,
       "version_minor": 0
      },
      "text/plain": [
       "interactive(children=(FloatSlider(value=0.1, description='a', max=1.0, step=0.01), FloatSlider(value=0.1, desc…"
      ]
     },
     "metadata": {},
     "output_type": "display_data"
    }
   ],
   "source": [
    "def aplica_adsr(sinal, a=0.1, d=0.1, s=0.7, r=0.2):\n",
    "    \"\"\"\n",
    "    Aplica envelope ADSR a um sinal de áudio.\n",
    "    \n",
    "    Parâmetros:\n",
    "    - sinal: o sinal de áudio de entrada\n",
    "    - a: tempo de attack (segundos)\n",
    "    - d: tempo de decay (segundos)\n",
    "    - s: nível de sustain (0-1)\n",
    "    - r: tempo de release (segundos)\n",
    "    \n",
    "    Retorna:\n",
    "    - sinal com envelope ADSR aplicado\n",
    "    \"\"\"\n",
    "    # Cria uma cópia do sinal para não modificar o original\n",
    "    sinal_adsr = np.copy(sinal)\n",
    "    \n",
    "    # Obtém o número de amostras total\n",
    "    num_amostras = len(sinal)\n",
    "    \n",
    "    # Converte tempos para número de amostras\n",
    "    a_samples = int(a * taxa_amostragem)\n",
    "    d_samples = int(d * taxa_amostragem)\n",
    "    r_samples = int(r * taxa_amostragem)\n",
    "    \n",
    "    # Calcula o ponto de sustain\n",
    "    sustain_start = a_samples + d_samples\n",
    "    sustain_end = num_amostras - r_samples\n",
    "    \n",
    "    # Envelope ADSR\n",
    "    envelope = np.ones(num_amostras)\n",
    "    \n",
    "    # Ataque (crescimento linear de 0 a 1)\n",
    "    if a_samples > 0:\n",
    "        envelope[:a_samples] = np.linspace(0, 1, a_samples)\n",
    "    \n",
    "    # Decay (decrescimento linear de 1 a s)\n",
    "    if d_samples > 0:\n",
    "        envelope[a_samples:sustain_start] = np.linspace(1, s, d_samples)\n",
    "    \n",
    "    # Sustain (valor constante s)\n",
    "    envelope[sustain_start:sustain_end] = s\n",
    "    \n",
    "    # Release (decrescimento linear de s a 0)\n",
    "    if r_samples > 0:\n",
    "        envelope[sustain_end:] = np.linspace(s, 0, r_samples)\n",
    "    \n",
    "    # Aplica o envelope ao sinal\n",
    "    sinal_adsr = sinal_adsr * envelope\n",
    "    \n",
    "    return sinal_adsr\n",
    "\n",
    "def adsr_interface(a=0.1, d=0.1, s=0.7, r=0.2):\n",
    "    # Gera um sinal senoidal de 1 segundo\n",
    "    sinal = np.sin(2 * np.pi * 440 * np.linspace(0, 1, taxa_amostragem))\n",
    "\n",
    "    # Aplica o envelope ADSR\n",
    "    sinal_adsr = aplica_adsr(sinal, a, d, s, r)\n",
    "    \n",
    "    # Gera o gráfico\n",
    "    plt.figure(figsize=(18, 6))\n",
    "    plt.plot(sinal, 'b-', label='Sinal Original')\n",
    "    plt.plot(sinal_adsr, 'r-', label='Sinal ADSR')\n",
    "    plt.grid(True)\n",
    "    plt.xlabel('Amostras')\n",
    "    plt.ylabel('Amplitude')\n",
    "    plt.title('Sinal com Envelope ADSR')\n",
    "    plt.legend()\n",
    "    plt.show()\n",
    "    \n",
    "    # Reproduz o sinal\n",
    "    display(Audio(sinal_adsr, rate=taxa_amostragem))\n",
    "\n",
    "# Interface interativa\n",
    "interactive_plot = interactive(\n",
    "    adsr_interface,\n",
    "    a=widgets.FloatSlider(min=0.0, max=1.0, step=0.01, value=0.1),\n",
    "    d=widgets.FloatSlider(min=0.0, max=1.0, step=0.01, value=0.1),\n",
    "    s=widgets.FloatSlider(min=0.0, max=1.0, step=0.01, value=0.7),\n",
    "    r=widgets.FloatSlider(min=0.0, max=1.0, step=0.01, value=0.2)\n",
    ")\n",
    "display(interactive_plot)"
   ]
  },
  {
   "cell_type": "markdown",
   "metadata": {},
   "source": [
    "## Modulação AM"
   ]
  }
 ],
 "metadata": {
  "kernelspec": {
   "display_name": "venv",
   "language": "python",
   "name": "python3"
  },
  "language_info": {
   "codemirror_mode": {
    "name": "ipython",
    "version": 3
   },
   "file_extension": ".py",
   "mimetype": "text/x-python",
   "name": "python",
   "nbconvert_exporter": "python",
   "pygments_lexer": "ipython3",
   "version": "3.10.12"
  }
 },
 "nbformat": 4,
 "nbformat_minor": 2
}
